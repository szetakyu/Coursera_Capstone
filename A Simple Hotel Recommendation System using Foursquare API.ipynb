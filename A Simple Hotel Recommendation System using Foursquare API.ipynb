{
 "cells": [
  {
   "cell_type": "code",
   "execution_count": 1,
   "metadata": {},
   "outputs": [],
   "source": [
    "from bs4 import BeautifulSoup\n",
    "import requests\n",
    "import pandas as pd\n",
    "import numpy as np\n",
    "\n",
    "from geopy.geocoders import Nominatim # convert an address into latitude and longitude values\n",
    "import folium # map rendering library\n",
    "\n",
    "from pandas.io.json import json_normalize # tranform JSON file into a pandas dataframe\n",
    "\n",
    "# Matplotlib and associated plotting modules\n",
    "import matplotlib.cm as cm\n",
    "import matplotlib.colors as colors\n",
    "import matplotlib.pyplot as plt\n",
    "\n",
    "# import k-means from clustering stage\n",
    "from sklearn.cluster import KMeans\n",
    "from sklearn.preprocessing import StandardScaler\n",
    "\n",
    "pd.options.mode.chained_assignment = None"
   ]
  },
  {
   "cell_type": "markdown",
   "metadata": {},
   "source": [
    "# A Simple Hotel Recommendation Based on Attractions Distances and Hotel Rating"
   ]
  },
  {
   "cell_type": "markdown",
   "metadata": {},
   "source": [
    "# 1 Introduction\n",
    "\n",
    "For those who like to travel with more freedom, it is sometimes hard and time-consuming to choose which hotel to stay based on a number of tourist attractions planning to go in a way that would shorten the time between the hotel and attractions. It would be nice to be able to choose a hotel based on the distance to tourist attractions and hotels’ rating as a simple recommendation. The further potential application might be a smart trip planning application if local transportation information is easily available."
   ]
  },
  {
   "cell_type": "markdown",
   "metadata": {},
   "source": [
    "# 2 Data"
   ]
  },
  {
   "cell_type": "markdown",
   "metadata": {},
   "source": [
    "1. We want the user to input the city, the number of tourist attractions planning and the minimum rating. \n",
    "2. We also want the user to specify hotels' minimum rating so hotels of poor rating will not be recommended."
   ]
  },
  {
   "cell_type": "code",
   "execution_count": 2,
   "metadata": {},
   "outputs": [],
   "source": [
    "city = 'Toronto'\n",
    "num_attr_to_go = 4\n",
    "min_attr_rating = 7\n",
    "min_hotel_rating = 8"
   ]
  },
  {
   "cell_type": "markdown",
   "metadata": {},
   "source": [
    "3. Then, tourist attractions and nearby hotels' geographical locations will be queried using the Foursquare API to calculate the distance from the hotel to attractions. For data of hotels and attractions without a rating, geographical information or category, it will be filtered."
   ]
  },
  {
   "cell_type": "code",
   "execution_count": 3,
   "metadata": {},
   "outputs": [
    {
     "name": "stdout",
     "output_type": "stream",
     "text": [
      "The geograpical coordinate of Toronto are 43.653963, -79.387207.\n"
     ]
    }
   ],
   "source": [
    "# Geographical location of Toronto\n",
    "tt_latitude = 43.653963\n",
    "tt_longitude = -79.387207\n",
    "print('The geograpical coordinate of Toronto are {}, {}.'.format(tt_latitude, tt_longitude))"
   ]
  },
  {
   "cell_type": "code",
   "execution_count": 4,
   "metadata": {},
   "outputs": [
    {
     "name": "stdout",
     "output_type": "stream",
     "text": [
      "https://api.foursquare.com/v2/search/recommendations?locale=en&explicit-lang=false&v=20190702&m=foursquare&query=Attraction&ll=43.653963,-79.387207&limit=100&radius=20000&wsid=3ON5SYSE1F5HB2HFVRUEWYYIAIM4HK&oauth_token=Z2ZGPZBA1A5LSTJDHCQZ2GY43HNKTNL1UVTHQ5KR3E1G1XGN\n"
     ]
    }
   ],
   "source": [
    "# Search for attractions using foursquare api\n",
    "url_attr = ('https://api.foursquare.com/v2/'\n",
    "    'search/recommendations?locale=en&explicit-lang=false&'\n",
    "    'v=20190702&'\n",
    "    'm=foursquare&'\n",
    "    'query=Attraction&'\n",
    "    'll=43.653963,-79.387207&'\n",
    "    'limit=100&'\n",
    "    'radius=20000&'\n",
    "    'wsid=3ON5SYSE1F5HB2HFVRUEWYYIAIM4HK&'\n",
    "    'oauth_token=Z2ZGPZBA1A5LSTJDHCQZ2GY43HNKTNL1UVTHQ5KR3E1G1XGN')\n",
    "\n",
    "print(url_attr)\n",
    "results_attr = requests.get(url_attr).json()\n"
   ]
  },
  {
   "cell_type": "code",
   "execution_count": 5,
   "metadata": {},
   "outputs": [],
   "source": [
    "# Json to dataframe\n",
    "attr = results_attr['response']['group']['results']\n",
    "df_attr = json_normalize(attr) # flatten JSON\n",
    "\n",
    "# Filter columns\n",
    "filtered_columns = ['venue.name', 'venue.rating', 'venue.location.city','venue.location.lat', 'venue.location.lng','venue.categories']\n",
    "df_attr = df_attr.loc[:, filtered_columns]"
   ]
  },
  {
   "cell_type": "code",
   "execution_count": 6,
   "metadata": {},
   "outputs": [],
   "source": [
    "# Function that extracts the category of the venue\n",
    "def get_category_type(row):\n",
    "    categories_list = 0\n",
    "    try:\n",
    "        categories_list = row['venue.categories']\n",
    "        return categories_list[0]['name']\n",
    "    except:\n",
    "        return None"
   ]
  },
  {
   "cell_type": "code",
   "execution_count": 7,
   "metadata": {},
   "outputs": [],
   "source": [
    "# Filter the category for each row\n",
    "df_attr['venue.categories'] = df_attr.apply(get_category_type, axis=1)"
   ]
  },
  {
   "cell_type": "code",
   "execution_count": 8,
   "metadata": {},
   "outputs": [
    {
     "name": "stdout",
     "output_type": "stream",
     "text": [
      "Interested category:\n",
      "['History Museum', 'Theme Park', 'Castle', 'Park', 'Museum', 'Monument and Landmark', 'Historic Site', 'Trail', 'Scenic Lookout']\n"
     ]
    }
   ],
   "source": [
    "interested_category = ['History Museum',\n",
    "                       'Theme Park',\n",
    "                       'Castle','Park',\n",
    "                       'Museum',\n",
    "                       'Monument and Landmark',\n",
    "                       'Historic Site',\n",
    "                       'Trail',\n",
    "                       'Scenic Lookout']\n",
    "print(\"Interested category:\")\n",
    "print(interested_category)"
   ]
  },
  {
   "cell_type": "code",
   "execution_count": 9,
   "metadata": {},
   "outputs": [],
   "source": [
    "def isWanted(row):\n",
    "    return row['venue.categories'] in interested_category and \\\n",
    "            row['venue.rating'] >= min_attr_rating and \\\n",
    "            row['venue.location.city'] == city\n",
    "\n",
    "df_attr = df_attr[df_attr.apply(isWanted,axis=1)]\n",
    "df_attr.reset_index(drop=True,inplace=True)"
   ]
  },
  {
   "cell_type": "code",
   "execution_count": 10,
   "metadata": {},
   "outputs": [
    {
     "data": {
      "text/html": [
       "<div>\n",
       "<style scoped>\n",
       "    .dataframe tbody tr th:only-of-type {\n",
       "        vertical-align: middle;\n",
       "    }\n",
       "\n",
       "    .dataframe tbody tr th {\n",
       "        vertical-align: top;\n",
       "    }\n",
       "\n",
       "    .dataframe thead th {\n",
       "        text-align: right;\n",
       "    }\n",
       "</style>\n",
       "<table border=\"1\" class=\"dataframe\">\n",
       "  <thead>\n",
       "    <tr style=\"text-align: right;\">\n",
       "      <th></th>\n",
       "      <th>name</th>\n",
       "      <th>rating</th>\n",
       "      <th>city</th>\n",
       "      <th>lat</th>\n",
       "      <th>lng</th>\n",
       "      <th>categories</th>\n",
       "    </tr>\n",
       "  </thead>\n",
       "  <tbody>\n",
       "    <tr>\n",
       "      <th>0</th>\n",
       "      <td>Centreville Amusement Park</td>\n",
       "      <td>8.1</td>\n",
       "      <td>Toronto</td>\n",
       "      <td>43.620370</td>\n",
       "      <td>-79.373792</td>\n",
       "      <td>Theme Park</td>\n",
       "    </tr>\n",
       "    <tr>\n",
       "      <th>1</th>\n",
       "      <td>Casa Loma</td>\n",
       "      <td>8.8</td>\n",
       "      <td>Toronto</td>\n",
       "      <td>43.677934</td>\n",
       "      <td>-79.409521</td>\n",
       "      <td>Castle</td>\n",
       "    </tr>\n",
       "    <tr>\n",
       "      <th>2</th>\n",
       "      <td>The Distillery Historic District</td>\n",
       "      <td>9.3</td>\n",
       "      <td>Toronto</td>\n",
       "      <td>43.650244</td>\n",
       "      <td>-79.359323</td>\n",
       "      <td>Historic Site</td>\n",
       "    </tr>\n",
       "    <tr>\n",
       "      <th>3</th>\n",
       "      <td>Royal Ontario Museum</td>\n",
       "      <td>9.1</td>\n",
       "      <td>Toronto</td>\n",
       "      <td>43.668367</td>\n",
       "      <td>-79.394813</td>\n",
       "      <td>Museum</td>\n",
       "    </tr>\n",
       "    <tr>\n",
       "      <th>4</th>\n",
       "      <td>Spadina Museum: Historic House &amp; Gardens</td>\n",
       "      <td>7.4</td>\n",
       "      <td>Toronto</td>\n",
       "      <td>43.678883</td>\n",
       "      <td>-79.408858</td>\n",
       "      <td>History Museum</td>\n",
       "    </tr>\n",
       "  </tbody>\n",
       "</table>\n",
       "</div>"
      ],
      "text/plain": [
       "                                       name  rating     city        lat  \\\n",
       "0                Centreville Amusement Park     8.1  Toronto  43.620370   \n",
       "1                                 Casa Loma     8.8  Toronto  43.677934   \n",
       "2          The Distillery Historic District     9.3  Toronto  43.650244   \n",
       "3                      Royal Ontario Museum     9.1  Toronto  43.668367   \n",
       "4  Spadina Museum: Historic House & Gardens     7.4  Toronto  43.678883   \n",
       "\n",
       "         lng      categories  \n",
       "0 -79.373792      Theme Park  \n",
       "1 -79.409521          Castle  \n",
       "2 -79.359323   Historic Site  \n",
       "3 -79.394813          Museum  \n",
       "4 -79.408858  History Museum  "
      ]
     },
     "execution_count": 10,
     "metadata": {},
     "output_type": "execute_result"
    }
   ],
   "source": [
    "# Clean columns\n",
    "df_attr.columns = [col.split(\".\")[-1] for col in df_attr.columns]\n",
    "df_attr.head()"
   ]
  },
  {
   "cell_type": "code",
   "execution_count": 11,
   "metadata": {},
   "outputs": [
    {
     "name": "stdout",
     "output_type": "stream",
     "text": [
      "5 tourist attractions were returned by Foursquare API.\n"
     ]
    }
   ],
   "source": [
    "print('{} tourist attractions were returned by Foursquare API.'.format(df_attr.shape[0]))"
   ]
  },
  {
   "cell_type": "code",
   "execution_count": 12,
   "metadata": {},
   "outputs": [
    {
     "name": "stdout",
     "output_type": "stream",
     "text": [
      "https://api.foursquare.com/v2/search/recommendations?locale=en&explicit-lang=false&v=20190702&m=foursquare&query=Hotel&ll=43.653963,-79.387207&limit=100&radius=20000&wsid=3ON5SYSE1F5HB2HFVRUEWYYIAIM4HK&oauth_token=Z2ZGPZBA1A5LSTJDHCQZ2GY43HNKTNL1UVTHQ5KR3E1G1XGN\n"
     ]
    }
   ],
   "source": [
    "# Search for hotels using foursquare api\n",
    "url_hotel = ('https://api.foursquare.com/v2/'\n",
    "    'search/recommendations?locale=en&explicit-lang=false&'\n",
    "    'v=20190702&'\n",
    "    'm=foursquare&'\n",
    "    'query=Hotel&'\n",
    "    'll=43.653963,-79.387207&'\n",
    "    'limit=100&'\n",
    "    'radius=20000&'\n",
    "    'wsid=3ON5SYSE1F5HB2HFVRUEWYYIAIM4HK&'\n",
    "    'oauth_token=Z2ZGPZBA1A5LSTJDHCQZ2GY43HNKTNL1UVTHQ5KR3E1G1XGN')\n",
    "print(url_hotel)\n",
    "\n",
    "results_hotel = requests.get(url_hotel).json()"
   ]
  },
  {
   "cell_type": "code",
   "execution_count": 13,
   "metadata": {},
   "outputs": [],
   "source": [
    "df_hotels = results_hotel['response']['group']['results']\n",
    "df_hotels = json_normalize(df_hotels) # flatten JSON\n",
    "\n",
    "# filter columns\n",
    "df_hotels = df_hotels.loc[:, filtered_columns]\n",
    "\n",
    "df_hotels.dropna(subset=[\"venue.categories\",\"venue.rating\"], axis=0, inplace=True)\n",
    "df_hotels.reset_index(drop=True, inplace=True)\n",
    "\n",
    "# filter the category for each row\n",
    "df_hotels['venue.categories'] = df_hotels.apply(get_category_type, axis=1)"
   ]
  },
  {
   "cell_type": "code",
   "execution_count": 14,
   "metadata": {},
   "outputs": [],
   "source": [
    "interested_category_hotel = 'Hotel'\n",
    "\n",
    "def is_at_Toronto(row):\n",
    "    return  row['venue.categories'] in interested_category_hotel and \\\n",
    "            row['venue.location.city'] == city\n",
    "\n",
    "df_hotels = df_hotels[df_hotels.apply(is_at_Toronto, axis=1)]\n",
    "df_hotels.reset_index(drop=True,inplace=True)"
   ]
  },
  {
   "cell_type": "code",
   "execution_count": 15,
   "metadata": {
    "scrolled": true
   },
   "outputs": [
    {
     "data": {
      "text/html": [
       "<div>\n",
       "<style scoped>\n",
       "    .dataframe tbody tr th:only-of-type {\n",
       "        vertical-align: middle;\n",
       "    }\n",
       "\n",
       "    .dataframe tbody tr th {\n",
       "        vertical-align: top;\n",
       "    }\n",
       "\n",
       "    .dataframe thead th {\n",
       "        text-align: right;\n",
       "    }\n",
       "</style>\n",
       "<table border=\"1\" class=\"dataframe\">\n",
       "  <thead>\n",
       "    <tr style=\"text-align: right;\">\n",
       "      <th></th>\n",
       "      <th>name</th>\n",
       "      <th>rating</th>\n",
       "      <th>city</th>\n",
       "      <th>lat</th>\n",
       "      <th>lng</th>\n",
       "      <th>categories</th>\n",
       "    </tr>\n",
       "  </thead>\n",
       "  <tbody>\n",
       "    <tr>\n",
       "      <th>0</th>\n",
       "      <td>Shangri-La Toronto</td>\n",
       "      <td>9.0</td>\n",
       "      <td>Toronto</td>\n",
       "      <td>43.649129</td>\n",
       "      <td>-79.386557</td>\n",
       "      <td>Hotel</td>\n",
       "    </tr>\n",
       "    <tr>\n",
       "      <th>1</th>\n",
       "      <td>Delta Hotels by Marriott Toronto</td>\n",
       "      <td>9.3</td>\n",
       "      <td>Toronto</td>\n",
       "      <td>43.642882</td>\n",
       "      <td>-79.383949</td>\n",
       "      <td>Hotel</td>\n",
       "    </tr>\n",
       "    <tr>\n",
       "      <th>2</th>\n",
       "      <td>The Fairmont Royal York</td>\n",
       "      <td>8.7</td>\n",
       "      <td>Toronto</td>\n",
       "      <td>43.645449</td>\n",
       "      <td>-79.381508</td>\n",
       "      <td>Hotel</td>\n",
       "    </tr>\n",
       "    <tr>\n",
       "      <th>3</th>\n",
       "      <td>The Ritz-Carlton Toronto</td>\n",
       "      <td>8.7</td>\n",
       "      <td>Toronto</td>\n",
       "      <td>43.645330</td>\n",
       "      <td>-79.387089</td>\n",
       "      <td>Hotel</td>\n",
       "    </tr>\n",
       "    <tr>\n",
       "      <th>4</th>\n",
       "      <td>The Grand Hotel &amp; Suites Toronto</td>\n",
       "      <td>9.0</td>\n",
       "      <td>Toronto</td>\n",
       "      <td>43.656449</td>\n",
       "      <td>-79.374110</td>\n",
       "      <td>Hotel</td>\n",
       "    </tr>\n",
       "  </tbody>\n",
       "</table>\n",
       "</div>"
      ],
      "text/plain": [
       "                               name  rating     city        lat        lng  \\\n",
       "0                Shangri-La Toronto     9.0  Toronto  43.649129 -79.386557   \n",
       "1  Delta Hotels by Marriott Toronto     9.3  Toronto  43.642882 -79.383949   \n",
       "2           The Fairmont Royal York     8.7  Toronto  43.645449 -79.381508   \n",
       "3          The Ritz-Carlton Toronto     8.7  Toronto  43.645330 -79.387089   \n",
       "4  The Grand Hotel & Suites Toronto     9.0  Toronto  43.656449 -79.374110   \n",
       "\n",
       "  categories  \n",
       "0      Hotel  \n",
       "1      Hotel  \n",
       "2      Hotel  \n",
       "3      Hotel  \n",
       "4      Hotel  "
      ]
     },
     "execution_count": 15,
     "metadata": {},
     "output_type": "execute_result"
    }
   ],
   "source": [
    "# Clean columns\n",
    "df_hotels.columns = [col.split(\".\")[-1] for col in df_hotels.columns]\n",
    "df_hotels.head()"
   ]
  },
  {
   "cell_type": "code",
   "execution_count": 16,
   "metadata": {},
   "outputs": [
    {
     "name": "stdout",
     "output_type": "stream",
     "text": [
      "(67, 6)\n"
     ]
    }
   ],
   "source": [
    "print(df_hotels.shape)"
   ]
  },
  {
   "cell_type": "markdown",
   "metadata": {},
   "source": [
    "# Methodology"
   ]
  },
  {
   "cell_type": "markdown",
   "metadata": {},
   "source": [
    "This system gives recommendations based on the distance between hotels and attractions and hotels' rating. The shorter the distance between the hotel and tourist attraction and the higher the hotel rating, the higher the recommendation will be given.\n",
    "\n",
    "We first find the distance of each hotel to each attraction and we average those distances for each hotel."
   ]
  },
  {
   "cell_type": "code",
   "execution_count": 17,
   "metadata": {},
   "outputs": [],
   "source": [
    "import math\n",
    "\n",
    "# Define method to find distance by lattidude and longitude\n",
    "def dist_by_lat_lng(lat1,lon1,lat2,lon2):\n",
    "    R = 6371e3   # Earth's radius in meter\n",
    "    φ1 = math.radians(lat1)\n",
    "    φ2 = math.radians(lat2)\n",
    "    Δφ = math.radians(lat2-lat1)\n",
    "    Δλ = math.radians(lon2-lon1)\n",
    "\n",
    "    a = math.sin(Δφ/2) * math.sin(Δφ/2) + \\\n",
    "        math.cos(φ1) * math.cos(φ2) * \\\n",
    "        math.sin(Δλ/2) * math.sin(Δλ/2)\n",
    "    c = 2 * math.atan2(math.sqrt(a), math.sqrt(1-a))\n",
    "\n",
    "    return R * c\n",
    "\n",
    "def avg_dist_to_attr(row, df_attr):\n",
    "    lat1 = row['lat']\n",
    "    lon1 = row['lng']\n",
    "    attr_row = df_attr.shape[0]\n",
    "    \n",
    "    dis = 0\n",
    "    for lat2,lon2 in zip(df_attr['lat'],df_attr['lng']):\n",
    "        dis += dist_by_lat_lng(lat1,lon1,lat2,lon2)\n",
    "    \n",
    "    return dis/attr_row"
   ]
  },
  {
   "cell_type": "code",
   "execution_count": 18,
   "metadata": {
    "scrolled": false
   },
   "outputs": [
    {
     "data": {
      "text/html": [
       "<div>\n",
       "<style scoped>\n",
       "    .dataframe tbody tr th:only-of-type {\n",
       "        vertical-align: middle;\n",
       "    }\n",
       "\n",
       "    .dataframe tbody tr th {\n",
       "        vertical-align: top;\n",
       "    }\n",
       "\n",
       "    .dataframe thead th {\n",
       "        text-align: right;\n",
       "    }\n",
       "</style>\n",
       "<table border=\"1\" class=\"dataframe\">\n",
       "  <thead>\n",
       "    <tr style=\"text-align: right;\">\n",
       "      <th></th>\n",
       "      <th>name</th>\n",
       "      <th>rating</th>\n",
       "      <th>city</th>\n",
       "      <th>lat</th>\n",
       "      <th>lng</th>\n",
       "      <th>categories</th>\n",
       "      <th>dist</th>\n",
       "    </tr>\n",
       "  </thead>\n",
       "  <tbody>\n",
       "    <tr>\n",
       "      <th>0</th>\n",
       "      <td>Shangri-La Toronto</td>\n",
       "      <td>9.0</td>\n",
       "      <td>Toronto</td>\n",
       "      <td>43.649129</td>\n",
       "      <td>-79.386557</td>\n",
       "      <td>Hotel</td>\n",
       "      <td>3050.887840</td>\n",
       "    </tr>\n",
       "    <tr>\n",
       "      <th>1</th>\n",
       "      <td>Delta Hotels by Marriott Toronto</td>\n",
       "      <td>9.3</td>\n",
       "      <td>Toronto</td>\n",
       "      <td>43.642882</td>\n",
       "      <td>-79.383949</td>\n",
       "      <td>Hotel</td>\n",
       "      <td>3325.326945</td>\n",
       "    </tr>\n",
       "    <tr>\n",
       "      <th>2</th>\n",
       "      <td>The Fairmont Royal York</td>\n",
       "      <td>8.7</td>\n",
       "      <td>Toronto</td>\n",
       "      <td>43.645449</td>\n",
       "      <td>-79.381508</td>\n",
       "      <td>Hotel</td>\n",
       "      <td>3212.265661</td>\n",
       "    </tr>\n",
       "    <tr>\n",
       "      <th>3</th>\n",
       "      <td>The Ritz-Carlton Toronto</td>\n",
       "      <td>8.7</td>\n",
       "      <td>Toronto</td>\n",
       "      <td>43.645330</td>\n",
       "      <td>-79.387089</td>\n",
       "      <td>Hotel</td>\n",
       "      <td>3216.308478</td>\n",
       "    </tr>\n",
       "    <tr>\n",
       "      <th>4</th>\n",
       "      <td>The Grand Hotel &amp; Suites Toronto</td>\n",
       "      <td>9.0</td>\n",
       "      <td>Toronto</td>\n",
       "      <td>43.656449</td>\n",
       "      <td>-79.374110</td>\n",
       "      <td>Hotel</td>\n",
       "      <td>2995.854308</td>\n",
       "    </tr>\n",
       "  </tbody>\n",
       "</table>\n",
       "</div>"
      ],
      "text/plain": [
       "                               name  rating     city        lat        lng  \\\n",
       "0                Shangri-La Toronto     9.0  Toronto  43.649129 -79.386557   \n",
       "1  Delta Hotels by Marriott Toronto     9.3  Toronto  43.642882 -79.383949   \n",
       "2           The Fairmont Royal York     8.7  Toronto  43.645449 -79.381508   \n",
       "3          The Ritz-Carlton Toronto     8.7  Toronto  43.645330 -79.387089   \n",
       "4  The Grand Hotel & Suites Toronto     9.0  Toronto  43.656449 -79.374110   \n",
       "\n",
       "  categories         dist  \n",
       "0      Hotel  3050.887840  \n",
       "1      Hotel  3325.326945  \n",
       "2      Hotel  3212.265661  \n",
       "3      Hotel  3216.308478  \n",
       "4      Hotel  2995.854308  "
      ]
     },
     "execution_count": 18,
     "metadata": {},
     "output_type": "execute_result"
    }
   ],
   "source": [
    "df_hotels['dist']=df_hotels.apply(avg_dist_to_attr, df_attr=df_attr, axis=1)\n",
    "df_hotels.head()"
   ]
  },
  {
   "cell_type": "markdown",
   "metadata": {},
   "source": [
    "### Exploratory Data Analysis\n",
    "#### Relation between average hotel distance to chosen attractions and hotel rating"
   ]
  },
  {
   "cell_type": "code",
   "execution_count": 19,
   "metadata": {
    "scrolled": true
   },
   "outputs": [
    {
     "data": {
      "image/png": "[encoded data removed]",
      "text/plain": [
       "<Figure size 432x288 with 1 Axes>"
      ]
     },
     "metadata": {},
     "output_type": "display_data"
    }
   ],
   "source": [
    "# Plot Scatter plot\n",
    "plt.scatter(df_hotels['dist'], df_hotels['rating'])\n",
    "plt.title('Relation between average hotel distance to chosen attactions and hotel rating')\n",
    "plt.xlabel('Average distance of a hotel to chosen attractions')\n",
    "plt.ylabel('Rating of a hotel')\n",
    "plt.show()"
   ]
  },
  {
   "cell_type": "markdown",
   "metadata": {},
   "source": [
    "#### Distribution of average distance of hotel to chosen attractions"
   ]
  },
  {
   "cell_type": "code",
   "execution_count": 20,
   "metadata": {
    "scrolled": false
   },
   "outputs": [
    {
     "data": {
      "image/png": "[encoded data removed]",
      "text/plain": [
       "<Figure size 432x288 with 1 Axes>"
      ]
     },
     "metadata": {},
     "output_type": "display_data"
    }
   ],
   "source": [
    "# Plot histogram\n",
    "df_hotels['dist'].hist()\n",
    "plt.title('Historgram of average distance of hotel to chosen attractions')\n",
    "plt.xlabel('Average distance of hotel to chosen attractions')\n",
    "plt.ylabel('Number of hotels')\n",
    "plt.show()"
   ]
  },
  {
   "cell_type": "markdown",
   "metadata": {},
   "source": [
    "#### Distribution of hotel rating"
   ]
  },
  {
   "cell_type": "code",
   "execution_count": 21,
   "metadata": {
    "scrolled": true
   },
   "outputs": [
    {
     "data": {
      "image/png": "[encoded data removed]",
      "text/plain": [
       "<Figure size 432x288 with 1 Axes>"
      ]
     },
     "metadata": {},
     "output_type": "display_data"
    }
   ],
   "source": [
    "df_hotels['rating'].hist()\n",
    "plt.title('Historgram of hotel rating ')\n",
    "plt.xlabel('Hotel Rating')\n",
    "plt.ylabel('Number of hotels')\n",
    "plt.show()\n",
    "\n",
    "plt.show()"
   ]
  },
  {
   "cell_type": "markdown",
   "metadata": {},
   "source": [
    "#### K-means clustering into groups"
   ]
  },
  {
   "cell_type": "code",
   "execution_count": 22,
   "metadata": {},
   "outputs": [
    {
     "data": {
      "text/html": [
       "<div>\n",
       "<style scoped>\n",
       "    .dataframe tbody tr th:only-of-type {\n",
       "        vertical-align: middle;\n",
       "    }\n",
       "\n",
       "    .dataframe tbody tr th {\n",
       "        vertical-align: top;\n",
       "    }\n",
       "\n",
       "    .dataframe thead th {\n",
       "        text-align: right;\n",
       "    }\n",
       "</style>\n",
       "<table border=\"1\" class=\"dataframe\">\n",
       "  <thead>\n",
       "    <tr style=\"text-align: right;\">\n",
       "      <th></th>\n",
       "      <th>name</th>\n",
       "      <th>rating</th>\n",
       "      <th>city</th>\n",
       "      <th>lat</th>\n",
       "      <th>lng</th>\n",
       "      <th>categories</th>\n",
       "      <th>dist</th>\n",
       "      <th>cluster</th>\n",
       "    </tr>\n",
       "  </thead>\n",
       "  <tbody>\n",
       "    <tr>\n",
       "      <th>0</th>\n",
       "      <td>Shangri-La Toronto</td>\n",
       "      <td>9.0</td>\n",
       "      <td>Toronto</td>\n",
       "      <td>43.649129</td>\n",
       "      <td>-79.386557</td>\n",
       "      <td>Hotel</td>\n",
       "      <td>3050.887840</td>\n",
       "      <td>2</td>\n",
       "    </tr>\n",
       "    <tr>\n",
       "      <th>1</th>\n",
       "      <td>Delta Hotels by Marriott Toronto</td>\n",
       "      <td>9.3</td>\n",
       "      <td>Toronto</td>\n",
       "      <td>43.642882</td>\n",
       "      <td>-79.383949</td>\n",
       "      <td>Hotel</td>\n",
       "      <td>3325.326945</td>\n",
       "      <td>2</td>\n",
       "    </tr>\n",
       "    <tr>\n",
       "      <th>2</th>\n",
       "      <td>The Fairmont Royal York</td>\n",
       "      <td>8.7</td>\n",
       "      <td>Toronto</td>\n",
       "      <td>43.645449</td>\n",
       "      <td>-79.381508</td>\n",
       "      <td>Hotel</td>\n",
       "      <td>3212.265661</td>\n",
       "      <td>2</td>\n",
       "    </tr>\n",
       "    <tr>\n",
       "      <th>3</th>\n",
       "      <td>The Ritz-Carlton Toronto</td>\n",
       "      <td>8.7</td>\n",
       "      <td>Toronto</td>\n",
       "      <td>43.645330</td>\n",
       "      <td>-79.387089</td>\n",
       "      <td>Hotel</td>\n",
       "      <td>3216.308478</td>\n",
       "      <td>2</td>\n",
       "    </tr>\n",
       "    <tr>\n",
       "      <th>4</th>\n",
       "      <td>The Grand Hotel &amp; Suites Toronto</td>\n",
       "      <td>9.0</td>\n",
       "      <td>Toronto</td>\n",
       "      <td>43.656449</td>\n",
       "      <td>-79.374110</td>\n",
       "      <td>Hotel</td>\n",
       "      <td>2995.854308</td>\n",
       "      <td>2</td>\n",
       "    </tr>\n",
       "  </tbody>\n",
       "</table>\n",
       "</div>"
      ],
      "text/plain": [
       "                               name  rating     city        lat        lng  \\\n",
       "0                Shangri-La Toronto     9.0  Toronto  43.649129 -79.386557   \n",
       "1  Delta Hotels by Marriott Toronto     9.3  Toronto  43.642882 -79.383949   \n",
       "2           The Fairmont Royal York     8.7  Toronto  43.645449 -79.381508   \n",
       "3          The Ritz-Carlton Toronto     8.7  Toronto  43.645330 -79.387089   \n",
       "4  The Grand Hotel & Suites Toronto     9.0  Toronto  43.656449 -79.374110   \n",
       "\n",
       "  categories         dist  cluster  \n",
       "0      Hotel  3050.887840        2  \n",
       "1      Hotel  3325.326945        2  \n",
       "2      Hotel  3212.265661        2  \n",
       "3      Hotel  3216.308478        2  \n",
       "4      Hotel  2995.854308        2  "
      ]
     },
     "execution_count": 22,
     "metadata": {},
     "output_type": "execute_result"
    }
   ],
   "source": [
    "# Normalize for kmeans\n",
    "df_hotel_kmean = df_hotels.drop(columns=['name',\n",
    "                                        'lat',\n",
    "                                        'lng',\n",
    "                                        'city',\n",
    "                                        'categories'])\n",
    "\n",
    "hotel_normalized = StandardScaler().fit_transform(df_hotel_kmean.values)\n",
    "\n",
    "\n",
    "# Run k-means clustering\n",
    "num_clusters = 5\n",
    "kmeans = KMeans(n_clusters=num_clusters, \n",
    "                random_state=0).fit(hotel_normalized)\n",
    "\n",
    "df_hotels['cluster'] = kmeans.labels_\n",
    "df_hotels.head()"
   ]
  },
  {
   "cell_type": "markdown",
   "metadata": {},
   "source": [
    "#### Recommendation strategy"
   ]
  },
  {
   "cell_type": "markdown",
   "metadata": {},
   "source": [
    "Only with clustering is not enough, we have to decide which cluster to recommend to the user. As we know that the higher the hotel rating and the shorter the distance between the hotel and chosen attractions, the better the recommendation. A simple way to represent this is simply multiply the rating and inverse of the average distance."
   ]
  },
  {
   "cell_type": "code",
   "execution_count": 23,
   "metadata": {},
   "outputs": [],
   "source": [
    "def rod(row):\n",
    "    return row['rating']/row['dist']\n",
    "\n",
    "df_hotels['rod'] = df_hotels.apply(rod, axis=1)"
   ]
  },
  {
   "cell_type": "code",
   "execution_count": 24,
   "metadata": {
    "scrolled": true
   },
   "outputs": [
    {
     "data": {
      "text/html": [
       "<div>\n",
       "<style scoped>\n",
       "    .dataframe tbody tr th:only-of-type {\n",
       "        vertical-align: middle;\n",
       "    }\n",
       "\n",
       "    .dataframe tbody tr th {\n",
       "        vertical-align: top;\n",
       "    }\n",
       "\n",
       "    .dataframe thead th {\n",
       "        text-align: right;\n",
       "    }\n",
       "</style>\n",
       "<table border=\"1\" class=\"dataframe\">\n",
       "  <thead>\n",
       "    <tr style=\"text-align: right;\">\n",
       "      <th></th>\n",
       "      <th>name</th>\n",
       "      <th>rating</th>\n",
       "      <th>city</th>\n",
       "      <th>lat</th>\n",
       "      <th>lng</th>\n",
       "      <th>categories</th>\n",
       "      <th>dist</th>\n",
       "      <th>cluster</th>\n",
       "      <th>rod</th>\n",
       "    </tr>\n",
       "  </thead>\n",
       "  <tbody>\n",
       "    <tr>\n",
       "      <th>0</th>\n",
       "      <td>Four Seasons Hotel Toronto</td>\n",
       "      <td>8.7</td>\n",
       "      <td>Toronto</td>\n",
       "      <td>43.671796</td>\n",
       "      <td>-79.389457</td>\n",
       "      <td>Hotel</td>\n",
       "      <td>2667.946190</td>\n",
       "      <td>2</td>\n",
       "      <td>0.003261</td>\n",
       "    </tr>\n",
       "    <tr>\n",
       "      <th>1</th>\n",
       "      <td>The Hazelton Hotel</td>\n",
       "      <td>8.3</td>\n",
       "      <td>Toronto</td>\n",
       "      <td>43.670764</td>\n",
       "      <td>-79.393257</td>\n",
       "      <td>Hotel</td>\n",
       "      <td>2549.653127</td>\n",
       "      <td>2</td>\n",
       "      <td>0.003255</td>\n",
       "    </tr>\n",
       "    <tr>\n",
       "      <th>2</th>\n",
       "      <td>The Grand Hotel &amp; Suites Toronto</td>\n",
       "      <td>9.0</td>\n",
       "      <td>Toronto</td>\n",
       "      <td>43.656449</td>\n",
       "      <td>-79.374110</td>\n",
       "      <td>Hotel</td>\n",
       "      <td>2995.854308</td>\n",
       "      <td>2</td>\n",
       "      <td>0.003004</td>\n",
       "    </tr>\n",
       "    <tr>\n",
       "      <th>3</th>\n",
       "      <td>Shangri-La Toronto</td>\n",
       "      <td>9.0</td>\n",
       "      <td>Toronto</td>\n",
       "      <td>43.649129</td>\n",
       "      <td>-79.386557</td>\n",
       "      <td>Hotel</td>\n",
       "      <td>3050.887840</td>\n",
       "      <td>2</td>\n",
       "      <td>0.002950</td>\n",
       "    </tr>\n",
       "    <tr>\n",
       "      <th>4</th>\n",
       "      <td>Windsor Arms Hotel</td>\n",
       "      <td>7.5</td>\n",
       "      <td>Toronto</td>\n",
       "      <td>43.668781</td>\n",
       "      <td>-79.390850</td>\n",
       "      <td>Hotel</td>\n",
       "      <td>2558.494501</td>\n",
       "      <td>0</td>\n",
       "      <td>0.002931</td>\n",
       "    </tr>\n",
       "  </tbody>\n",
       "</table>\n",
       "</div>"
      ],
      "text/plain": [
       "                               name  rating     city        lat        lng  \\\n",
       "0        Four Seasons Hotel Toronto     8.7  Toronto  43.671796 -79.389457   \n",
       "1                The Hazelton Hotel     8.3  Toronto  43.670764 -79.393257   \n",
       "2  The Grand Hotel & Suites Toronto     9.0  Toronto  43.656449 -79.374110   \n",
       "3                Shangri-La Toronto     9.0  Toronto  43.649129 -79.386557   \n",
       "4                Windsor Arms Hotel     7.5  Toronto  43.668781 -79.390850   \n",
       "\n",
       "  categories         dist  cluster       rod  \n",
       "0      Hotel  2667.946190        2  0.003261  \n",
       "1      Hotel  2549.653127        2  0.003255  \n",
       "2      Hotel  2995.854308        2  0.003004  \n",
       "3      Hotel  3050.887840        2  0.002950  \n",
       "4      Hotel  2558.494501        0  0.002931  "
      ]
     },
     "execution_count": 24,
     "metadata": {},
     "output_type": "execute_result"
    }
   ],
   "source": [
    "df_hotels.sort_values('rod', inplace=True, ascending=False)\n",
    "df_hotels.reset_index(drop=True, inplace=True)\n",
    "df_hotels.head()"
   ]
  },
  {
   "cell_type": "code",
   "execution_count": 25,
   "metadata": {},
   "outputs": [
    {
     "name": "stdout",
     "output_type": "stream",
     "text": [
      "Cluster  2 will be recommended\n"
     ]
    }
   ],
   "source": [
    "print('Cluster ', df_hotels['cluster'][0],'will be recommended')"
   ]
  },
  {
   "cell_type": "markdown",
   "metadata": {},
   "source": [
    "# Result\n",
    "\n",
    "We show the clusters returned by the k-means algorithm onto the map using different colors."
   ]
  },
  {
   "cell_type": "code",
   "execution_count": 26,
   "metadata": {},
   "outputs": [
    {
     "data": {
      "text/html": [
       "<div style=\"width:100%;\"><div style=\"position:relative;width:100%;height:0;padding-bottom:60%;\"><iframe src=\"data:text/html;charset=utf-8;base64,PCFET0NUWVBFIGh0bWw+CjxoZWFkPiAgICAKICAgIDxtZXRhIGh0dHAtZXF1aXY9ImNvbnRlbnQtdHlwZSIgY29udGVudD0idGV4dC9odG1sOyBjaGFyc2V0PVVURi04IiAvPgogICAgCiAgICAgICAgPHNjcmlwdD4KICAgICAgICAgICAgTF9OT19UT1VDSCA9IGZhbHNlOwogICAgICAgICAgICBMX0RJU0FCTEVfM0QgPSBmYWxzZTsKICAgICAgICA8L3NjcmlwdD4KICAgIAogICAgPHNjcmlwdCBzcmM9Imh0dHBzOi8vY2RuLmpzZGVsaXZyLm5ldC9ucG0vbGVhZmxldEAxLjQuMC9kaXN0L2xlYWZsZXQuanMiPjwvc2NyaXB0PgogICAgPHNjcmlwdCBzcmM9Imh0dHBzOi8vY29kZS5qcXVlcnkuY29tL2pxdWVyeS0xLjEyLjQubWluLmpzIj48L3NjcmlwdD4KICAgIDxzY3JpcHQgc3JjPSJodHRwczovL21heGNkbi5ib290c3RyYXBjZG4uY29tL2Jvb3RzdHJhcC8zLjIuMC9qcy9ib290c3RyYXAubWluLmpzIj48L3NjcmlwdD4KICAgIDxzY3JpcHQgc3JjPSJodHRwczovL2NkbmpzLmNsb3VkZmxhcmUuY29tL2FqYXgvbGlicy9MZWFmbGV0LmF3ZXNvbWUtbWFya2Vycy8yLjAuMi9sZWFmbGV0LmF3ZXNvbWUtbWFya2Vycy5qcyI+PC9zY3JpcHQ+CiAgICA8bGluayByZWw9InN0eWxlc2hlZXQiIGhyZWY9Imh0dHBzOi8vY2RuLmpzZGVsaXZyLm5ldC9ucG0vbGVhZmxldEAxLjQuMC9kaXN0L2xlYWZsZXQuY3NzIi8+CiAgICA8bGluayByZWw9InN0eWxlc2hlZXQiIGhyZWY9Imh0dHBzOi8vbWF4Y2RuLmJvb3RzdHJhcGNkbi5jb20vYm9vdHN0cmFwLzMuMi4wL2Nzcy9ib290c3RyYXAubWluLmNzcyIvPgogICAgPGxpbmsgcmVsPSJzdHlsZXNoZWV0IiBocmVmPSJodHRwczovL21heGNkbi5ib290c3RyYXBjZG4uY29tL2Jvb3RzdHJhcC8zLjIuMC9jc3MvYm9vdHN0cmFwLXRoZW1lLm1pbi5jc3MiLz4KICAgIDxsaW5rIHJlbD0ic3R5bGVzaGVldCIgaHJlZj0iaHR0cHM6Ly9tYXhjZG4uYm9vdHN0cmFwY2RuLmNvbS9mb250LWF3ZXNvbWUvNC42LjMvY3NzL2ZvbnQtYXdlc29tZS5taW4uY3NzIi8+CiAgICA8bGluayByZWw9InN0eWxlc2hlZXQiIGhyZWY9Imh0dHBzOi8vY2RuanMuY2xvdWRmbGFyZS5jb20vYWpheC9saWJzL0xlYWZsZXQuYXdlc29tZS1tYXJrZXJzLzIuMC4yL2xlYWZsZXQuYXdlc29tZS1tYXJrZXJzLmNzcyIvPgogICAgPGxpbmsgcmVsPSJzdHlsZXNoZWV0IiBocmVmPSJodHRwczovL3Jhd2Nkbi5naXRoYWNrLmNvbS9weXRob24tdmlzdWFsaXphdGlvbi9mb2xpdW0vbWFzdGVyL2ZvbGl1bS90ZW1wbGF0ZXMvbGVhZmxldC5hd2Vzb21lLnJvdGF0ZS5jc3MiLz4KICAgIDxzdHlsZT5odG1sLCBib2R5IHt3aWR0aDogMTAwJTtoZWlnaHQ6IDEwMCU7bWFyZ2luOiAwO3BhZGRpbmc6IDA7fTwvc3R5bGU+CiAgICA8c3R5bGU+I21hcCB7cG9zaXRpb246YWJzb2x1dGU7dG9wOjA7Ym90dG9tOjA7cmlnaHQ6MDtsZWZ0OjA7fTwvc3R5bGU+CiAgICAKICAgICAgICAgICAgPG1ldGEgbmFtZT0idmlld3BvcnQiIGNvbnRlbnQ9IndpZHRoPWRldmljZS13aWR0aCwKICAgICAgICAgICAgICAgIGluaXRpYWwtc2NhbGU9MS4wLCBtYXhpbXVtLXNjYWxlPTEuMCwgdXNlci1zY2FsYWJsZT1ubyIgLz4KICAgICAgICAgICAgPHN0eWxlPgogICAgICAgICAgICAgICAgI21hcF81NjRjYjI5ZmJkMmE0ZGJiODI4ZDBlMDgxYTZmYjg5NiB7CiAgICAgICAgICAgICAgICAgICAgcG9zaXRpb246IHJlbGF0aXZlOwogICAgICAgICAgICAgICAgICAgIHdpZHRoOiAxMDAuMCU7CiAgICAgICAgICAgICAgICAgICAgaGVpZ2h0OiAxMDAuMCU7CiAgICAgICAgICAgICAgICAgICAgbGVmdDogMC4wJTsKICAgICAgICAgICAgICAgICAgICB0b3A6IDAuMCU7CiAgICAgICAgICAgICAgICB9CiAgICAgICAgICAgIDwvc3R5bGU+CiAgICAgICAgCjwvaGVhZD4KPGJvZHk+ICAgIAogICAgCiAgICAgICAgICAgIDxkaXYgY2xhc3M9ImZvbGl1bS1tYXAiIGlkPSJtYXBfNTY0Y2IyOWZiZDJhNGRiYjgyOGQwZTA4MWE2ZmI4OTYiID48L2Rpdj4KICAgICAgICAKPC9ib2R5Pgo8c2NyaXB0PiAgICAKICAgIAogICAgICAgICAgICB2YXIgbWFwXzU2NGNiMjlmYmQyYTRkYmI4MjhkMGUwODFhNmZiODk2ID0gTC5tYXAoCiAgICAgICAgICAgICAgICAibWFwXzU2NGNiMjlmYmQyYTRkYmI4MjhkMGUwODFhNmZiODk2IiwKICAgICAgICAgICAgICAgIHsKICAgICAgICAgICAgICAgICAgICBjZW50ZXI6IFs0My42Njc3NTg1ODYzNjI5OSwgLTc5LjQwNzYzMDc0MDc0OTM1XSwKICAgICAgICAgICAgICAgICAgICBjcnM6IEwuQ1JTLkVQU0czODU3LAogICAgICAgICAgICAgICAgICAgIHpvb206IDEwLAogICAgICAgICAgICAgICAgICAgIHpvb21Db250cm9sOiB0cnVlLAogICAgICAgICAgICAgICAgICAgIHByZWZlckNhbnZhczogZmFsc2UsCiAgICAgICAgICAgICAgICB9CiAgICAgICAgICAgICk7CgogICAgICAgICAgICAKCiAgICAgICAgCiAgICAKICAgICAgICAgICAgdmFyIHRpbGVfbGF5ZXJfNjNmMDRkNDYwZWI1NDI4MWE2MjRjNjM2ZTdjODA4NGMgPSBMLnRpbGVMYXllcigKICAgICAgICAgICAgICAgICJodHRwczovL2NhcnRvZGItYmFzZW1hcHMte3N9Lmdsb2JhbC5zc2wuZmFzdGx5Lm5ldC9kYXJrX2FsbC97en0ve3h9L3t5fS5wbmciLAogICAgICAgICAgICAgICAgeyJhdHRyaWJ1dGlvbiI6ICJcdTAwMjZjb3B5OyBcdTAwM2NhIGhyZWY9XCJodHRwOi8vd3d3Lm9wZW5zdHJlZXRtYXAub3JnL2NvcHlyaWdodFwiXHUwMDNlT3BlblN0cmVldE1hcFx1MDAzYy9hXHUwMDNlIGNvbnRyaWJ1dG9ycyBcdTAwMjZjb3B5OyBcdTAwM2NhIGhyZWY9XCJodHRwOi8vY2FydG9kYi5jb20vYXR0cmlidXRpb25zXCJcdTAwM2VDYXJ0b0RCXHUwMDNjL2FcdTAwM2UsIENhcnRvREIgXHUwMDNjYSBocmVmID1cImh0dHA6Ly9jYXJ0b2RiLmNvbS9hdHRyaWJ1dGlvbnNcIlx1MDAzZWF0dHJpYnV0aW9uc1x1MDAzYy9hXHUwMDNlIiwgImRldGVjdFJldGluYSI6IGZhbHNlLCAibWF4TmF0aXZlWm9vbSI6IDE4LCAibWF4Wm9vbSI6IDE4LCAibWluWm9vbSI6IDAsICJub1dyYXAiOiBmYWxzZSwgIm9wYWNpdHkiOiAxLCAic3ViZG9tYWlucyI6ICJhYmMiLCAidG1zIjogZmFsc2V9CiAgICAgICAgICAgICkuYWRkVG8obWFwXzU2NGNiMjlmYmQyYTRkYmI4MjhkMGUwODFhNmZiODk2KTsKICAgICAgICAKICAgIAogICAgICAgICAgICB2YXIgY2lyY2xlX21hcmtlcl8zOTYyNzVkZjZlZTA0Y2E1YjY5MTQ1MGYwOThkOTQxOCA9IEwuY2lyY2xlTWFya2VyKAogICAgICAgICAgICAgICAgWzQzLjYyMDM2OTYwNjg2MTk2LCAtNzkuMzczNzkxODExMTg1NThdLAogICAgICAgICAgICAgICAgeyJidWJibGluZ01vdXNlRXZlbnRzIjogdHJ1ZSwgImNvbG9yIjogImJsdWUiLCAiZGFzaEFycmF5IjogbnVsbCwgImRhc2hPZmZzZXQiOiBudWxsLCAiZmlsbCI6IHRydWUsICJmaWxsQ29sb3IiOiAiIzMxODZjYyIsICJmaWxsT3BhY2l0eSI6IDAuNywgImZpbGxSdWxlIjogImV2ZW5vZGQiLCAibGluZUNhcCI6ICJyb3VuZCIsICJsaW5lSm9pbiI6ICJyb3VuZCIsICJvcGFjaXR5IjogMS4wLCAicmFkaXVzIjogOCwgInN0cm9rZSI6IHRydWUsICJ3ZWlnaHQiOiAzfQogICAgICAgICAgICApLmFkZFRvKG1hcF81NjRjYjI5ZmJkMmE0ZGJiODI4ZDBlMDgxYTZmYjg5Nik7CiAgICAgICAgCiAgICAKICAgICAgICB2YXIgcG9wdXBfYWJmNDdhMDM1NzE1NDVkNDhkZDg2ZTRlZGMzNDE0MjEgPSBMLnBvcHVwKHsibWF4V2lkdGgiOiAyNjUwfSk7CgogICAgICAgIAogICAgICAgICAgICB2YXIgaHRtbF9iMWZhYTk1OTQ2YTc0YmRhYWQyNmI1NTg1ZjNjOWQzZSA9ICQoYDxkaXYgaWQ9Imh0bWxfYjFmYWE5NTk0NmE3NGJkYWFkMjZiNTU4NWYzYzlkM2UiIHN0eWxlPSJ3aWR0aDogMTAwLjAlOyBoZWlnaHQ6IDEwMC4wJTsiPiAgICAgQXR0cmFjdGlvbjogQ2VudHJldmlsbGUgQW11c2VtZW50IFBhcmsgICAgIDwvZGl2PmApWzBdOwogICAgICAgICAgICBwb3B1cF9hYmY0N2EwMzU3MTU0NWQ0OGRkODZlNGVkYzM0MTQyMS5zZXRDb250ZW50KGh0bWxfYjFmYWE5NTk0NmE3NGJkYWFkMjZiNTU4NWYzYzlkM2UpOwogICAgICAgIAoKICAgICAgICBjaXJjbGVfbWFya2VyXzM5NjI3NWRmNmVlMDRjYTViNjkxNDUwZjA5OGQ5NDE4LmJpbmRQb3B1cChwb3B1cF9hYmY0N2EwMzU3MTU0NWQ0OGRkODZlNGVkYzM0MTQyMSkKICAgICAgICA7CgogICAgICAgIAogICAgCiAgICAKICAgICAgICAgICAgdmFyIGNpcmNsZV9tYXJrZXJfYjljODE4MjY0ZDA3NDFlNThlYTNlODk3NzYwMzQwNGEgPSBMLmNpcmNsZU1hcmtlcigKICAgICAgICAgICAgICAgIFs0My42Nzc5MzQsIC03OS40MDk1MjFdLAogICAgICAgICAgICAgICAgeyJidWJibGluZ01vdXNlRXZlbnRzIjogdHJ1ZSwgImNvbG9yIjogImJsdWUiLCAiZGFzaEFycmF5IjogbnVsbCwgImRhc2hPZmZzZXQiOiBudWxsLCAiZmlsbCI6IHRydWUsICJmaWxsQ29sb3IiOiAiIzMxODZjYyIsICJmaWxsT3BhY2l0eSI6IDAuNywgImZpbGxSdWxlIjogImV2ZW5vZGQiLCAibGluZUNhcCI6ICJyb3VuZCIsICJsaW5lSm9pbiI6ICJyb3VuZCIsICJvcGFjaXR5IjogMS4wLCAicmFkaXVzIjogOCwgInN0cm9rZSI6IHRydWUsICJ3ZWlnaHQiOiAzfQogICAgICAgICAgICApLmFkZFRvKG1hcF81NjRjYjI5ZmJkMmE0ZGJiODI4ZDBlMDgxYTZmYjg5Nik7CiAgICAgICAgCiAgICAKICAgICAgICB2YXIgcG9wdXBfOWI5OWY5Yzc1ZDQ5NDY5ZWJlZThlNzgxN2ZlZTg3NDYgPSBMLnBvcHVwKHsibWF4V2lkdGgiOiAyNjUwfSk7CgogICAgICAgIAogICAgICAgICAgICB2YXIgaHRtbF9kYjY3Zjc5YWZlMTc0OTcxYWViZDVlMzNjMGI0MjVkZiA9ICQoYDxkaXYgaWQ9Imh0bWxfZGI2N2Y3OWFmZTE3NDk3MWFlYmQ1ZTMzYzBiNDI1ZGYiIHN0eWxlPSJ3aWR0aDogMTAwLjAlOyBoZWlnaHQ6IDEwMC4wJTsiPiAgICAgQXR0cmFjdGlvbjogQ2FzYSBMb21hICAgICA8L2Rpdj5gKVswXTsKICAgICAgICAgICAgcG9wdXBfOWI5OWY5Yzc1ZDQ5NDY5ZWJlZThlNzgxN2ZlZTg3NDYuc2V0Q29udGVudChodG1sX2RiNjdmNzlhZmUxNzQ5NzFhZWJkNWUzM2MwYjQyNWRmKTsKICAgICAgICAKCiAgICAgICAgY2lyY2xlX21hcmtlcl9iOWM4MTgyNjRkMDc0MWU1OGVhM2U4OTc3NjAzNDA0YS5iaW5kUG9wdXAocG9wdXBfOWI5OWY5Yzc1ZDQ5NDY5ZWJlZThlNzgxN2ZlZTg3NDYpCiAgICAgICAgOwoKICAgICAgICAKICAgIAogICAgCiAgICAgICAgICAgIHZhciBjaXJjbGVfbWFya2VyX2M3YWFkODBkMTZlMzRmOTA4MmZkNDJlODM3YWRjNTQ3ID0gTC5jaXJjbGVNYXJrZXIoCiAgICAgICAgICAgICAgICBbNDMuNjUwMjQ0MzU2NTgwNzcsIC03OS4zNTkzMjI3ODYzMzExOF0sCiAgICAgICAgICAgICAgICB7ImJ1YmJsaW5nTW91c2VFdmVudHMiOiB0cnVlLCAiY29sb3IiOiAiYmx1ZSIsICJkYXNoQXJyYXkiOiBudWxsLCAiZGFzaE9mZnNldCI6IG51bGwsICJmaWxsIjogdHJ1ZSwgImZpbGxDb2xvciI6ICIjMzE4NmNjIiwgImZpbGxPcGFjaXR5IjogMC43LCAiZmlsbFJ1bGUiOiAiZXZlbm9kZCIsICJsaW5lQ2FwIjogInJvdW5kIiwgImxpbmVKb2luIjogInJvdW5kIiwgIm9wYWNpdHkiOiAxLjAsICJyYWRpdXMiOiA4LCAic3Ryb2tlIjogdHJ1ZSwgIndlaWdodCI6IDN9CiAgICAgICAgICAgICkuYWRkVG8obWFwXzU2NGNiMjlmYmQyYTRkYmI4MjhkMGUwODFhNmZiODk2KTsKICAgICAgICAKICAgIAogICAgICAgIHZhciBwb3B1cF82MWJjOWRhNzViYWI0NzQ1OWZlMmFlZWY2Zjg2Y2MyMCA9IEwucG9wdXAoeyJtYXhXaWR0aCI6IDI2NTB9KTsKCiAgICAgICAgCiAgICAgICAgICAgIHZhciBodG1sX2Y2OWUwODQ3YjExYzRmMjdiM2MyNDBlMzZlZDkxMzZiID0gJChgPGRpdiBpZD0iaHRtbF9mNjllMDg0N2IxMWM0ZjI3YjNjMjQwZTM2ZWQ5MTM2YiIgc3R5bGU9IndpZHRoOiAxMDAuMCU7IGhlaWdodDogMTAwLjAlOyI+ICAgICBBdHRyYWN0aW9uOiBUaGUgRGlzdGlsbGVyeSBIaXN0b3JpYyBEaXN0cmljdCAgICAgPC9kaXY+YClbMF07CiAgICAgICAgICAgIHBvcHVwXzYxYmM5ZGE3NWJhYjQ3NDU5ZmUyYWVlZjZmODZjYzIwLnNldENvbnRlbnQoaHRtbF9mNjllMDg0N2IxMWM0ZjI3YjNjMjQwZTM2ZWQ5MTM2Yik7CiAgICAgICAgCgogICAgICAgIGNpcmNsZV9tYXJrZXJfYzdhYWQ4MGQxNmUzNGY5MDgyZmQ0MmU4MzdhZGM1NDcuYmluZFBvcHVwKHBvcHVwXzYxYmM5ZGE3NWJhYjQ3NDU5ZmUyYWVlZjZmODZjYzIwKQogICAgICAgIDsKCiAgICAgICAgCiAgICAKICAgIAogICAgICAgICAgICB2YXIgY2lyY2xlX21hcmtlcl85YTFiZDcwYzdiOWY0OWVhYTZmNmFlNTg2ZmYxZTE0OSA9IEwuY2lyY2xlTWFya2VyKAogICAgICAgICAgICAgICAgWzQzLjY2ODM2NzA2NTYxNjA0NiwgLTc5LjM5NDgxMjk0MDU4NzddLAogICAgICAgICAgICAgICAgeyJidWJibGluZ01vdXNlRXZlbnRzIjogdHJ1ZSwgImNvbG9yIjogImJsdWUiLCAiZGFzaEFycmF5IjogbnVsbCwgImRhc2hPZmZzZXQiOiBudWxsLCAiZmlsbCI6IHRydWUsICJmaWxsQ29sb3IiOiAiIzMxODZjYyIsICJmaWxsT3BhY2l0eSI6IDAuNywgImZpbGxSdWxlIjogImV2ZW5vZGQiLCAibGluZUNhcCI6ICJyb3VuZCIsICJsaW5lSm9pbiI6ICJyb3VuZCIsICJvcGFjaXR5IjogMS4wLCAicmFkaXVzIjogOCwgInN0cm9rZSI6IHRydWUsICJ3ZWlnaHQiOiAzfQogICAgICAgICAgICApLmFkZFRvKG1hcF81NjRjYjI5ZmJkMmE0ZGJiODI4ZDBlMDgxYTZmYjg5Nik7CiAgICAgICAgCiAgICAKICAgICAgICB2YXIgcG9wdXBfMDk5ZGE1NmI5MGM2NDI0MTlkNzNmYzMzNzg0MDkzYmQgPSBMLnBvcHVwKHsibWF4V2lkdGgiOiAyNjUwfSk7CgogICAgICAgIAogICAgICAgICAgICB2YXIgaHRtbF83ZmEyNGZiOGY5YWU0NThkOWExN2NiYTFjNWNjMDU3NiA9ICQoYDxkaXYgaWQ9Imh0bWxfN2ZhMjRmYjhmOWFlNDU4ZDlhMTdjYmExYzVjYzA1NzYiIHN0eWxlPSJ3aWR0aDogMTAwLjAlOyBoZWlnaHQ6IDEwMC4wJTsiPiAgICAgQXR0cmFjdGlvbjogUm95YWwgT250YXJpbyBNdXNldW0gICAgIDwvZGl2PmApWzBdOwogICAgICAgICAgICBwb3B1cF8wOTlkYTU2YjkwYzY0MjQxOWQ3M2ZjMzM3ODQwOTNiZC5zZXRDb250ZW50KGh0bWxfN2ZhMjRmYjhmOWFlNDU4ZDlhMTdjYmExYzVjYzA1NzYpOwogICAgICAgIAoKICAgICAgICBjaXJjbGVfbWFya2VyXzlhMWJkNzBjN2I5ZjQ5ZWFhNmY2YWU1ODZmZjFlMTQ5LmJpbmRQb3B1cChwb3B1cF8wOTlkYTU2YjkwYzY0MjQxOWQ3M2ZjMzM3ODQwOTNiZCkKICAgICAgICA7CgogICAgICAgIAogICAgCiAgICAKICAgICAgICAgICAgdmFyIGNpcmNsZV9tYXJrZXJfNGY5NTIyZmQ2N2M2NDYyNGEwN2JiNmNlNTM3NGFmODcgPSBMLmNpcmNsZU1hcmtlcigKICAgICAgICAgICAgICAgIFs0My42Nzg4ODMxOTIyNDk3NjQsIC03OS40MDg4NTgzODc3OTk0NF0sCiAgICAgICAgICAgICAgICB7ImJ1YmJsaW5nTW91c2VFdmVudHMiOiB0cnVlLCAiY29sb3IiOiAiYmx1ZSIsICJkYXNoQXJyYXkiOiBudWxsLCAiZGFzaE9mZnNldCI6IG51bGwsICJmaWxsIjogdHJ1ZSwgImZpbGxDb2xvciI6ICIjMzE4NmNjIiwgImZpbGxPcGFjaXR5IjogMC43LCAiZmlsbFJ1bGUiOiAiZXZlbm9kZCIsICJsaW5lQ2FwIjogInJvdW5kIiwgImxpbmVKb2luIjogInJvdW5kIiwgIm9wYWNpdHkiOiAxLjAsICJyYWRpdXMiOiA4LCAic3Ryb2tlIjogdHJ1ZSwgIndlaWdodCI6IDN9CiAgICAgICAgICAgICkuYWRkVG8obWFwXzU2NGNiMjlmYmQyYTRkYmI4MjhkMGUwODFhNmZiODk2KTsKICAgICAgICAKICAgIAogICAgICAgIHZhciBwb3B1cF9iMmM0YmM3YzQ4MTQ0NjBmYjU5OGQyMDNjYmIyNTc0NCA9IEwucG9wdXAoeyJtYXhXaWR0aCI6IDI2NTB9KTsKCiAgICAgICAgCiAgICAgICAgICAgIHZhciBodG1sXzJlZDA0Y2RmYzRkMTRhNWJiNmFiMDZiODI3ODE5ZjZlID0gJChgPGRpdiBpZD0iaHRtbF8yZWQwNGNkZmM0ZDE0YTViYjZhYjA2YjgyNzgxOWY2ZSIgc3R5bGU9IndpZHRoOiAxMDAuMCU7IGhlaWdodDogMTAwLjAlOyI+ICAgICBBdHRyYWN0aW9uOiBTcGFkaW5hIE11c2V1bTogSGlzdG9yaWMgSG91c2UgJiBHYXJkZW5zICAgICA8L2Rpdj5gKVswXTsKICAgICAgICAgICAgcG9wdXBfYjJjNGJjN2M0ODE0NDYwZmI1OThkMjAzY2JiMjU3NDQuc2V0Q29udGVudChodG1sXzJlZDA0Y2RmYzRkMTRhNWJiNmFiMDZiODI3ODE5ZjZlKTsKICAgICAgICAKCiAgICAgICAgY2lyY2xlX21hcmtlcl80Zjk1MjJmZDY3YzY0NjI0YTA3YmI2Y2U1Mzc0YWY4Ny5iaW5kUG9wdXAocG9wdXBfYjJjNGJjN2M0ODE0NDYwZmI1OThkMjAzY2JiMjU3NDQpCiAgICAgICAgOwoKICAgICAgICAKICAgIAogICAgCiAgICAgICAgICAgIHZhciBjaXJjbGVfbWFya2VyX2IzOWJkYzkyZDA0ZTQ5ZDJiNTA5NTk0MjAzODlhNzRhID0gTC5jaXJjbGVNYXJrZXIoCiAgICAgICAgICAgICAgICBbNDMuNjcxNzk2NDM1ODE2ODIsIC03OS4zODk0NTY5MDQyMDEyNF0sCiAgICAgICAgICAgICAgICB7ImJ1YmJsaW5nTW91c2VFdmVudHMiOiB0cnVlLCAiY29sb3IiOiAiIzAwYjVlYiIsICJkYXNoQXJyYXkiOiBudWxsLCAiZGFzaE9mZnNldCI6IG51bGwsICJmaWxsIjogdHJ1ZSwgImZpbGxDb2xvciI6ICIjMDBiNWViIiwgImZpbGxPcGFjaXR5IjogMC43LCAiZmlsbFJ1bGUiOiAiZXZlbm9kZCIsICJsaW5lQ2FwIjogInJvdW5kIiwgImxpbmVKb2luIjogInJvdW5kIiwgIm9wYWNpdHkiOiAxLjAsICJyYWRpdXMiOiAzLCAic3Ryb2tlIjogdHJ1ZSwgIndlaWdodCI6IDN9CiAgICAgICAgICAgICkuYWRkVG8obWFwXzU2NGNiMjlmYmQyYTRkYmI4MjhkMGUwODFhNmZiODk2KTsKICAgICAgICAKICAgIAogICAgICAgIHZhciBwb3B1cF9jMjY0MzQ5MzQ1N2Y0YWRjYmE3MWU5NGM3MWEzZGNkNyA9IEwucG9wdXAoeyJtYXhXaWR0aCI6IDI2NTB9KTsKCiAgICAgICAgCiAgICAgICAgICAgIHZhciBodG1sXzk1YmYxNzgwYmQyYzRmNDg5YWM0ZTAyZGRiZGE5YTYyID0gJChgPGRpdiBpZD0iaHRtbF85NWJmMTc4MGJkMmM0ZjQ4OWFjNGUwMmRkYmRhOWE2MiIgc3R5bGU9IndpZHRoOiAxMDAuMCU7IGhlaWdodDogMTAwLjAlOyI+ICAgICBIb3RlbDogRm91ciBTZWFzb25zIEhvdGVsIFRvcm9udG8gICAgIDxicj4gICAgIFJhdGluZzogOC43ICAgICA8YnI+ICAgICBEaXN0YW5jZTogMjY2Ny45NDYxOTAzOTkyNTEgbSAgICAgPGJyPiAgICAgQ2x1c3RlcjogMiAgICAgPGJyPiAgICAgUm9kOiAwLjAwMzI2MDkzNTMzMzQ0MzkxMyAgICAgPC9kaXY+YClbMF07CiAgICAgICAgICAgIHBvcHVwX2MyNjQzNDkzNDU3ZjRhZGNiYTcxZTk0YzcxYTNkY2Q3LnNldENvbnRlbnQoaHRtbF85NWJmMTc4MGJkMmM0ZjQ4OWFjNGUwMmRkYmRhOWE2Mik7CiAgICAgICAgCgogICAgICAgIGNpcmNsZV9tYXJrZXJfYjM5YmRjOTJkMDRlNDlkMmI1MDk1OTQyMDM4OWE3NGEuYmluZFBvcHVwKHBvcHVwX2MyNjQzNDkzNDU3ZjRhZGNiYTcxZTk0YzcxYTNkY2Q3KQogICAgICAgIDsKCiAgICAgICAgCiAgICAKICAgIAogICAgICAgICAgICB2YXIgY2lyY2xlX21hcmtlcl85YmZiMTU1MTc4MzA0NTY5ODYyZTBlZGY4NDQwZTQ5YyA9IEwuY2lyY2xlTWFya2VyKAogICAgICAgICAgICAgICAgWzQzLjY3MDc2NDQ0ODY4Njg0NiwgLTc5LjM5MzI1NzE4NDY1Nzk0XSwKICAgICAgICAgICAgICAgIHsiYnViYmxpbmdNb3VzZUV2ZW50cyI6IHRydWUsICJjb2xvciI6ICIjMDBiNWViIiwgImRhc2hBcnJheSI6IG51bGwsICJkYXNoT2Zmc2V0IjogbnVsbCwgImZpbGwiOiB0cnVlLCAiZmlsbENvbG9yIjogIiMwMGI1ZWIiLCAiZmlsbE9wYWNpdHkiOiAwLjcsICJmaWxsUnVsZSI6ICJldmVub2RkIiwgImxpbmVDYXAiOiAicm91bmQiLCAibGluZUpvaW4iOiAicm91bmQiLCAib3BhY2l0eSI6IDEuMCwgInJhZGl1cyI6IDMsICJzdHJva2UiOiB0cnVlLCAid2VpZ2h0IjogM30KICAgICAgICAgICAgKS5hZGRUbyhtYXBfNTY0Y2IyOWZiZDJhNGRiYjgyOGQwZTA4MWE2ZmI4OTYpOwogICAgICAgIAogICAgCiAgICAgICAgdmFyIHBvcHVwX2NhZTkyMjc3NmI0ZjQ0YWM5ZGYxM2NmNmMwMDFlNmY5ID0gTC5wb3B1cCh7Im1heFdpZHRoIjogMjY1MH0pOwoKICAgICAgICAKICAgICAgICAgICAgdmFyIGh0bWxfMTcxZTJmNTU1ZGI3NDA2NDhkYmNmMGEzZjc3NDA0NDQgPSAkKGA8ZGl2IGlkPSJodG1sXzE3MWUyZjU1NWRiNzQwNjQ4ZGJjZjBhM2Y3NzQwNDQ0IiBzdHlsZT0id2lkdGg6IDEwMC4wJTsgaGVpZ2h0OiAxMDAuMCU7Ij4gICAgIEhvdGVsOiBUaGUgSGF6ZWx0b24gSG90ZWwgICAgIDxicj4gICAgIFJhdGluZzogOC4zICAgICA8YnI+ICAgICBEaXN0YW5jZTogMjU0OS42NTMxMjY4Mzc4NzE3IG0gICAgIDxicj4gICAgIENsdXN0ZXI6IDIgICAgIDxicj4gICAgIFJvZDogMC4wMDMyNTUzNDQ3ODEwNzM3MzcyICAgICA8L2Rpdj5gKVswXTsKICAgICAgICAgICAgcG9wdXBfY2FlOTIyNzc2YjRmNDRhYzlkZjEzY2Y2YzAwMWU2Zjkuc2V0Q29udGVudChodG1sXzE3MWUyZjU1NWRiNzQwNjQ4ZGJjZjBhM2Y3NzQwNDQ0KTsKICAgICAgICAKCiAgICAgICAgY2lyY2xlX21hcmtlcl85YmZiMTU1MTc4MzA0NTY5ODYyZTBlZGY4NDQwZTQ5Yy5iaW5kUG9wdXAocG9wdXBfY2FlOTIyNzc2YjRmNDRhYzlkZjEzY2Y2YzAwMWU2ZjkpCiAgICAgICAgOwoKICAgICAgICAKICAgIAogICAgCiAgICAgICAgICAgIHZhciBjaXJjbGVfbWFya2VyXzQ1MzI3YjA3ZjYxODQ5YmNiM2Y0YzE0OTY3MTVlMWRlID0gTC5jaXJjbGVNYXJrZXIoCiAgICAgICAgICAgICAgICBbNDMuNjU2NDQ5MDEyMDc3NDMsIC03OS4zNzQxMTAwMTgwMTAyXSwKICAgICAgICAgICAgICAgIHsiYnViYmxpbmdNb3VzZUV2ZW50cyI6IHRydWUsICJjb2xvciI6ICIjMDBiNWViIiwgImRhc2hBcnJheSI6IG51bGwsICJkYXNoT2Zmc2V0IjogbnVsbCwgImZpbGwiOiB0cnVlLCAiZmlsbENvbG9yIjogIiMwMGI1ZWIiLCAiZmlsbE9wYWNpdHkiOiAwLjcsICJmaWxsUnVsZSI6ICJldmVub2RkIiwgImxpbmVDYXAiOiAicm91bmQiLCAibGluZUpvaW4iOiAicm91bmQiLCAib3BhY2l0eSI6IDEuMCwgInJhZGl1cyI6IDMsICJzdHJva2UiOiB0cnVlLCAid2VpZ2h0IjogM30KICAgICAgICAgICAgKS5hZGRUbyhtYXBfNTY0Y2IyOWZiZDJhNGRiYjgyOGQwZTA4MWE2ZmI4OTYpOwogICAgICAgIAogICAgCiAgICAgICAgdmFyIHBvcHVwXzU2MDdiZjhlNjAyZjRhZTJhNDEwNzdkZWZlYWQ5YmZjID0gTC5wb3B1cCh7Im1heFdpZHRoIjogMjY1MH0pOwoKICAgICAgICAKICAgICAgICAgICAgdmFyIGh0bWxfZTEyM2MzMTA1NGRiNGI5NmI5NzRhMWYzMDE5ZTA2MDggPSAkKGA8ZGl2IGlkPSJodG1sX2UxMjNjMzEwNTRkYjRiOTZiOTc0YTFmMzAxOWUwNjA4IiBzdHlsZT0id2lkdGg6IDEwMC4wJTsgaGVpZ2h0OiAxMDAuMCU7Ij4gICAgIEhvdGVsOiBUaGUgR3JhbmQgSG90ZWwgJiBTdWl0ZXMgVG9yb250byAgICAgPGJyPiAgICAgUmF0aW5nOiA5LjAgICAgIDxicj4gICAgIERpc3RhbmNlOiAyOTk1Ljg1NDMwNzkwMjc3MiBtICAgICA8YnI+ICAgICBDbHVzdGVyOiAyICAgICA8YnI+ICAgICBSb2Q6IDAuMDAzMDA0MTUxNDI4OTQ1OTUyNiAgICAgPC9kaXY+YClbMF07CiAgICAgICAgICAgIHBvcHVwXzU2MDdiZjhlNjAyZjRhZTJhNDEwNzdkZWZlYWQ5YmZjLnNldENvbnRlbnQoaHRtbF9lMTIzYzMxMDU0ZGI0Yjk2Yjk3NGExZjMwMTllMDYwOCk7CiAgICAgICAgCgogICAgICAgIGNpcmNsZV9tYXJrZXJfNDUzMjdiMDdmNjE4NDliY2IzZjRjMTQ5NjcxNWUxZGUuYmluZFBvcHVwKHBvcHVwXzU2MDdiZjhlNjAyZjRhZTJhNDEwNzdkZWZlYWQ5YmZjKQogICAgICAgIDsKCiAgICAgICAgCiAgICAKICAgIAogICAgICAgICAgICB2YXIgY2lyY2xlX21hcmtlcl9iNTViZTIyNmY3OTM0ODg0OGQxMjNkNDQ1YTlkOWQ4YyA9IEwuY2lyY2xlTWFya2VyKAogICAgICAgICAgICAgICAgWzQzLjY0OTEyOTE5NDE3NTAyLCAtNzkuMzg2NTU2Njg1Mzk2M10sCiAgICAgICAgICAgICAgICB7ImJ1YmJsaW5nTW91c2VFdmVudHMiOiB0cnVlLCAiY29sb3IiOiAiIzAwYjVlYiIsICJkYXNoQXJyYXkiOiBudWxsLCAiZGFzaE9mZnNldCI6IG51bGwsICJmaWxsIjogdHJ1ZSwgImZpbGxDb2xvciI6ICIjMDBiNWViIiwgImZpbGxPcGFjaXR5IjogMC43LCAiZmlsbFJ1bGUiOiAiZXZlbm9kZCIsICJsaW5lQ2FwIjogInJvdW5kIiwgImxpbmVKb2luIjogInJvdW5kIiwgIm9wYWNpdHkiOiAxLjAsICJyYWRpdXMiOiAzLCAic3Ryb2tlIjogdHJ1ZSwgIndlaWdodCI6IDN9CiAgICAgICAgICAgICkuYWRkVG8obWFwXzU2NGNiMjlmYmQyYTRkYmI4MjhkMGUwODFhNmZiODk2KTsKICAgICAgICAKICAgIAogICAgICAgIHZhciBwb3B1cF8zY2JlYzBhYjc2NTU0NTc1YmEyYThjZGYyYWQ4NDYyOSA9IEwucG9wdXAoeyJtYXhXaWR0aCI6IDI2NTB9KTsKCiAgICAgICAgCiAgICAgICAgICAgIHZhciBodG1sXzQ5ODhkNGY2Y2JlMzQ4Y2FhNTM3MjBhNDA1ZjM4MDNhID0gJChgPGRpdiBpZD0iaHRtbF80OTg4ZDRmNmNiZTM0OGNhYTUzNzIwYTQwNWYzODAzYSIgc3R5bGU9IndpZHRoOiAxMDAuMCU7IGhlaWdodDogMTAwLjAlOyI+ICAgICBIb3RlbDogU2hhbmdyaS1MYSBUb3JvbnRvICAgICA8YnI+ICAgICBSYXRpbmc6IDkuMCAgICAgPGJyPiAgICAgRGlzdGFuY2U6IDMwNTAuODg3ODQwMTQ2MjIzIG0gICAgIDxicj4gICAgIENsdXN0ZXI6IDIgICAgIDxicj4gICAgIFJvZDogMC4wMDI5NDk5NjA5NTI4NjQzNDY2ICAgICA8L2Rpdj5gKVswXTsKICAgICAgICAgICAgcG9wdXBfM2NiZWMwYWI3NjU1NDU3NWJhMmE4Y2RmMmFkODQ2Mjkuc2V0Q29udGVudChodG1sXzQ5ODhkNGY2Y2JlMzQ4Y2FhNTM3MjBhNDA1ZjM4MDNhKTsKICAgICAgICAKCiAgICAgICAgY2lyY2xlX21hcmtlcl9iNTViZTIyNmY3OTM0ODg0OGQxMjNkNDQ1YTlkOWQ4Yy5iaW5kUG9wdXAocG9wdXBfM2NiZWMwYWI3NjU1NDU3NWJhMmE4Y2RmMmFkODQ2MjkpCiAgICAgICAgOwoKICAgICAgICAKICAgIAogICAgCiAgICAgICAgICAgIHZhciBjaXJjbGVfbWFya2VyXzczMzBmNDNkYjI3MzQ4ZGI5YjVlNWNlMmVmMmQ2ZGMzID0gTC5jaXJjbGVNYXJrZXIoCiAgICAgICAgICAgICAgICBbNDMuNjY4NzgxMDk3MjY5NDIsIC03OS4zOTA4NDk5OTYxNzQ5NV0sCiAgICAgICAgICAgICAgICB7ImJ1YmJsaW5nTW91c2VFdmVudHMiOiB0cnVlLCAiY29sb3IiOiAiI2ZmMDAwMCIsICJkYXNoQXJyYXkiOiBudWxsLCAiZGFzaE9mZnNldCI6IG51bGwsICJmaWxsIjogdHJ1ZSwgImZpbGxDb2xvciI6ICIjZmYwMDAwIiwgImZpbGxPcGFjaXR5IjogMC43LCAiZmlsbFJ1bGUiOiAiZXZlbm9kZCIsICJsaW5lQ2FwIjogInJvdW5kIiwgImxpbmVKb2luIjogInJvdW5kIiwgIm9wYWNpdHkiOiAxLjAsICJyYWRpdXMiOiAzLCAic3Ryb2tlIjogdHJ1ZSwgIndlaWdodCI6IDN9CiAgICAgICAgICAgICkuYWRkVG8obWFwXzU2NGNiMjlmYmQyYTRkYmI4MjhkMGUwODFhNmZiODk2KTsKICAgICAgICAKICAgIAogICAgICAgIHZhciBwb3B1cF85MGY4NGMwMzRjODQ0NmFiYjZkNTk2NDQxNTcyZDU1YiA9IEwucG9wdXAoeyJtYXhXaWR0aCI6IDI2NTB9KTsKCiAgICAgICAgCiAgICAgICAgICAgIHZhciBodG1sX2I1OTI2NjcxYzg4ZTRhNTg5NDVhNjgwMDhjZTA0NWNiID0gJChgPGRpdiBpZD0iaHRtbF9iNTkyNjY3MWM4OGU0YTU4OTQ1YTY4MDA4Y2UwNDVjYiIgc3R5bGU9IndpZHRoOiAxMDAuMCU7IGhlaWdodDogMTAwLjAlOyI+ICAgICBIb3RlbDogV2luZHNvciBBcm1zIEhvdGVsICAgICA8YnI+ICAgICBSYXRpbmc6IDcuNSAgICAgPGJyPiAgICAgRGlzdGFuY2U6IDI1NTguNDk0NTAxMzU4ODg4NiBtICAgICA8YnI+ICAgICBDbHVzdGVyOiAwICAgICA8YnI+ICAgICBSb2Q6IDAuMDAyOTMxNDExNDIwMjc3MjUyMyAgICAgPC9kaXY+YClbMF07CiAgICAgICAgICAgIHBvcHVwXzkwZjg0YzAzNGM4NDQ2YWJiNmQ1OTY0NDE1NzJkNTViLnNldENvbnRlbnQoaHRtbF9iNTkyNjY3MWM4OGU0YTU4OTQ1YTY4MDA4Y2UwNDVjYik7CiAgICAgICAgCgogICAgICAgIGNpcmNsZV9tYXJrZXJfNzMzMGY0M2RiMjczNDhkYjliNWU1Y2UyZWYyZDZkYzMuYmluZFBvcHVwKHBvcHVwXzkwZjg0YzAzNGM4NDQ2YWJiNmQ1OTY0NDE1NzJkNTViKQogICAgICAgIDsKCiAgICAgICAgCiAgICAKICAgIAogICAgICAgICAgICB2YXIgY2lyY2xlX21hcmtlcl80YzYxZDhhMGY5MDU0N2RlODYzNDU3MGM5M2VjOWMzZSA9IEwuY2lyY2xlTWFya2VyKAogICAgICAgICAgICAgICAgWzQzLjY2ODgwMDYwNjk4MjExLCAtNzkuMzg1NDEyNjQ3MzYwNTddLAogICAgICAgICAgICAgICAgeyJidWJibGluZ01vdXNlRXZlbnRzIjogdHJ1ZSwgImNvbG9yIjogIiNmZjAwMDAiLCAiZGFzaEFycmF5IjogbnVsbCwgImRhc2hPZmZzZXQiOiBudWxsLCAiZmlsbCI6IHRydWUsICJmaWxsQ29sb3IiOiAiI2ZmMDAwMCIsICJmaWxsT3BhY2l0eSI6IDAuNywgImZpbGxSdWxlIjogImV2ZW5vZGQiLCAibGluZUNhcCI6ICJyb3VuZCIsICJsaW5lSm9pbiI6ICJyb3VuZCIsICJvcGFjaXR5IjogMS4wLCAicmFkaXVzIjogMywgInN0cm9rZSI6IHRydWUsICJ3ZWlnaHQiOiAzfQogICAgICAgICAgICApLmFkZFRvKG1hcF81NjRjYjI5ZmJkMmE0ZGJiODI4ZDBlMDgxYTZmYjg5Nik7CiAgICAgICAgCiAgICAKICAgICAgICB2YXIgcG9wdXBfY2JiMTJlMDVjY2E4NDk3NWJmZGQ4Yzg5ZGNkN2QzNGMgPSBMLnBvcHVwKHsibWF4V2lkdGgiOiAyNjUwfSk7CgogICAgICAgIAogICAgICAgICAgICB2YXIgaHRtbF8yMWVmNDgxOWZiOWI0OTI5OTY2Y2IyZjAwMmM4MjA3OSA9ICQoYDxkaXYgaWQ9Imh0bWxfMjFlZjQ4MTlmYjliNDkyOTk2NmNiMmYwMDJjODIwNzkiIHN0eWxlPSJ3aWR0aDogMTAwLjAlOyBoZWlnaHQ6IDEwMC4wJTsiPiAgICAgSG90ZWw6IFRoZSBBbm5kb3JlIEhvdXNlICAgICA8YnI+ICAgICBSYXRpbmc6IDcuOCAgICAgPGJyPiAgICAgRGlzdGFuY2U6IDI3MDkuODQ2NzM3NDQxMzY4IG0gICAgIDxicj4gICAgIENsdXN0ZXI6IDAgICAgIDxicj4gICAgIFJvZDogMC4wMDI4NzgzOTE1NjgxMzg5MjE0ICAgICA8L2Rpdj5gKVswXTsKICAgICAgICAgICAgcG9wdXBfY2JiMTJlMDVjY2E4NDk3NWJmZGQ4Yzg5ZGNkN2QzNGMuc2V0Q29udGVudChodG1sXzIxZWY0ODE5ZmI5YjQ5Mjk5NjZjYjJmMDAyYzgyMDc5KTsKICAgICAgICAKCiAgICAgICAgY2lyY2xlX21hcmtlcl80YzYxZDhhMGY5MDU0N2RlODYzNDU3MGM5M2VjOWMzZS5iaW5kUG9wdXAocG9wdXBfY2JiMTJlMDVjY2E4NDk3NWJmZGQ4Yzg5ZGNkN2QzNGMpCiAgICAgICAgOwoKICAgICAgICAKICAgIAogICAgCiAgICAgICAgICAgIHZhciBjaXJjbGVfbWFya2VyXzVmMjNhODZmY2U3MDRlYWJiYTNmYWQwYTRiMTYwYTk4ID0gTC5jaXJjbGVNYXJrZXIoCiAgICAgICAgICAgICAgICBbNDMuNjQyODgxOSwgLTc5LjM4Mzk0OTFdLAogICAgICAgICAgICAgICAgeyJidWJibGluZ01vdXNlRXZlbnRzIjogdHJ1ZSwgImNvbG9yIjogIiMwMGI1ZWIiLCAiZGFzaEFycmF5IjogbnVsbCwgImRhc2hPZmZzZXQiOiBudWxsLCAiZmlsbCI6IHRydWUsICJmaWxsQ29sb3IiOiAiIzAwYjVlYiIsICJmaWxsT3BhY2l0eSI6IDAuNywgImZpbGxSdWxlIjogImV2ZW5vZGQiLCAibGluZUNhcCI6ICJyb3VuZCIsICJsaW5lSm9pbiI6ICJyb3VuZCIsICJvcGFjaXR5IjogMS4wLCAicmFkaXVzIjogMywgInN0cm9rZSI6IHRydWUsICJ3ZWlnaHQiOiAzfQogICAgICAgICAgICApLmFkZFRvKG1hcF81NjRjYjI5ZmJkMmE0ZGJiODI4ZDBlMDgxYTZmYjg5Nik7CiAgICAgICAgCiAgICAKICAgICAgICB2YXIgcG9wdXBfNDZiMmY0MmY3Y2U2NGNlYmFlYWQ4OTY2NjQ4ZGI1YzYgPSBMLnBvcHVwKHsibWF4V2lkdGgiOiAyNjUwfSk7CgogICAgICAgIAogICAgICAgICAgICB2YXIgaHRtbF84MmU2MWM1ZmE0NGU0ZjA0YWQ5OWE1MTc1MTBkNmZlZiA9ICQoYDxkaXYgaWQ9Imh0bWxfODJlNjFjNWZhNDRlNGYwNGFkOTlhNTE3NTEwZDZmZWYiIHN0eWxlPSJ3aWR0aDogMTAwLjAlOyBoZWlnaHQ6IDEwMC4wJTsiPiAgICAgSG90ZWw6IERlbHRhIEhvdGVscyBieSBNYXJyaW90dCBUb3JvbnRvICAgICA8YnI+ICAgICBSYXRpbmc6IDkuMyAgICAgPGJyPiAgICAgRGlzdGFuY2U6IDMzMjUuMzI2OTQ1MDgzOTg4IG0gICAgIDxicj4gICAgIENsdXN0ZXI6IDIgICAgIDxicj4gICAgIFJvZDogMC4wMDI3OTY3MTc0ODE3OTQ4OTQ2ICAgICA8L2Rpdj5gKVswXTsKICAgICAgICAgICAgcG9wdXBfNDZiMmY0MmY3Y2U2NGNlYmFlYWQ4OTY2NjQ4ZGI1YzYuc2V0Q29udGVudChodG1sXzgyZTYxYzVmYTQ0ZTRmMDRhZDk5YTUxNzUxMGQ2ZmVmKTsKICAgICAgICAKCiAgICAgICAgY2lyY2xlX21hcmtlcl81ZjIzYTg2ZmNlNzA0ZWFiYmEzZmFkMGE0YjE2MGE5OC5iaW5kUG9wdXAocG9wdXBfNDZiMmY0MmY3Y2U2NGNlYmFlYWQ4OTY2NjQ4ZGI1YzYpCiAgICAgICAgOwoKICAgICAgICAKICAgIAogICAgCiAgICAgICAgICAgIHZhciBjaXJjbGVfbWFya2VyX2M3ODY1N2U5MzAyZTRjZmZhNDBjN2I5YTAwNmY3NDI1ID0gTC5jaXJjbGVNYXJrZXIoCiAgICAgICAgICAgICAgICBbNDMuNjUxODM2NDk0NzU5ODMsIC03OS4zNzgxMDczODA0NTU0OF0sCiAgICAgICAgICAgICAgICB7ImJ1YmJsaW5nTW91c2VFdmVudHMiOiB0cnVlLCAiY29sb3IiOiAiI2ZmMDAwMCIsICJkYXNoQXJyYXkiOiBudWxsLCAiZGFzaE9mZnNldCI6IG51bGwsICJmaWxsIjogdHJ1ZSwgImZpbGxDb2xvciI6ICIjZmYwMDAwIiwgImZpbGxPcGFjaXR5IjogMC43LCAiZmlsbFJ1bGUiOiAiZXZlbm9kZCIsICJsaW5lQ2FwIjogInJvdW5kIiwgImxpbmVKb2luIjogInJvdW5kIiwgIm9wYWNpdHkiOiAxLjAsICJyYWRpdXMiOiAzLCAic3Ryb2tlIjogdHJ1ZSwgIndlaWdodCI6IDN9CiAgICAgICAgICAgICkuYWRkVG8obWFwXzU2NGNiMjlmYmQyYTRkYmI4MjhkMGUwODFhNmZiODk2KTsKICAgICAgICAKICAgIAogICAgICAgIHZhciBwb3B1cF9kNDM3ZDczYzBhMjM0NGViYWE0YTRmODg4ZTY0YzY2OSA9IEwucG9wdXAoeyJtYXhXaWR0aCI6IDI2NTB9KTsKCiAgICAgICAgCiAgICAgICAgICAgIHZhciBodG1sXzYyZjBmNTdjM2JhMDRhMWY5NWYwOWJkZjEyZmEyOTBiID0gJChgPGRpdiBpZD0iaHRtbF82MmYwZjU3YzNiYTA0YTFmOTVmMDliZGYxMmZhMjkwYiIgc3R5bGU9IndpZHRoOiAxMDAuMCU7IGhlaWdodDogMTAwLjAlOyI+ICAgICBIb3RlbDogQ2FtYnJpZGdlIFN1aXRlcyBUb3JvbnRvICAgICA8YnI+ICAgICBSYXRpbmc6IDguMiAgICAgPGJyPiAgICAgRGlzdGFuY2U6IDMwMTEuMzIzNTgyMTc4NzMwMiBtICAgICA8YnI+ICAgICBDbHVzdGVyOiAwICAgICA8YnI+ICAgICBSb2Q6IDAuMDAyNzIzMDU1MDg3MzEzODY0ICAgICA8L2Rpdj5gKVswXTsKICAgICAgICAgICAgcG9wdXBfZDQzN2Q3M2MwYTIzNDRlYmFhNGE0Zjg4OGU2NGM2Njkuc2V0Q29udGVudChodG1sXzYyZjBmNTdjM2JhMDRhMWY5NWYwOWJkZjEyZmEyOTBiKTsKICAgICAgICAKCiAgICAgICAgY2lyY2xlX21hcmtlcl9jNzg2NTdlOTMwMmU0Y2ZmYTQwYzdiOWEwMDZmNzQyNS5iaW5kUG9wdXAocG9wdXBfZDQzN2Q3M2MwYTIzNDRlYmFhNGE0Zjg4OGU2NGM2NjkpCiAgICAgICAgOwoKICAgICAgICAKICAgIAogICAgCiAgICAgICAgICAgIHZhciBjaXJjbGVfbWFya2VyXzgyMWM0ZWVlOGUxZTQ1YzQ4ZDVlZGIzNWYxYmRkNzBmID0gTC5jaXJjbGVNYXJrZXIoCiAgICAgICAgICAgICAgICBbNDMuNjQ1NDQ5MTQ2MTY2NTEsIC03OS4zODE1MDc2NTI5MDE5XSwKICAgICAgICAgICAgICAgIHsiYnViYmxpbmdNb3VzZUV2ZW50cyI6IHRydWUsICJjb2xvciI6ICIjMDBiNWViIiwgImRhc2hBcnJheSI6IG51bGwsICJkYXNoT2Zmc2V0IjogbnVsbCwgImZpbGwiOiB0cnVlLCAiZmlsbENvbG9yIjogIiMwMGI1ZWIiLCAiZmlsbE9wYWNpdHkiOiAwLjcsICJmaWxsUnVsZSI6ICJldmVub2RkIiwgImxpbmVDYXAiOiAicm91bmQiLCAibGluZUpvaW4iOiAicm91bmQiLCAib3BhY2l0eSI6IDEuMCwgInJhZGl1cyI6IDMsICJzdHJva2UiOiB0cnVlLCAid2VpZ2h0IjogM30KICAgICAgICAgICAgKS5hZGRUbyhtYXBfNTY0Y2IyOWZiZDJhNGRiYjgyOGQwZTA4MWE2ZmI4OTYpOwogICAgICAgIAogICAgCiAgICAgICAgdmFyIHBvcHVwXzg3N2ZiZjY4NTE2YjQ5Mzc4NjJjMTdlOWFiZTQwZTNlID0gTC5wb3B1cCh7Im1heFdpZHRoIjogMjY1MH0pOwoKICAgICAgICAKICAgICAgICAgICAgdmFyIGh0bWxfZDBmOWE1MjIzMTU2NGM3MTkxMjNlMDg5YjM4ZDYyOWUgPSAkKGA8ZGl2IGlkPSJodG1sX2QwZjlhNTIyMzE1NjRjNzE5MTIzZTA4OWIzOGQ2MjllIiBzdHlsZT0id2lkdGg6IDEwMC4wJTsgaGVpZ2h0OiAxMDAuMCU7Ij4gICAgIEhvdGVsOiBUaGUgRmFpcm1vbnQgUm95YWwgWW9yayAgICAgPGJyPiAgICAgUmF0aW5nOiA4LjcgICAgIDxicj4gICAgIERpc3RhbmNlOiAzMjEyLjI2NTY2MDU3MzgzOSBtICAgICA8YnI+ICAgICBDbHVzdGVyOiAyICAgICA8YnI+ICAgICBSb2Q6IDAuMDAyNzA4MzY4NzcxMjMyMjc0NyAgICAgPC9kaXY+YClbMF07CiAgICAgICAgICAgIHBvcHVwXzg3N2ZiZjY4NTE2YjQ5Mzc4NjJjMTdlOWFiZTQwZTNlLnNldENvbnRlbnQoaHRtbF9kMGY5YTUyMjMxNTY0YzcxOTEyM2UwODliMzhkNjI5ZSk7CiAgICAgICAgCgogICAgICAgIGNpcmNsZV9tYXJrZXJfODIxYzRlZWU4ZTFlNDVjNDhkNWVkYjM1ZjFiZGQ3MGYuYmluZFBvcHVwKHBvcHVwXzg3N2ZiZjY4NTE2YjQ5Mzc4NjJjMTdlOWFiZTQwZTNlKQogICAgICAgIDsKCiAgICAgICAgCiAgICAKICAgIAogICAgICAgICAgICB2YXIgY2lyY2xlX21hcmtlcl8yMjgwNmZhZDA1YWY0YzM2OGExMDExZTJmZTVlZjc1ZSA9IEwuY2lyY2xlTWFya2VyKAogICAgICAgICAgICAgICAgWzQzLjY0NTMzMDE1NzU5NTg4NiwgLTc5LjM4NzA4OTAxNDA1MzM0XSwKICAgICAgICAgICAgICAgIHsiYnViYmxpbmdNb3VzZUV2ZW50cyI6IHRydWUsICJjb2xvciI6ICIjMDBiNWViIiwgImRhc2hBcnJheSI6IG51bGwsICJkYXNoT2Zmc2V0IjogbnVsbCwgImZpbGwiOiB0cnVlLCAiZmlsbENvbG9yIjogIiMwMGI1ZWIiLCAiZmlsbE9wYWNpdHkiOiAwLjcsICJmaWxsUnVsZSI6ICJldmVub2RkIiwgImxpbmVDYXAiOiAicm91bmQiLCAibGluZUpvaW4iOiAicm91bmQiLCAib3BhY2l0eSI6IDEuMCwgInJhZGl1cyI6IDMsICJzdHJva2UiOiB0cnVlLCAid2VpZ2h0IjogM30KICAgICAgICAgICAgKS5hZGRUbyhtYXBfNTY0Y2IyOWZiZDJhNGRiYjgyOGQwZTA4MWE2ZmI4OTYpOwogICAgICAgIAogICAgCiAgICAgICAgdmFyIHBvcHVwX2Y5Njg3YWRjMWY1YTRmMzY4NTEwNmFmYTE0YTNlODEwID0gTC5wb3B1cCh7Im1heFdpZHRoIjogMjY1MH0pOwoKICAgICAgICAKICAgICAgICAgICAgdmFyIGh0bWxfY2NlYWRkOThmZDgxNGNkODk3YTIzZWQwN2ZmZDU2NDAgPSAkKGA8ZGl2IGlkPSJodG1sX2NjZWFkZDk4ZmQ4MTRjZDg5N2EyM2VkMDdmZmQ1NjQwIiBzdHlsZT0id2lkdGg6IDEwMC4wJTsgaGVpZ2h0OiAxMDAuMCU7Ij4gICAgIEhvdGVsOiBUaGUgUml0ei1DYXJsdG9uIFRvcm9udG8gICAgIDxicj4gICAgIFJhdGluZzogOC43ICAgICA8YnI+ICAgICBEaXN0YW5jZTogMzIxNi4zMDg0NzgwOTM0NDM3IG0gICAgIDxicj4gICAgIENsdXN0ZXI6IDIgICAgIDxicj4gICAgIFJvZDogMC4wMDI3MDQ5NjQ0MjA5MzY3NTIzICAgICA8L2Rpdj5gKVswXTsKICAgICAgICAgICAgcG9wdXBfZjk2ODdhZGMxZjVhNGYzNjg1MTA2YWZhMTRhM2U4MTAuc2V0Q29udGVudChodG1sX2NjZWFkZDk4ZmQ4MTRjZDg5N2EyM2VkMDdmZmQ1NjQwKTsKICAgICAgICAKCiAgICAgICAgY2lyY2xlX21hcmtlcl8yMjgwNmZhZDA1YWY0YzM2OGExMDExZTJmZTVlZjc1ZS5iaW5kUG9wdXAocG9wdXBfZjk2ODdhZGMxZjVhNGYzNjg1MTA2YWZhMTRhM2U4MTApCiAgICAgICAgOwoKICAgICAgICAKICAgIAogICAgCiAgICAgICAgICAgIHZhciBjaXJjbGVfbWFya2VyX2MwMGJlYjI2OGRlMzQ3NTc5YmIzMjg1YWM5MTkyODY1ID0gTC5jaXJjbGVNYXJrZXIoCiAgICAgICAgICAgICAgICBbNDMuNjUwNTA0NzU1NDQwMDUsIC03OS4zODg1NzcyMzM4OTg5N10sCiAgICAgICAgICAgICAgICB7ImJ1YmJsaW5nTW91c2VFdmVudHMiOiB0cnVlLCAiY29sb3IiOiAiI2ZmMDAwMCIsICJkYXNoQXJyYXkiOiBudWxsLCAiZGFzaE9mZnNldCI6IG51bGwsICJmaWxsIjogdHJ1ZSwgImZpbGxDb2xvciI6ICIjZmYwMDAwIiwgImZpbGxPcGFjaXR5IjogMC43LCAiZmlsbFJ1bGUiOiAiZXZlbm9kZCIsICJsaW5lQ2FwIjogInJvdW5kIiwgImxpbmVKb2luIjogInJvdW5kIiwgIm9wYWNpdHkiOiAxLjAsICJyYWRpdXMiOiAzLCAic3Ryb2tlIjogdHJ1ZSwgIndlaWdodCI6IDN9CiAgICAgICAgICAgICkuYWRkVG8obWFwXzU2NGNiMjlmYmQyYTRkYmI4MjhkMGUwODFhNmZiODk2KTsKICAgICAgICAKICAgIAogICAgICAgIHZhciBwb3B1cF84MDJkNmM0MjRjOWQ0NGY3OWRlMzA3ODg1NmJkYWY3MSA9IEwucG9wdXAoeyJtYXhXaWR0aCI6IDI2NTB9KTsKCiAgICAgICAgCiAgICAgICAgICAgIHZhciBodG1sXzYwOTlmZTdlNTJmYzQxZTJiMWYyYWRmODA4NWMxNGM3ID0gJChgPGRpdiBpZD0iaHRtbF82MDk5ZmU3ZTUyZmM0MWUyYjFmMmFkZjgwODVjMTRjNyIgc3R5bGU9IndpZHRoOiAxMDAuMCU7IGhlaWdodDogMTAwLjAlOyI+ICAgICBIb3RlbDogVGhlIFJleCBIb3RlbCBKYXp6ICYgQmx1ZXMgQmFyICAgICA8YnI+ICAgICBSYXRpbmc6IDguMSAgICAgPGJyPiAgICAgRGlzdGFuY2U6IDI5OTguOTkxNDEyMzg2MTEwNCBtICAgICA8YnI+ICAgICBDbHVzdGVyOiAwICAgICA8YnI+ICAgICBSb2Q6IDAuMDAyNzAwOTA4MDM0MTI5ODI2ICAgICA8L2Rpdj5gKVswXTsKICAgICAgICAgICAgcG9wdXBfODAyZDZjNDI0YzlkNDRmNzlkZTMwNzg4NTZiZGFmNzEuc2V0Q29udGVudChodG1sXzYwOTlmZTdlNTJmYzQxZTJiMWYyYWRmODA4NWMxNGM3KTsKICAgICAgICAKCiAgICAgICAgY2lyY2xlX21hcmtlcl9jMDBiZWIyNjhkZTM0NzU3OWJiMzI4NWFjOTE5Mjg2NS5iaW5kUG9wdXAocG9wdXBfODAyZDZjNDI0YzlkNDRmNzlkZTMwNzg4NTZiZGFmNzEpCiAgICAgICAgOwoKICAgICAgICAKICAgIAogICAgCiAgICAgICAgICAgIHZhciBjaXJjbGVfbWFya2VyXzE0YzE1ZmY0ZGFhZTQwYjhiNzk2ZGJiNDFjYTQzZDJmID0gTC5jaXJjbGVNYXJrZXIoCiAgICAgICAgICAgICAgICBbNDMuNjQ5MTkwNTE2MDE5MTEsIC03OS4zNzYwMDYxMjY0MDM4N10sCiAgICAgICAgICAgICAgICB7ImJ1YmJsaW5nTW91c2VFdmVudHMiOiB0cnVlLCAiY29sb3IiOiAiIzAwYjVlYiIsICJkYXNoQXJyYXkiOiBudWxsLCAiZGFzaE9mZnNldCI6IG51bGwsICJmaWxsIjogdHJ1ZSwgImZpbGxDb2xvciI6ICIjMDBiNWViIiwgImZpbGxPcGFjaXR5IjogMC43LCAiZmlsbFJ1bGUiOiAiZXZlbm9kZCIsICJsaW5lQ2FwIjogInJvdW5kIiwgImxpbmVKb2luIjogInJvdW5kIiwgIm9wYWNpdHkiOiAxLjAsICJyYWRpdXMiOiAzLCAic3Ryb2tlIjogdHJ1ZSwgIndlaWdodCI6IDN9CiAgICAgICAgICAgICkuYWRkVG8obWFwXzU2NGNiMjlmYmQyYTRkYmI4MjhkMGUwODFhNmZiODk2KTsKICAgICAgICAKICAgIAogICAgICAgIHZhciBwb3B1cF83YzJkNjBiMjQ5YjQ0ZDNkOTcwMTdiMGYwOGZlOGEzNyA9IEwucG9wdXAoeyJtYXhXaWR0aCI6IDI2NTB9KTsKCiAgICAgICAgCiAgICAgICAgICAgIHZhciBodG1sX2NjNDhiMWI2ZTU0YjRkNjVhMjZlYzdkNWJhMWNkMmYyID0gJChgPGRpdiBpZD0iaHRtbF9jYzQ4YjFiNmU1NGI0ZDY1YTI2ZWM3ZDViYTFjZDJmMiIgc3R5bGU9IndpZHRoOiAxMDAuMCU7IGhlaWdodDogMTAwLjAlOyI+ICAgICBIb3RlbDogVGhlIE9tbmkgS2luZyBFZHdhcmQgSG90ZWwgICAgIDxicj4gICAgIFJhdGluZzogOC4zICAgICA8YnI+ICAgICBEaXN0YW5jZTogMzExNi4zODA4NTEyODI2NjY4IG0gICAgIDxicj4gICAgIENsdXN0ZXI6IDIgICAgIDxicj4gICAgIFJvZDogMC4wMDI2NjMzNDU4NDc2NjI5NDQgICAgIDwvZGl2PmApWzBdOwogICAgICAgICAgICBwb3B1cF83YzJkNjBiMjQ5YjQ0ZDNkOTcwMTdiMGYwOGZlOGEzNy5zZXRDb250ZW50KGh0bWxfY2M0OGIxYjZlNTRiNGQ2NWEyNmVjN2Q1YmExY2QyZjIpOwogICAgICAgIAoKICAgICAgICBjaXJjbGVfbWFya2VyXzE0YzE1ZmY0ZGFhZTQwYjhiNzk2ZGJiNDFjYTQzZDJmLmJpbmRQb3B1cChwb3B1cF83YzJkNjBiMjQ5YjQ0ZDNkOTcwMTdiMGYwOGZlOGEzNykKICAgICAgICA7CgogICAgICAgIAogICAgCiAgICAKICAgICAgICAgICAgdmFyIGNpcmNsZV9tYXJrZXJfOWIwYjljNTM2ZTlkNGIxM2FlMDU4MGQzNTlhNjJhNDAgPSBMLmNpcmNsZU1hcmtlcigKICAgICAgICAgICAgICAgIFs0My42NTQ2MDgzLCAtNzkuMzg1OTQxNV0sCiAgICAgICAgICAgICAgICB7ImJ1YmJsaW5nTW91c2VFdmVudHMiOiB0cnVlLCAiY29sb3IiOiAiI2ZmMDAwMCIsICJkYXNoQXJyYXkiOiBudWxsLCAiZGFzaE9mZnNldCI6IG51bGwsICJmaWxsIjogdHJ1ZSwgImZpbGxDb2xvciI6ICIjZmYwMDAwIiwgImZpbGxPcGFjaXR5IjogMC43LCAiZmlsbFJ1bGUiOiAiZXZlbm9kZCIsICJsaW5lQ2FwIjogInJvdW5kIiwgImxpbmVKb2luIjogInJvdW5kIiwgIm9wYWNpdHkiOiAxLjAsICJyYWRpdXMiOiAzLCAic3Ryb2tlIjogdHJ1ZSwgIndlaWdodCI6IDN9CiAgICAgICAgICAgICkuYWRkVG8obWFwXzU2NGNiMjlmYmQyYTRkYmI4MjhkMGUwODFhNmZiODk2KTsKICAgICAgICAKICAgIAogICAgICAgIHZhciBwb3B1cF8wZTNlMjhmOWQwZWY0YmQ5OGNiOGE4N2RlMjNlYzFlYiA9IEwucG9wdXAoeyJtYXhXaWR0aCI6IDI2NTB9KTsKCiAgICAgICAgCiAgICAgICAgICAgIHZhciBodG1sX2NhNGRiMTY2ZmFkNDQ3NGJhZTNiNDMyOGVjNjBiNjc4ID0gJChgPGRpdiBpZD0iaHRtbF9jYTRkYjE2NmZhZDQ0NzRiYWUzYjQzMjhlYzYwYjY3OCIgc3R5bGU9IndpZHRoOiAxMDAuMCU7IGhlaWdodDogMTAwLjAlOyI+ICAgICBIb3RlbDogRG91YmxlVHJlZSBieSBIaWx0b24gSG90ZWwgVG9yb250byBEb3dudG93biAgICAgPGJyPiAgICAgUmF0aW5nOiA3LjYgICAgIDxicj4gICAgIERpc3RhbmNlOiAyODU5LjMwMjcxMzMxNTEzOSBtICAgICA8YnI+ICAgICBDbHVzdGVyOiAwICAgICA8YnI+ICAgICBSb2Q6IDAuMDAyNjU3OTkwNjkyODM4NjcxNyAgICAgPC9kaXY+YClbMF07CiAgICAgICAgICAgIHBvcHVwXzBlM2UyOGY5ZDBlZjRiZDk4Y2I4YTg3ZGUyM2VjMWViLnNldENvbnRlbnQoaHRtbF9jYTRkYjE2NmZhZDQ0NzRiYWUzYjQzMjhlYzYwYjY3OCk7CiAgICAgICAgCgogICAgICAgIGNpcmNsZV9tYXJrZXJfOWIwYjljNTM2ZTlkNGIxM2FlMDU4MGQzNTlhNjJhNDAuYmluZFBvcHVwKHBvcHVwXzBlM2UyOGY5ZDBlZjRiZDk4Y2I4YTg3ZGUyM2VjMWViKQogICAgICAgIDsKCiAgICAgICAgCiAgICAKICAgIAogICAgICAgICAgICB2YXIgY2lyY2xlX21hcmtlcl81ODI0MzEyM2EwNDQ0NzEwODIzYjlkYjJlODI2MWE0YSA9IEwuY2lyY2xlTWFya2VyKAogICAgICAgICAgICAgICAgWzQzLjY1MDE0MjUsIC03OS4zODU0ODg0XSwKICAgICAgICAgICAgICAgIHsiYnViYmxpbmdNb3VzZUV2ZW50cyI6IHRydWUsICJjb2xvciI6ICIjZmYwMDAwIiwgImRhc2hBcnJheSI6IG51bGwsICJkYXNoT2Zmc2V0IjogbnVsbCwgImZpbGwiOiB0cnVlLCAiZmlsbENvbG9yIjogIiNmZjAwMDAiLCAiZmlsbE9wYWNpdHkiOiAwLjcsICJmaWxsUnVsZSI6ICJldmVub2RkIiwgImxpbmVDYXAiOiAicm91bmQiLCAibGluZUpvaW4iOiAicm91bmQiLCAib3BhY2l0eSI6IDEuMCwgInJhZGl1cyI6IDMsICJzdHJva2UiOiB0cnVlLCAid2VpZ2h0IjogM30KICAgICAgICAgICAgKS5hZGRUbyhtYXBfNTY0Y2IyOWZiZDJhNGRiYjgyOGQwZTA4MWE2ZmI4OTYpOwogICAgICAgIAogICAgCiAgICAgICAgdmFyIHBvcHVwXzFkMDE4YTFjNWI0NTQ1YWE4ZThjMjhmMWQwNmQ3NWEyID0gTC5wb3B1cCh7Im1heFdpZHRoIjogMjY1MH0pOwoKICAgICAgICAKICAgICAgICAgICAgdmFyIGh0bWxfNDBlOTg2ZWYwNjRlNGQ0Zjg4YWJhNjUzNDc1ZDJiYjMgPSAkKGA8ZGl2IGlkPSJodG1sXzQwZTk4NmVmMDY0ZTRkNGY4OGFiYTY1MzQ3NWQyYmIzIiBzdHlsZT0id2lkdGg6IDEwMC4wJTsgaGVpZ2h0OiAxMDAuMCU7Ij4gICAgIEhvdGVsOiBIaWx0b24gVG9yb250byAgICAgPGJyPiAgICAgUmF0aW5nOiA4LjAgICAgIDxicj4gICAgIERpc3RhbmNlOiAzMDEyLjE0MzQ3MjczNDk3MzMgbSAgICAgPGJyPiAgICAgQ2x1c3RlcjogMCAgICAgPGJyPiAgICAgUm9kOiAwLjAwMjY1NTkxNTk4NTU0NzcwNzMgICAgIDwvZGl2PmApWzBdOwogICAgICAgICAgICBwb3B1cF8xZDAxOGExYzViNDU0NWFhOGU4YzI4ZjFkMDZkNzVhMi5zZXRDb250ZW50KGh0bWxfNDBlOTg2ZWYwNjRlNGQ0Zjg4YWJhNjUzNDc1ZDJiYjMpOwogICAgICAgIAoKICAgICAgICBjaXJjbGVfbWFya2VyXzU4MjQzMTIzYTA0NDQ3MTA4MjNiOWRiMmU4MjYxYTRhLmJpbmRQb3B1cChwb3B1cF8xZDAxOGExYzViNDU0NWFhOGU4YzI4ZjFkMDZkNzVhMikKICAgICAgICA7CgogICAgICAgIAogICAgCiAgICAKICAgICAgICAgICAgdmFyIGNpcmNsZV9tYXJrZXJfY2ViMWMxZGVkN2U1NDY1MWEyYjJiNjNkYmZmZGE2YjAgPSBMLmNpcmNsZU1hcmtlcigKICAgICAgICAgICAgICAgIFs0My42NDU2NjkwMDA2OTEzMzUsIC03OS4zOTEwNDM4MDMwODk5Nl0sCiAgICAgICAgICAgICAgICB7ImJ1YmJsaW5nTW91c2VFdmVudHMiOiB0cnVlLCAiY29sb3IiOiAiIzAwYjVlYiIsICJkYXNoQXJyYXkiOiBudWxsLCAiZGFzaE9mZnNldCI6IG51bGwsICJmaWxsIjogdHJ1ZSwgImZpbGxDb2xvciI6ICIjMDBiNWViIiwgImZpbGxPcGFjaXR5IjogMC43LCAiZmlsbFJ1bGUiOiAiZXZlbm9kZCIsICJsaW5lQ2FwIjogInJvdW5kIiwgImxpbmVKb2luIjogInJvdW5kIiwgIm9wYWNpdHkiOiAxLjAsICJyYWRpdXMiOiAzLCAic3Ryb2tlIjogdHJ1ZSwgIndlaWdodCI6IDN9CiAgICAgICAgICAgICkuYWRkVG8obWFwXzU2NGNiMjlmYmQyYTRkYmI4MjhkMGUwODFhNmZiODk2KTsKICAgICAgICAKICAgIAogICAgICAgIHZhciBwb3B1cF80ZGE1ZWU3OGI0MDY0OGM3ODlkMjM4NzEzMjg2NGUzZSA9IEwucG9wdXAoeyJtYXhXaWR0aCI6IDI2NTB9KTsKCiAgICAgICAgCiAgICAgICAgICAgIHZhciBodG1sXzFjZWIzZjYyNzBmMDQ0OTA4NzExN2E2ZDM0Y2FiM2JmID0gJChgPGRpdiBpZD0iaHRtbF8xY2ViM2Y2MjcwZjA0NDkwODcxMTdhNmQzNGNhYjNiZiIgc3R5bGU9IndpZHRoOiAxMDAuMCU7IGhlaWdodDogMTAwLjAlOyI+ICAgICBIb3RlbDogTGUgR2VybWFpbiBIb3RlbCBUb3JvbnRvIE1lcmNlciAgICAgPGJyPiAgICAgUmF0aW5nOiA4LjUgICAgIDxicj4gICAgIERpc3RhbmNlOiAzMjI1LjMyMTY2MDI1NjUxNyBtICAgICA8YnI+ICAgICBDbHVzdGVyOiAyICAgICA8YnI+ICAgICBSb2Q6IDAuMDAyNjM1Mzk2MDYxMzQxNjY5NSAgICAgPC9kaXY+YClbMF07CiAgICAgICAgICAgIHBvcHVwXzRkYTVlZTc4YjQwNjQ4Yzc4OWQyMzg3MTMyODY0ZTNlLnNldENvbnRlbnQoaHRtbF8xY2ViM2Y2MjcwZjA0NDkwODcxMTdhNmQzNGNhYjNiZik7CiAgICAgICAgCgogICAgICAgIGNpcmNsZV9tYXJrZXJfY2ViMWMxZGVkN2U1NDY1MWEyYjJiNjNkYmZmZGE2YjAuYmluZFBvcHVwKHBvcHVwXzRkYTVlZTc4YjQwNjQ4Yzc4OWQyMzg3MTMyODY0ZTNlKQogICAgICAgIDsKCiAgICAgICAgCiAgICAKICAgIAogICAgICAgICAgICB2YXIgY2lyY2xlX21hcmtlcl8zYzc5ODMzNGEyMTk0NTFmYWIxMDE3N2YwMzZkN2E1NSA9IEwuY2lyY2xlTWFya2VyKAogICAgICAgICAgICAgICAgWzQzLjY0OTgzMTIsIC03OS4zODAxNjM5XSwKICAgICAgICAgICAgICAgIHsiYnViYmxpbmdNb3VzZUV2ZW50cyI6IHRydWUsICJjb2xvciI6ICIjZmYwMDAwIiwgImRhc2hBcnJheSI6IG51bGwsICJkYXNoT2Zmc2V0IjogbnVsbCwgImZpbGwiOiB0cnVlLCAiZmlsbENvbG9yIjogIiNmZjAwMDAiLCAiZmlsbE9wYWNpdHkiOiAwLjcsICJmaWxsUnVsZSI6ICJldmVub2RkIiwgImxpbmVDYXAiOiAicm91bmQiLCAibGluZUpvaW4iOiAicm91bmQiLCAib3BhY2l0eSI6IDEuMCwgInJhZGl1cyI6IDMsICJzdHJva2UiOiB0cnVlLCAid2VpZ2h0IjogM30KICAgICAgICAgICAgKS5hZGRUbyhtYXBfNTY0Y2IyOWZiZDJhNGRiYjgyOGQwZTA4MWE2ZmI4OTYpOwogICAgICAgIAogICAgCiAgICAgICAgdmFyIHBvcHVwXzA4Yjc0YTgwOTFkMjRkMzE5YWRiODFhNjI1ZTFjNWMyID0gTC5wb3B1cCh7Im1heFdpZHRoIjogMjY1MH0pOwoKICAgICAgICAKICAgICAgICAgICAgdmFyIGh0bWxfNDNmNmEyNTI3OWVlNDFkMTkxYjg2NGNkNWZmZjIzYjkgPSAkKGA8ZGl2IGlkPSJodG1sXzQzZjZhMjUyNzllZTQxZDE5MWI4NjRjZDVmZmYyM2I5IiBzdHlsZT0id2lkdGg6IDEwMC4wJTsgaGVpZ2h0OiAxMDAuMCU7Ij4gICAgIEhvdGVsOiBUaGUgQWRlbGFpZGUgSG90ZWwgVG9yb250byAgICAgPGJyPiAgICAgUmF0aW5nOiA3LjggICAgIDxicj4gICAgIERpc3RhbmNlOiAzMDUwLjkyMjY1Njc0NTc1MDQgbSAgICAgPGJyPiAgICAgQ2x1c3RlcjogMCAgICAgPGJyPiAgICAgUm9kOiAwLjAwMjU1NjYwMzY0OTk2NTk1MDYgICAgIDwvZGl2PmApWzBdOwogICAgICAgICAgICBwb3B1cF8wOGI3NGE4MDkxZDI0ZDMxOWFkYjgxYTYyNWUxYzVjMi5zZXRDb250ZW50KGh0bWxfNDNmNmEyNTI3OWVlNDFkMTkxYjg2NGNkNWZmZjIzYjkpOwogICAgICAgIAoKICAgICAgICBjaXJjbGVfbWFya2VyXzNjNzk4MzM0YTIxOTQ1MWZhYjEwMTc3ZjAzNmQ3YTU1LmJpbmRQb3B1cChwb3B1cF8wOGI3NGE4MDkxZDI0ZDMxOWFkYjgxYTYyNWUxYzVjMikKICAgICAgICA7CgogICAgICAgIAogICAgCiAgICAKICAgICAgICAgICAgdmFyIGNpcmNsZV9tYXJrZXJfMGYxODA1MzhhMmMzNGRmYWFmZWRjZWQ0ZDk1YzE4MmUgPSBMLmNpcmNsZU1hcmtlcigKICAgICAgICAgICAgICAgIFs0My42NDkwNjQzMjk1NzQ2NiwgLTc5LjM3NzU5NzU5NzAxMTI1XSwKICAgICAgICAgICAgICAgIHsiYnViYmxpbmdNb3VzZUV2ZW50cyI6IHRydWUsICJjb2xvciI6ICIjZmYwMDAwIiwgImRhc2hBcnJheSI6IG51bGwsICJkYXNoT2Zmc2V0IjogbnVsbCwgImZpbGwiOiB0cnVlLCAiZmlsbENvbG9yIjogIiNmZjAwMDAiLCAiZmlsbE9wYWNpdHkiOiAwLjcsICJmaWxsUnVsZSI6ICJldmVub2RkIiwgImxpbmVDYXAiOiAicm91bmQiLCAibGluZUpvaW4iOiAicm91bmQiLCAib3BhY2l0eSI6IDEuMCwgInJhZGl1cyI6IDMsICJzdHJva2UiOiB0cnVlLCAid2VpZ2h0IjogM30KICAgICAgICAgICAgKS5hZGRUbyhtYXBfNTY0Y2IyOWZiZDJhNGRiYjgyOGQwZTA4MWE2ZmI4OTYpOwogICAgICAgIAogICAgCiAgICAgICAgdmFyIHBvcHVwXzQ0MGExZThjZDg3NzRkMDhhYWFjNWNhMDI2OTRiNjdjID0gTC5wb3B1cCh7Im1heFdpZHRoIjogMjY1MH0pOwoKICAgICAgICAKICAgICAgICAgICAgdmFyIGh0bWxfYzk4YzVmYzNiNDVjNGRkMzkyNTcyZWQzNzg0ODFhOTYgPSAkKGA8ZGl2IGlkPSJodG1sX2M5OGM1ZmMzYjQ1YzRkZDM5MjU3MmVkMzc4NDgxYTk2IiBzdHlsZT0id2lkdGg6IDEwMC4wJTsgaGVpZ2h0OiAxMDAuMCU7Ij4gICAgIEhvdGVsOiBDb3Ntb3BvbGl0YW4gVG9yb250byBDZW50cmUgSG90ZWwgJiBTcGEgICAgIDxicj4gICAgIFJhdGluZzogNy45ICAgICA8YnI+ICAgICBEaXN0YW5jZTogMzEwMS42MzUwODMxMTg0MzYzIG0gICAgIDxicj4gICAgIENsdXN0ZXI6IDAgICAgIDxicj4gICAgIFJvZDogMC4wMDI1NDcwNDM2NjgzNTM1MzQgICAgIDwvZGl2PmApWzBdOwogICAgICAgICAgICBwb3B1cF80NDBhMWU4Y2Q4Nzc0ZDA4YWFhYzVjYTAyNjk0YjY3Yy5zZXRDb250ZW50KGh0bWxfYzk4YzVmYzNiNDVjNGRkMzkyNTcyZWQzNzg0ODFhOTYpOwogICAgICAgIAoKICAgICAgICBjaXJjbGVfbWFya2VyXzBmMTgwNTM4YTJjMzRkZmFhZmVkY2VkNGQ5NWMxODJlLmJpbmRQb3B1cChwb3B1cF80NDBhMWU4Y2Q4Nzc0ZDA4YWFhYzVjYTAyNjk0YjY3YykKICAgICAgICA7CgogICAgICAgIAogICAgCiAgICAKICAgICAgICAgICAgdmFyIGNpcmNsZV9tYXJrZXJfNzBkZGViZDZjM2RhNDNkMDhkY2FkM2NjNDkyMWNlZjUgPSBMLmNpcmNsZU1hcmtlcigKICAgICAgICAgICAgICAgIFs0My42NTA2MjMyMTM4NzgyNTUsIC03OS4zNzUxOTAzOTY0MTEyM10sCiAgICAgICAgICAgICAgICB7ImJ1YmJsaW5nTW91c2VFdmVudHMiOiB0cnVlLCAiY29sb3IiOiAiI2ZmMDAwMCIsICJkYXNoQXJyYXkiOiBudWxsLCAiZGFzaE9mZnNldCI6IG51bGwsICJmaWxsIjogdHJ1ZSwgImZpbGxDb2xvciI6ICIjZmYwMDAwIiwgImZpbGxPcGFjaXR5IjogMC43LCAiZmlsbFJ1bGUiOiAiZXZlbm9kZCIsICJsaW5lQ2FwIjogInJvdW5kIiwgImxpbmVKb2luIjogInJvdW5kIiwgIm9wYWNpdHkiOiAxLjAsICJyYWRpdXMiOiAzLCAic3Ryb2tlIjogdHJ1ZSwgIndlaWdodCI6IDN9CiAgICAgICAgICAgICkuYWRkVG8obWFwXzU2NGNiMjlmYmQyYTRkYmI4MjhkMGUwODFhNmZiODk2KTsKICAgICAgICAKICAgIAogICAgICAgIHZhciBwb3B1cF9jOWMxNzA4MjlhMDI0NmQ5YjIzOWY0NDc4YWZkZTAzOSA9IEwucG9wdXAoeyJtYXhXaWR0aCI6IDI2NTB9KTsKCiAgICAgICAgCiAgICAgICAgICAgIHZhciBodG1sXzIyMTc5Yjg3Y2FiNDRkMzk5NGNlM2Q3NzYzN2VhOWQwID0gJChgPGRpdiBpZD0iaHRtbF8yMjE3OWI4N2NhYjQ0ZDM5OTRjZTNkNzc2MzdlYTlkMCIgc3R5bGU9IndpZHRoOiAxMDAuMCU7IGhlaWdodDogMTAwLjAlOyI+ICAgICBIb3RlbDogSEktVG9yb250byBIb3N0ZWwgICAgIDxicj4gICAgIFJhdGluZzogNy43ICAgICA8YnI+ICAgICBEaXN0YW5jZTogMzA4NC42MDU4MDM4NjU5ODQgbSAgICAgPGJyPiAgICAgQ2x1c3RlcjogMCAgICAgPGJyPiAgICAgUm9kOiAwLjAwMjQ5NjI2NzEwNDk3MzE3NyAgICAgPC9kaXY+YClbMF07CiAgICAgICAgICAgIHBvcHVwX2M5YzE3MDgyOWEwMjQ2ZDliMjM5ZjQ0NzhhZmRlMDM5LnNldENvbnRlbnQoaHRtbF8yMjE3OWI4N2NhYjQ0ZDM5OTRjZTNkNzc2MzdlYTlkMCk7CiAgICAgICAgCgogICAgICAgIGNpcmNsZV9tYXJrZXJfNzBkZGViZDZjM2RhNDNkMDhkY2FkM2NjNDkyMWNlZjUuYmluZFBvcHVwKHBvcHVwX2M5YzE3MDgyOWEwMjQ2ZDliMjM5ZjQ0NzhhZmRlMDM5KQogICAgICAgIDsKCiAgICAgICAgCiAgICAKICAgIAogICAgICAgICAgICB2YXIgY2lyY2xlX21hcmtlcl81YTQ0OWU5ZjNkYWU0YTY5OTU0YjdkNjYyNDNkZmI5YSA9IEwuY2lyY2xlTWFya2VyKAogICAgICAgICAgICAgICAgWzQzLjY0NDc1MTc2MTc2MTQ4LCAtNzkuMzkwNzI3NDMwNTgyMDVdLAogICAgICAgICAgICAgICAgeyJidWJibGluZ01vdXNlRXZlbnRzIjogdHJ1ZSwgImNvbG9yIjogIiNmZjAwMDAiLCAiZGFzaEFycmF5IjogbnVsbCwgImRhc2hPZmZzZXQiOiBudWxsLCAiZmlsbCI6IHRydWUsICJmaWxsQ29sb3IiOiAiI2ZmMDAwMCIsICJmaWxsT3BhY2l0eSI6IDAuNywgImZpbGxSdWxlIjogImV2ZW5vZGQiLCAibGluZUNhcCI6ICJyb3VuZCIsICJsaW5lSm9pbiI6ICJyb3VuZCIsICJvcGFjaXR5IjogMS4wLCAicmFkaXVzIjogMywgInN0cm9rZSI6IHRydWUsICJ3ZWlnaHQiOiAzfQogICAgICAgICAgICApLmFkZFRvKG1hcF81NjRjYjI5ZmJkMmE0ZGJiODI4ZDBlMDgxYTZmYjg5Nik7CiAgICAgICAgCiAgICAKICAgICAgICB2YXIgcG9wdXBfOGY2MGRkMTRlYWU0NGM2ODllNDBjMDg4M2FiZjNmNjMgPSBMLnBvcHVwKHsibWF4V2lkdGgiOiAyNjUwfSk7CgogICAgICAgIAogICAgICAgICAgICB2YXIgaHRtbF9kYTllOTY5OGU0ZmQ0MzQyOTg1MjA3NDIwNWIyNDExMiA9ICQoYDxkaXYgaWQ9Imh0bWxfZGE5ZTk2OThlNGZkNDM0Mjk4NTIwNzQyMDViMjQxMTIiIHN0eWxlPSJ3aWR0aDogMTAwLjAlOyBoZWlnaHQ6IDEwMC4wJTsiPiAgICAgSG90ZWw6IFJlc2lkZW5jZSBJbm4gVG9yb250byBEb3dudG93bi9FbnRlcnRhaW5tZW50IERpc3RyaWN0ICAgICA8YnI+ICAgICBSYXRpbmc6IDguMCAgICAgPGJyPiAgICAgRGlzdGFuY2U6IDMyNjYuNzQ2MzcyMTY1OTQ1NiBtICAgICA8YnI+ICAgICBDbHVzdGVyOiAwICAgICA8YnI+ICAgICBSb2Q6IDAuMDAyNDQ4OTE5ODM5MDY3ODE2NSAgICAgPC9kaXY+YClbMF07CiAgICAgICAgICAgIHBvcHVwXzhmNjBkZDE0ZWFlNDRjNjg5ZTQwYzA4ODNhYmYzZjYzLnNldENvbnRlbnQoaHRtbF9kYTllOTY5OGU0ZmQ0MzQyOTg1MjA3NDIwNWIyNDExMik7CiAgICAgICAgCgogICAgICAgIGNpcmNsZV9tYXJrZXJfNWE0NDllOWYzZGFlNGE2OTk1NGI3ZDY2MjQzZGZiOWEuYmluZFBvcHVwKHBvcHVwXzhmNjBkZDE0ZWFlNDRjNjg5ZTQwYzA4ODNhYmYzZjYzKQogICAgICAgIDsKCiAgICAgICAgCiAgICAKICAgIAogICAgICAgICAgICB2YXIgY2lyY2xlX21hcmtlcl81OTEzNzljNjE1NjQ0OTQ5OWQ3M2ZhNDIxYTdiNWUyZSA9IEwuY2lyY2xlTWFya2VyKAogICAgICAgICAgICAgICAgWzQzLjY1OTM5ODAxMTQ1Njk2NSwgLTc5LjM4MDkzMjQ5NjMzNzA1XSwKICAgICAgICAgICAgICAgIHsiYnViYmxpbmdNb3VzZUV2ZW50cyI6IHRydWUsICJjb2xvciI6ICIjZmZiMzYwIiwgImRhc2hBcnJheSI6IG51bGwsICJkYXNoT2Zmc2V0IjogbnVsbCwgImZpbGwiOiB0cnVlLCAiZmlsbENvbG9yIjogIiNmZmIzNjAiLCAiZmlsbE9wYWNpdHkiOiAwLjcsICJmaWxsUnVsZSI6ICJldmVub2RkIiwgImxpbmVDYXAiOiAicm91bmQiLCAibGluZUpvaW4iOiAicm91bmQiLCAib3BhY2l0eSI6IDEuMCwgInJhZGl1cyI6IDMsICJzdHJva2UiOiB0cnVlLCAid2VpZ2h0IjogM30KICAgICAgICAgICAgKS5hZGRUbyhtYXBfNTY0Y2IyOWZiZDJhNGRiYjgyOGQwZTA4MWE2ZmI4OTYpOwogICAgICAgIAogICAgCiAgICAgICAgdmFyIHBvcHVwXzUzYTkwZTc1Y2I3NDQ4OTViZDNkN2IyZWJiOGViYmFiID0gTC5wb3B1cCh7Im1heFdpZHRoIjogMjY1MH0pOwoKICAgICAgICAKICAgICAgICAgICAgdmFyIGh0bWxfYmNiMmUxNGNmMWE1NGI5MTkzMmVmZmRhZTJjZjI5YzggPSAkKGA8ZGl2IGlkPSJodG1sX2JjYjJlMTRjZjFhNTRiOTE5MzJlZmZkYWUyY2YyOWM4IiBzdHlsZT0id2lkdGg6IDEwMC4wJTsgaGVpZ2h0OiAxMDAuMCU7Ij4gICAgIEhvdGVsOiBUaGUgU2FpbnQgSmFtZXMgSG90ZWwgICAgIDxicj4gICAgIFJhdGluZzogNi45ICAgICA8YnI+ICAgICBEaXN0YW5jZTogMjgxOS42MTMxMjk3NzYzMTYgbSAgICAgPGJyPiAgICAgQ2x1c3RlcjogNCAgICAgPGJyPiAgICAgUm9kOiAwLjAwMjQ0NzE0NDIyOTUxNjEyMDYgICAgIDwvZGl2PmApWzBdOwogICAgICAgICAgICBwb3B1cF81M2E5MGU3NWNiNzQ0ODk1YmQzZDdiMmViYjhlYmJhYi5zZXRDb250ZW50KGh0bWxfYmNiMmUxNGNmMWE1NGI5MTkzMmVmZmRhZTJjZjI5YzgpOwogICAgICAgIAoKICAgICAgICBjaXJjbGVfbWFya2VyXzU5MTM3OWM2MTU2NDQ5NDk5ZDczZmE0MjFhN2I1ZTJlLmJpbmRQb3B1cChwb3B1cF81M2E5MGU3NWNiNzQ0ODk1YmQzZDdiMmViYjhlYmJhYikKICAgICAgICA7CgogICAgICAgIAogICAgCiAgICAKICAgICAgICAgICAgdmFyIGNpcmNsZV9tYXJrZXJfMWVkNWU1ZmY5ZWJjNGQxYjk1YzEyNTk3YTYyZTZmOWMgPSBMLmNpcmNsZU1hcmtlcigKICAgICAgICAgICAgICAgIFs0My42NDMxMjUwMjk3OTY5MSwgLTc5LjM4MDkxNzcwODY0MDM4XSwKICAgICAgICAgICAgICAgIHsiYnViYmxpbmdNb3VzZUV2ZW50cyI6IHRydWUsICJjb2xvciI6ICIjZmYwMDAwIiwgImRhc2hBcnJheSI6IG51bGwsICJkYXNoT2Zmc2V0IjogbnVsbCwgImZpbGwiOiB0cnVlLCAiZmlsbENvbG9yIjogIiNmZjAwMDAiLCAiZmlsbE9wYWNpdHkiOiAwLjcsICJmaWxsUnVsZSI6ICJldmVub2RkIiwgImxpbmVDYXAiOiAicm91bmQiLCAibGluZUpvaW4iOiAicm91bmQiLCAib3BhY2l0eSI6IDEuMCwgInJhZGl1cyI6IDMsICJzdHJva2UiOiB0cnVlLCAid2VpZ2h0IjogM30KICAgICAgICAgICAgKS5hZGRUbyhtYXBfNTY0Y2IyOWZiZDJhNGRiYjgyOGQwZTA4MWE2ZmI4OTYpOwogICAgICAgIAogICAgCiAgICAgICAgdmFyIHBvcHVwXzM2YTI4NzhkNjcwODRhYTdhNjc3ZmViZGIyZWNhOWFiID0gTC5wb3B1cCh7Im1heFdpZHRoIjogMjY1MH0pOwoKICAgICAgICAKICAgICAgICAgICAgdmFyIGh0bWxfNDIxMjYxMWQ3Yzg4NDgzMjk1ZGVmZWJhMGNjZTczNDAgPSAkKGA8ZGl2IGlkPSJodG1sXzQyMTI2MTFkN2M4ODQ4MzI5NWRlZmViYTBjY2U3MzQwIiBzdHlsZT0id2lkdGg6IDEwMC4wJTsgaGVpZ2h0OiAxMDAuMCU7Ij4gICAgIEhvdGVsOiBMZSBHZXJtYWluIEhvdGVsIFRvcm9udG8gTWFwbGUgTGVhZiBTcXVhcmUgICAgIDxicj4gICAgIFJhdGluZzogOC4xICAgICA8YnI+ICAgICBEaXN0YW5jZTogMzMxOS4wNzEwMjQwODUwMTQgbSAgICAgPGJyPiAgICAgQ2x1c3RlcjogMCAgICAgPGJyPiAgICAgUm9kOiAwLjAwMjQ0MDQ0MTkwMTEyODkzNyAgICAgPC9kaXY+YClbMF07CiAgICAgICAgICAgIHBvcHVwXzM2YTI4NzhkNjcwODRhYTdhNjc3ZmViZGIyZWNhOWFiLnNldENvbnRlbnQoaHRtbF80MjEyNjExZDdjODg0ODMyOTVkZWZlYmEwY2NlNzM0MCk7CiAgICAgICAgCgogICAgICAgIGNpcmNsZV9tYXJrZXJfMWVkNWU1ZmY5ZWJjNGQxYjk1YzEyNTk3YTYyZTZmOWMuYmluZFBvcHVwKHBvcHVwXzM2YTI4NzhkNjcwODRhYTdhNjc3ZmViZGIyZWNhOWFiKQogICAgICAgIDsKCiAgICAgICAgCiAgICAKICAgIAogICAgICAgICAgICB2YXIgY2lyY2xlX21hcmtlcl82ODIwZGY2NzlhOGE0M2IzODk1Mjg3ZTYxZGYyZGVkMSA9IEwuY2lyY2xlTWFya2VyKAogICAgICAgICAgICAgICAgWzQzLjY0OTEzOTUsIC03OS4zNzc4NzYzXSwKICAgICAgICAgICAgICAgIHsiYnViYmxpbmdNb3VzZUV2ZW50cyI6IHRydWUsICJjb2xvciI6ICIjZmYwMDAwIiwgImRhc2hBcnJheSI6IG51bGwsICJkYXNoT2Zmc2V0IjogbnVsbCwgImZpbGwiOiB0cnVlLCAiZmlsbENvbG9yIjogIiNmZjAwMDAiLCAiZmlsbE9wYWNpdHkiOiAwLjcsICJmaWxsUnVsZSI6ICJldmVub2RkIiwgImxpbmVDYXAiOiAicm91bmQiLCAibGluZUpvaW4iOiAicm91bmQiLCAib3BhY2l0eSI6IDEuMCwgInJhZGl1cyI6IDMsICJzdHJva2UiOiB0cnVlLCAid2VpZ2h0IjogM30KICAgICAgICAgICAgKS5hZGRUbyhtYXBfNTY0Y2IyOWZiZDJhNGRiYjgyOGQwZTA4MWE2ZmI4OTYpOwogICAgICAgIAogICAgCiAgICAgICAgdmFyIHBvcHVwXzdmOGFhZGNmZTExNTRjNGNhNTUxYjU5ZDZjZWQxNGU2ID0gTC5wb3B1cCh7Im1heFdpZHRoIjogMjY1MH0pOwoKICAgICAgICAKICAgICAgICAgICAgdmFyIGh0bWxfZDk3ZDBmYjc5MzEyNDlkYTk2OTMwOTkzYjkyM2M4MjcgPSAkKGA8ZGl2IGlkPSJodG1sX2Q5N2QwZmI3OTMxMjQ5ZGE5NjkzMDk5M2I5MjNjODI3IiBzdHlsZT0id2lkdGg6IDEwMC4wJTsgaGVpZ2h0OiAxMDAuMCU7Ij4gICAgIEhvdGVsOiBPbmUgS2luZyBXZXN0IEhvdGVsICYgUmVzaWRlbmNlICAgICA8YnI+ICAgICBSYXRpbmc6IDcuNSAgICAgPGJyPiAgICAgRGlzdGFuY2U6IDMwOTYuMDk5Mzg4MjIxMjE2IG0gICAgIDxicj4gICAgIENsdXN0ZXI6IDAgICAgIDxicj4gICAgIFJvZDogMC4wMDI0MjI0MDI4NTU4NDI3MjkgICAgIDwvZGl2PmApWzBdOwogICAgICAgICAgICBwb3B1cF83ZjhhYWRjZmUxMTU0YzRjYTU1MWI1OWQ2Y2VkMTRlNi5zZXRDb250ZW50KGh0bWxfZDk3ZDBmYjc5MzEyNDlkYTk2OTMwOTkzYjkyM2M4MjcpOwogICAgICAgIAoKICAgICAgICBjaXJjbGVfbWFya2VyXzY4MjBkZjY3OWE4YTQzYjM4OTUyODdlNjFkZjJkZWQxLmJpbmRQb3B1cChwb3B1cF83ZjhhYWRjZmUxMTU0YzRjYTU1MWI1OWQ2Y2VkMTRlNikKICAgICAgICA7CgogICAgICAgIAogICAgCiAgICAKICAgICAgICAgICAgdmFyIGNpcmNsZV9tYXJrZXJfNmI4NTZhMjM2MTU1NDU3Yzk3MjgyZWRmYzZkZWI5MTcgPSBMLmNpcmNsZU1hcmtlcigKICAgICAgICAgICAgICAgIFs0My42NDI3NTM0NDMwNjQ5MSwgLTc5LjQwMTU1NzkyNDIyNTgzXSwKICAgICAgICAgICAgICAgIHsiYnViYmxpbmdNb3VzZUV2ZW50cyI6IHRydWUsICJjb2xvciI6ICIjMDBiNWViIiwgImRhc2hBcnJheSI6IG51bGwsICJkYXNoT2Zmc2V0IjogbnVsbCwgImZpbGwiOiB0cnVlLCAiZmlsbENvbG9yIjogIiMwMGI1ZWIiLCAiZmlsbE9wYWNpdHkiOiAwLjcsICJmaWxsUnVsZSI6ICJldmVub2RkIiwgImxpbmVDYXAiOiAicm91bmQiLCAibGluZUpvaW4iOiAicm91bmQiLCAib3BhY2l0eSI6IDEuMCwgInJhZGl1cyI6IDMsICJzdHJva2UiOiB0cnVlLCAid2VpZ2h0IjogM30KICAgICAgICAgICAgKS5hZGRUbyhtYXBfNTY0Y2IyOWZiZDJhNGRiYjgyOGQwZTA4MWE2ZmI4OTYpOwogICAgICAgIAogICAgCiAgICAgICAgdmFyIHBvcHVwX2I4ZTJmYzBmNzRlNjQ0ODJiZWU2NDIxYWNmYjQ3YmMxID0gTC5wb3B1cCh7Im1heFdpZHRoIjogMjY1MH0pOwoKICAgICAgICAKICAgICAgICAgICAgdmFyIGh0bWxfMDIwZjRlNWQ3YTIwNDFkNmE1YjAyMmEzOTBhZjVlMzYgPSAkKGA8ZGl2IGlkPSJodG1sXzAyMGY0ZTVkN2EyMDQxZDZhNWIwMjJhMzkwYWY1ZTM2IiBzdHlsZT0id2lkdGg6IDEwMC4wJTsgaGVpZ2h0OiAxMDAuMCU7Ij4gICAgIEhvdGVsOiBUaG9tcHNvbiBIb3RlbCAgICAgPGJyPiAgICAgUmF0aW5nOiA4LjYgICAgIDxicj4gICAgIERpc3RhbmNlOiAzNTUzLjQ2OTU5MzEwNjM1MzQgbSAgICAgPGJyPiAgICAgQ2x1c3RlcjogMiAgICAgPGJyPiAgICAgUm9kOiAwLjAwMjQyMDE2OTg1Nzg0MzY2OCAgICAgPC9kaXY+YClbMF07CiAgICAgICAgICAgIHBvcHVwX2I4ZTJmYzBmNzRlNjQ0ODJiZWU2NDIxYWNmYjQ3YmMxLnNldENvbnRlbnQoaHRtbF8wMjBmNGU1ZDdhMjA0MWQ2YTViMDIyYTM5MGFmNWUzNik7CiAgICAgICAgCgogICAgICAgIGNpcmNsZV9tYXJrZXJfNmI4NTZhMjM2MTU1NDU3Yzk3MjgyZWRmYzZkZWI5MTcuYmluZFBvcHVwKHBvcHVwX2I4ZTJmYzBmNzRlNjQ0ODJiZWU2NDIxYWNmYjQ3YmMxKQogICAgICAgIDsKCiAgICAgICAgCiAgICAKICAgIAogICAgICAgICAgICB2YXIgY2lyY2xlX21hcmtlcl81YTc1MGNiYmE3M2E0MTAwODIzMzllMmJhNGM0MTkwNyA9IEwuY2lyY2xlTWFya2VyKAogICAgICAgICAgICAgICAgWzQzLjY0NDE3NzIsIC03OS4zODU0NDI1XSwKICAgICAgICAgICAgICAgIHsiYnViYmxpbmdNb3VzZUV2ZW50cyI6IHRydWUsICJjb2xvciI6ICIjZmYwMDAwIiwgImRhc2hBcnJheSI6IG51bGwsICJkYXNoT2Zmc2V0IjogbnVsbCwgImZpbGwiOiB0cnVlLCAiZmlsbENvbG9yIjogIiNmZjAwMDAiLCAiZmlsbE9wYWNpdHkiOiAwLjcsICJmaWxsUnVsZSI6ICJldmVub2RkIiwgImxpbmVDYXAiOiAicm91bmQiLCAibGluZUpvaW4iOiAicm91bmQiLCAib3BhY2l0eSI6IDEuMCwgInJhZGl1cyI6IDMsICJzdHJva2UiOiB0cnVlLCAid2VpZ2h0IjogM30KICAgICAgICAgICAgKS5hZGRUbyhtYXBfNTY0Y2IyOWZiZDJhNGRiYjgyOGQwZTA4MWE2ZmI4OTYpOwogICAgICAgIAogICAgCiAgICAgICAgdmFyIHBvcHVwX2I1MDI4YzBhYzQxYTQ2Zjg5ZGYzYTc4YjM5MTNhODEyID0gTC5wb3B1cCh7Im1heFdpZHRoIjogMjY1MH0pOwoKICAgICAgICAKICAgICAgICAgICAgdmFyIGh0bWxfMTM0Y2UxMzlkNGY3NDdkNjgwMjg2OTNlYTVjMmVjYTQgPSAkKGA8ZGl2IGlkPSJodG1sXzEzNGNlMTM5ZDRmNzQ3ZDY4MDI4NjkzZWE1YzJlY2E0IiBzdHlsZT0id2lkdGg6IDEwMC4wJTsgaGVpZ2h0OiAxMDAuMCU7Ij4gICAgIEhvdGVsOiBJbnRlckNvbnRpbmVudGFsIFRvcm9udG8gQ2VudHJlICAgICA8YnI+ICAgICBSYXRpbmc6IDcuOSAgICAgPGJyPiAgICAgRGlzdGFuY2U6IDMyNjUuNDU0NzMwNzkxNjM2IG0gICAgIDxicj4gICAgIENsdXN0ZXI6IDAgICAgIDxicj4gICAgIFJvZDogMC4wMDI0MTkyNjQ4OTYwOTc1ODY3ICAgICA8L2Rpdj5gKVswXTsKICAgICAgICAgICAgcG9wdXBfYjUwMjhjMGFjNDFhNDZmODlkZjNhNzhiMzkxM2E4MTIuc2V0Q29udGVudChodG1sXzEzNGNlMTM5ZDRmNzQ3ZDY4MDI4NjkzZWE1YzJlY2E0KTsKICAgICAgICAKCiAgICAgICAgY2lyY2xlX21hcmtlcl81YTc1MGNiYmE3M2E0MTAwODIzMzllMmJhNGM0MTkwNy5iaW5kUG9wdXAocG9wdXBfYjUwMjhjMGFjNDFhNDZmODlkZjNhNzhiMzkxM2E4MTIpCiAgICAgICAgOwoKICAgICAgICAKICAgIAogICAgCiAgICAgICAgICAgIHZhciBjaXJjbGVfbWFya2VyXzIzMTU2ZWU0MmMyMTQ5YjZiZDk1ZWI0ZDZkNjkwNmZmID0gTC5jaXJjbGVNYXJrZXIoCiAgICAgICAgICAgICAgICBbNDMuNjcxMDQ4ODU5ODI1OTksIC03OS4zODQ5NjUwNjc3ODM4N10sCiAgICAgICAgICAgICAgICB7ImJ1YmJsaW5nTW91c2VFdmVudHMiOiB0cnVlLCAiY29sb3IiOiAiI2ZmYjM2MCIsICJkYXNoQXJyYXkiOiBudWxsLCAiZGFzaE9mZnNldCI6IG51bGwsICJmaWxsIjogdHJ1ZSwgImZpbGxDb2xvciI6ICIjZmZiMzYwIiwgImZpbGxPcGFjaXR5IjogMC43LCAiZmlsbFJ1bGUiOiAiZXZlbm9kZCIsICJsaW5lQ2FwIjogInJvdW5kIiwgImxpbmVKb2luIjogInJvdW5kIiwgIm9wYWNpdHkiOiAxLjAsICJyYWRpdXMiOiAzLCAic3Ryb2tlIjogdHJ1ZSwgIndlaWdodCI6IDN9CiAgICAgICAgICAgICkuYWRkVG8obWFwXzU2NGNiMjlmYmQyYTRkYmI4MjhkMGUwODFhNmZiODk2KTsKICAgICAgICAKICAgIAogICAgICAgIHZhciBwb3B1cF85ZDMxNjI2YWMzMjM0NmYzOGYyOTQyMDgzZDBmYTIzNyA9IEwucG9wdXAoeyJtYXhXaWR0aCI6IDI2NTB9KTsKCiAgICAgICAgCiAgICAgICAgICAgIHZhciBodG1sX2Q4NzhkYjk3YTBiMDQ1ZTBiNjhjOTUxZTA2M2UwY2M1ID0gJChgPGRpdiBpZD0iaHRtbF9kODc4ZGI5N2EwYjA0NWUwYjY4Yzk1MWUwNjNlMGNjNSIgc3R5bGU9IndpZHRoOiAxMDAuMCU7IGhlaWdodDogMTAwLjAlOyI+ICAgICBIb3RlbDogVG9yb250byBNYXJyaW90dCBCbG9vciBZb3JrdmlsbGUgSG90ZWwgICAgIDxicj4gICAgIFJhdGluZzogNi43ICAgICA8YnI+ICAgICBEaXN0YW5jZTogMjc3Ni4wNTIyNDQyNjEzNzA2IG0gICAgIDxicj4gICAgIENsdXN0ZXI6IDQgICAgIDxicj4gICAgIFJvZDogMC4wMDI0MTM0OTkyNDY1ODMwNDkgICAgIDwvZGl2PmApWzBdOwogICAgICAgICAgICBwb3B1cF85ZDMxNjI2YWMzMjM0NmYzOGYyOTQyMDgzZDBmYTIzNy5zZXRDb250ZW50KGh0bWxfZDg3OGRiOTdhMGIwNDVlMGI2OGM5NTFlMDYzZTBjYzUpOwogICAgICAgIAoKICAgICAgICBjaXJjbGVfbWFya2VyXzIzMTU2ZWU0MmMyMTQ5YjZiZDk1ZWI0ZDZkNjkwNmZmLmJpbmRQb3B1cChwb3B1cF85ZDMxNjI2YWMzMjM0NmYzOGYyOTQyMDgzZDBmYTIzNykKICAgICAgICA7CgogICAgICAgIAogICAgCiAgICAKICAgICAgICAgICAgdmFyIGNpcmNsZV9tYXJrZXJfMjNlZTk4ZjA5ZTUxNGVkMDlmOWQ3ZTFhMzdjNWQ1NGEgPSBMLmNpcmNsZU1hcmtlcigKICAgICAgICAgICAgICAgIFs0My42NTg0OTc1OTE1NzU5MSwgLTc5LjM4MzA5NzI5NzY3OTI5XSwKICAgICAgICAgICAgICAgIHsiYnViYmxpbmdNb3VzZUV2ZW50cyI6IHRydWUsICJjb2xvciI6ICIjZmZiMzYwIiwgImRhc2hBcnJheSI6IG51bGwsICJkYXNoT2Zmc2V0IjogbnVsbCwgImZpbGwiOiB0cnVlLCAiZmlsbENvbG9yIjogIiNmZmIzNjAiLCAiZmlsbE9wYWNpdHkiOiAwLjcsICJmaWxsUnVsZSI6ICJldmVub2RkIiwgImxpbmVDYXAiOiAicm91bmQiLCAibGluZUpvaW4iOiAicm91bmQiLCAib3BhY2l0eSI6IDEuMCwgInJhZGl1cyI6IDMsICJzdHJva2UiOiB0cnVlLCAid2VpZ2h0IjogM30KICAgICAgICAgICAgKS5hZGRUbyhtYXBfNTY0Y2IyOWZiZDJhNGRiYjgyOGQwZTA4MWE2ZmI4OTYpOwogICAgICAgIAogICAgCiAgICAgICAgdmFyIHBvcHVwXzk2NjY4ZDhhZGM3ZDRlNDE5Yjk5N2Y1OTAwNzI4ZWFiID0gTC5wb3B1cCh7Im1heFdpZHRoIjogMjY1MH0pOwoKICAgICAgICAKICAgICAgICAgICAgdmFyIGh0bWxfMWU3ZWRjYjUxODIyNDk5ZGE5MTdmMWJiN2VhYjIxMWQgPSAkKGA8ZGl2IGlkPSJodG1sXzFlN2VkY2I1MTgyMjQ5OWRhOTE3ZjFiYjdlYWIyMTFkIiBzdHlsZT0id2lkdGg6IDEwMC4wJTsgaGVpZ2h0OiAxMDAuMCU7Ij4gICAgIEhvdGVsOiBDaGVsc2VhIEhvdGVsICAgICA8YnI+ICAgICBSYXRpbmc6IDYuNyAgICAgPGJyPiAgICAgRGlzdGFuY2U6IDI3OTUuMTAyMjYxNjU4MTUzIG0gICAgIDxicj4gICAgIENsdXN0ZXI6IDQgICAgIDxicj4gICAgIFJvZDogMC4wMDIzOTcwNTAwNDQyNTMyMzczICAgICA8L2Rpdj5gKVswXTsKICAgICAgICAgICAgcG9wdXBfOTY2NjhkOGFkYzdkNGU0MTliOTk3ZjU5MDA3MjhlYWIuc2V0Q29udGVudChodG1sXzFlN2VkY2I1MTgyMjQ5OWRhOTE3ZjFiYjdlYWIyMTFkKTsKICAgICAgICAKCiAgICAgICAgY2lyY2xlX21hcmtlcl8yM2VlOThmMDllNTE0ZWQwOWY5ZDdlMWEzN2M1ZDU0YS5iaW5kUG9wdXAocG9wdXBfOTY2NjhkOGFkYzdkNGU0MTliOTk3ZjU5MDA3MjhlYWIpCiAgICAgICAgOwoKICAgICAgICAKICAgIAogICAgCiAgICAgICAgICAgIHZhciBjaXJjbGVfbWFya2VyXzJhYTc1NDQxMzVlMzQ2ZTFiYzZmMGNlOTQ3NGQ1MzczID0gTC5jaXJjbGVNYXJrZXIoCiAgICAgICAgICAgICAgICBbNDMuNjUxMTI5MjgzMjUyNzg2LCAtNzkuMzgzODI5MDAzMTMzMzFdLAogICAgICAgICAgICAgICAgeyJidWJibGluZ01vdXNlRXZlbnRzIjogdHJ1ZSwgImNvbG9yIjogIiNmZjAwMDAiLCAiZGFzaEFycmF5IjogbnVsbCwgImRhc2hPZmZzZXQiOiBudWxsLCAiZmlsbCI6IHRydWUsICJmaWxsQ29sb3IiOiAiI2ZmMDAwMCIsICJmaWxsT3BhY2l0eSI6IDAuNywgImZpbGxSdWxlIjogImV2ZW5vZGQiLCAibGluZUNhcCI6ICJyb3VuZCIsICJsaW5lSm9pbiI6ICJyb3VuZCIsICJvcGFjaXR5IjogMS4wLCAicmFkaXVzIjogMywgInN0cm9rZSI6IHRydWUsICJ3ZWlnaHQiOiAzfQogICAgICAgICAgICApLmFkZFRvKG1hcF81NjRjYjI5ZmJkMmE0ZGJiODI4ZDBlMDgxYTZmYjg5Nik7CiAgICAgICAgCiAgICAKICAgICAgICB2YXIgcG9wdXBfZThhM2U1OWZhZWZiNDMwMDk0NTcxYTFmNTVjOTQ5ODEgPSBMLnBvcHVwKHsibWF4V2lkdGgiOiAyNjUwfSk7CgogICAgICAgIAogICAgICAgICAgICB2YXIgaHRtbF9kZjBmYWFmODRiNDY0ODJmODUzMmNjZmY0ZWRjN2I0ZiA9ICQoYDxkaXYgaWQ9Imh0bWxfZGYwZmFhZjg0YjQ2NDgyZjg1MzJjY2ZmNGVkYzdiNGYiIHN0eWxlPSJ3aWR0aDogMTAwLjAlOyBoZWlnaHQ6IDEwMC4wJTsiPiAgICAgSG90ZWw6IFNoZXJhdG9uIENlbnRyZSBUb3JvbnRvIEhvdGVsICAgICA8YnI+ICAgICBSYXRpbmc6IDcuMSAgICAgPGJyPiAgICAgRGlzdGFuY2U6IDI5ODIuMTYzMTI3MzkzMDYwNyBtICAgICA8YnI+ICAgICBDbHVzdGVyOiAwICAgICA8YnI+ICAgICBSb2Q6IDAuMDAyMzgwODIyMTQwNDA2MDY3NyAgICAgPC9kaXY+YClbMF07CiAgICAgICAgICAgIHBvcHVwX2U4YTNlNTlmYWVmYjQzMDA5NDU3MWExZjU1Yzk0OTgxLnNldENvbnRlbnQoaHRtbF9kZjBmYWFmODRiNDY0ODJmODUzMmNjZmY0ZWRjN2I0Zik7CiAgICAgICAgCgogICAgICAgIGNpcmNsZV9tYXJrZXJfMmFhNzU0NDEzNWUzNDZlMWJjNmYwY2U5NDc0ZDUzNzMuYmluZFBvcHVwKHBvcHVwX2U4YTNlNTlmYWVmYjQzMDA5NDU3MWExZjU1Yzk0OTgxKQogICAgICAgIDsKCiAgICAgICAgCiAgICAKICAgIAogICAgICAgICAgICB2YXIgY2lyY2xlX21hcmtlcl81MTRjMWRiM2M1ZDA0Mzk4OGQwYjY0MzM2YTgyMDdmMyA9IEwuY2lyY2xlTWFya2VyKAogICAgICAgICAgICAgICAgWzQzLjY0NDYyNTIzOTQ5MjcxLCAtNzkuMzkxOTI1MjA5MjcwNjVdLAogICAgICAgICAgICAgICAgeyJidWJibGluZ01vdXNlRXZlbnRzIjogdHJ1ZSwgImNvbG9yIjogIiNmZjAwMDAiLCAiZGFzaEFycmF5IjogbnVsbCwgImRhc2hPZmZzZXQiOiBudWxsLCAiZmlsbCI6IHRydWUsICJmaWxsQ29sb3IiOiAiI2ZmMDAwMCIsICJmaWxsT3BhY2l0eSI6IDAuNywgImZpbGxSdWxlIjogImV2ZW5vZGQiLCAibGluZUNhcCI6ICJyb3VuZCIsICJsaW5lSm9pbiI6ICJyb3VuZCIsICJvcGFjaXR5IjogMS4wLCAicmFkaXVzIjogMywgInN0cm9rZSI6IHRydWUsICJ3ZWlnaHQiOiAzfQogICAgICAgICAgICApLmFkZFRvKG1hcF81NjRjYjI5ZmJkMmE0ZGJiODI4ZDBlMDgxYTZmYjg5Nik7CiAgICAgICAgCiAgICAKICAgICAgICB2YXIgcG9wdXBfZDI5MzY5ODZhZjJlNGMwOWFhOTA1OGEyOTEzZTE3ZDUgPSBMLnBvcHVwKHsibWF4V2lkdGgiOiAyNjUwfSk7CgogICAgICAgIAogICAgICAgICAgICB2YXIgaHRtbF83MTM3MDVmODljY2Q0OTNhYWMyZDg1NjRlMDhmNDE3YiA9ICQoYDxkaXYgaWQ9Imh0bWxfNzEzNzA1Zjg5Y2NkNDkzYWFjMmQ4NTY0ZTA4ZjQxN2IiIHN0eWxlPSJ3aWR0aDogMTAwLjAlOyBoZWlnaHQ6IDEwMC4wJTsiPiAgICAgSG90ZWw6IFNvSG8gTWV0cm9wb2xpdGFuIEhvdGVsICAgICA8YnI+ICAgICBSYXRpbmc6IDcuOCAgICAgPGJyPiAgICAgRGlzdGFuY2U6IDMyODQuNzg3MDEyMDMwNTU5IG0gICAgIDxicj4gICAgIENsdXN0ZXI6IDAgICAgIDxicj4gICAgIFJvZDogMC4wMDIzNzQ1ODMxODM0NTUyNTUzICAgICA8L2Rpdj5gKVswXTsKICAgICAgICAgICAgcG9wdXBfZDI5MzY5ODZhZjJlNGMwOWFhOTA1OGEyOTEzZTE3ZDUuc2V0Q29udGVudChodG1sXzcxMzcwNWY4OWNjZDQ5M2FhYzJkODU2NGUwOGY0MTdiKTsKICAgICAgICAKCiAgICAgICAgY2lyY2xlX21hcmtlcl81MTRjMWRiM2M1ZDA0Mzk4OGQwYjY0MzM2YTgyMDdmMy5iaW5kUG9wdXAocG9wdXBfZDI5MzY5ODZhZjJlNGMwOWFhOTA1OGEyOTEzZTE3ZDUpCiAgICAgICAgOwoKICAgICAgICAKICAgIAogICAgCiAgICAgICAgICAgIHZhciBjaXJjbGVfbWFya2VyX2JlNDQyM2I4ZmQ3NjQwZTZiYjIwZjZmYTdlZTRhOGI4ID0gTC5jaXJjbGVNYXJrZXIoCiAgICAgICAgICAgICAgICBbNDMuNjYxNzc5MjExNTY5ODgsIC03OS4zODEwNDcxNTQ1OTYzM10sCiAgICAgICAgICAgICAgICB7ImJ1YmJsaW5nTW91c2VFdmVudHMiOiB0cnVlLCAiY29sb3IiOiAiI2ZmYjM2MCIsICJkYXNoQXJyYXkiOiBudWxsLCAiZGFzaE9mZnNldCI6IG51bGwsICJmaWxsIjogdHJ1ZSwgImZpbGxDb2xvciI6ICIjZmZiMzYwIiwgImZpbGxPcGFjaXR5IjogMC43LCAiZmlsbFJ1bGUiOiAiZXZlbm9kZCIsICJsaW5lQ2FwIjogInJvdW5kIiwgImxpbmVKb2luIjogInJvdW5kIiwgIm9wYWNpdHkiOiAxLjAsICJyYWRpdXMiOiAzLCAic3Ryb2tlIjogdHJ1ZSwgIndlaWdodCI6IDN9CiAgICAgICAgICAgICkuYWRkVG8obWFwXzU2NGNiMjlmYmQyYTRkYmI4MjhkMGUwODFhNmZiODk2KTsKICAgICAgICAKICAgIAogICAgICAgIHZhciBwb3B1cF8xZTZhYWI5ZDUxZGE0YzFlYmU5ZDg4YjU3NWZiMzIzMiA9IEwucG9wdXAoeyJtYXhXaWR0aCI6IDI2NTB9KTsKCiAgICAgICAgCiAgICAgICAgICAgIHZhciBodG1sXzU3NzU4Y2Y2N2QwMDRmNmQ4YTA5ZDVhNjlkMTc1ZWZmID0gJChgPGRpdiBpZD0iaHRtbF81Nzc1OGNmNjdkMDA0ZjZkOGEwOWQ1YTY5ZDE3NWVmZiIgc3R5bGU9IndpZHRoOiAxMDAuMCU7IGhlaWdodDogMTAwLjAlOyI+ICAgICBIb3RlbDogSG9saWRheSBJbm4gVG9yb250byBEb3dudG93biBDZW50cmUgICAgIDxicj4gICAgIFJhdGluZzogNi41ICAgICA8YnI+ICAgICBEaXN0YW5jZTogMjc5Ni43MjYxMzE1MzY0MjIgbSAgICAgPGJyPiAgICAgQ2x1c3RlcjogNCAgICAgPGJyPiAgICAgUm9kOiAwLjAwMjMyNDE0NjA1MzAyNDE5NDQgICAgIDwvZGl2PmApWzBdOwogICAgICAgICAgICBwb3B1cF8xZTZhYWI5ZDUxZGE0YzFlYmU5ZDg4YjU3NWZiMzIzMi5zZXRDb250ZW50KGh0bWxfNTc3NThjZjY3ZDAwNGY2ZDhhMDlkNWE2OWQxNzVlZmYpOwogICAgICAgIAoKICAgICAgICBjaXJjbGVfbWFya2VyX2JlNDQyM2I4ZmQ3NjQwZTZiYjIwZjZmYTdlZTRhOGI4LmJpbmRQb3B1cChwb3B1cF8xZTZhYWI5ZDUxZGE0YzFlYmU5ZDg4YjU3NWZiMzIzMikKICAgICAgICA7CgogICAgICAgIAogICAgCiAgICAKICAgICAgICAgICAgdmFyIGNpcmNsZV9tYXJrZXJfNTU1NjQ3ZTA5NjU1NDFiMjg3NDg2MTYxMTU5Mzc4YjUgPSBMLmNpcmNsZU1hcmtlcigKICAgICAgICAgICAgICAgIFs0My42NDEyMTEzOTIwNjk5MSwgLTc5LjM3NTc0ODYzNDMzODM4XSwKICAgICAgICAgICAgICAgIHsiYnViYmxpbmdNb3VzZUV2ZW50cyI6IHRydWUsICJjb2xvciI6ICIjZmYwMDAwIiwgImRhc2hBcnJheSI6IG51bGwsICJkYXNoT2Zmc2V0IjogbnVsbCwgImZpbGwiOiB0cnVlLCAiZmlsbENvbG9yIjogIiNmZjAwMDAiLCAiZmlsbE9wYWNpdHkiOiAwLjcsICJmaWxsUnVsZSI6ICJldmVub2RkIiwgImxpbmVDYXAiOiAicm91bmQiLCAibGluZUpvaW4iOiAicm91bmQiLCAib3BhY2l0eSI6IDEuMCwgInJhZGl1cyI6IDMsICJzdHJva2UiOiB0cnVlLCAid2VpZ2h0IjogM30KICAgICAgICAgICAgKS5hZGRUbyhtYXBfNTY0Y2IyOWZiZDJhNGRiYjgyOGQwZTA4MWE2ZmI4OTYpOwogICAgICAgIAogICAgCiAgICAgICAgdmFyIHBvcHVwX2MwNTMzOGQ4MDc5YjQ3YzhiNDQ4MjZjYjc1OWQ5MDU1ID0gTC5wb3B1cCh7Im1heFdpZHRoIjogMjY1MH0pOwoKICAgICAgICAKICAgICAgICAgICAgdmFyIGh0bWxfMmZkMzZlOGFkNjQ0NGMyZGIyOWI0ZjExMzVjYjRlMTYgPSAkKGA8ZGl2IGlkPSJodG1sXzJmZDM2ZThhZDY0NDRjMmRiMjliNGYxMTM1Y2I0ZTE2IiBzdHlsZT0id2lkdGg6IDEwMC4wJTsgaGVpZ2h0OiAxMDAuMCU7Ij4gICAgIEhvdGVsOiBUaGUgV2VzdGluIEhhcmJvdXIgQ2FzdGxlLCBUb3JvbnRvICAgICA8YnI+ICAgICBSYXRpbmc6IDguMCAgICAgPGJyPiAgICAgRGlzdGFuY2U6IDM0NDcuNjM4Njg3MTU2OTE1IG0gICAgIDxicj4gICAgIENsdXN0ZXI6IDAgICAgIDxicj4gICAgIFJvZDogMC4wMDIzMjA0Mjg3NzA1MDkzNTMgICAgIDwvZGl2PmApWzBdOwogICAgICAgICAgICBwb3B1cF9jMDUzMzhkODA3OWI0N2M4YjQ0ODI2Y2I3NTlkOTA1NS5zZXRDb250ZW50KGh0bWxfMmZkMzZlOGFkNjQ0NGMyZGIyOWI0ZjExMzVjYjRlMTYpOwogICAgICAgIAoKICAgICAgICBjaXJjbGVfbWFya2VyXzU1NTY0N2UwOTY1NTQxYjI4NzQ4NjE2MTE1OTM3OGI1LmJpbmRQb3B1cChwb3B1cF9jMDUzMzhkODA3OWI0N2M4YjQ0ODI2Y2I3NTlkOTA1NSkKICAgICAgICA7CgogICAgICAgIAogICAgCiAgICAKICAgICAgICAgICAgdmFyIGNpcmNsZV9tYXJrZXJfMTA5YTkwNjE4MDdkNGUzZmI0Zjk0N2QwMjU5YmNkN2UgPSBMLmNpcmNsZU1hcmtlcigKICAgICAgICAgICAgICAgIFs0My42NTkwNTk5LCAtNzkuMzUwMDNdLAogICAgICAgICAgICAgICAgeyJidWJibGluZ01vdXNlRXZlbnRzIjogdHJ1ZSwgImNvbG9yIjogIiMwMGI1ZWIiLCAiZGFzaEFycmF5IjogbnVsbCwgImRhc2hPZmZzZXQiOiBudWxsLCAiZmlsbCI6IHRydWUsICJmaWxsQ29sb3IiOiAiIzAwYjVlYiIsICJmaWxsT3BhY2l0eSI6IDAuNywgImZpbGxSdWxlIjogImV2ZW5vZGQiLCAibGluZUNhcCI6ICJyb3VuZCIsICJsaW5lSm9pbiI6ICJyb3VuZCIsICJvcGFjaXR5IjogMS4wLCAicmFkaXVzIjogMywgInN0cm9rZSI6IHRydWUsICJ3ZWlnaHQiOiAzfQogICAgICAgICAgICApLmFkZFRvKG1hcF81NjRjYjI5ZmJkMmE0ZGJiODI4ZDBlMDgxYTZmYjg5Nik7CiAgICAgICAgCiAgICAKICAgICAgICB2YXIgcG9wdXBfYWY3MmMwYmVjNGM4NGFjOGI5ZGY1YjQ5NzVhNWU0YzkgPSBMLnBvcHVwKHsibWF4V2lkdGgiOiAyNjUwfSk7CgogICAgICAgIAogICAgICAgICAgICB2YXIgaHRtbF82YTI3Mzk0Yjk1MWM0NTUzYTc4NjI4ZmY1NjcwNjU3YiA9ICQoYDxkaXYgaWQ9Imh0bWxfNmEyNzM5NGI5NTFjNDU1M2E3ODYyOGZmNTY3MDY1N2IiIHN0eWxlPSJ3aWR0aDogMTAwLjAlOyBoZWlnaHQ6IDEwMC4wJTsiPiAgICAgSG90ZWw6IFRoZSBCcm9hZHZpZXcgSG90ZWwgICAgIDxicj4gICAgIFJhdGluZzogOS4yICAgICA8YnI+ICAgICBEaXN0YW5jZTogNDAyNi43NDEwODA4NTI0OSBtICAgICA8YnI+ICAgICBDbHVzdGVyOiAyICAgICA8YnI+ICAgICBSb2Q6IDAuMDAyMjg0NzI1OTg5Mzk3OTMxICAgICA8L2Rpdj5gKVswXTsKICAgICAgICAgICAgcG9wdXBfYWY3MmMwYmVjNGM4NGFjOGI5ZGY1YjQ5NzVhNWU0Yzkuc2V0Q29udGVudChodG1sXzZhMjczOTRiOTUxYzQ1NTNhNzg2MjhmZjU2NzA2NTdiKTsKICAgICAgICAKCiAgICAgICAgY2lyY2xlX21hcmtlcl8xMDlhOTA2MTgwN2Q0ZTNmYjRmOTQ3ZDAyNTliY2Q3ZS5iaW5kUG9wdXAocG9wdXBfYWY3MmMwYmVjNGM4NGFjOGI5ZGY1YjQ5NzVhNWU0YzkpCiAgICAgICAgOwoKICAgICAgICAKICAgIAogICAgCiAgICAgICAgICAgIHZhciBjaXJjbGVfbWFya2VyXzcyYTFmNDM4OTUwZTQ0ZDU5Y2ZiMDNiMzM2Y2I0MzY0ID0gTC5jaXJjbGVNYXJrZXIoCiAgICAgICAgICAgICAgICBbNDMuNjY5MDU1OTcyMTMwNjQsIC03OS4zODI1NzMxMTkwMzY3M10sCiAgICAgICAgICAgICAgICB7ImJ1YmJsaW5nTW91c2VFdmVudHMiOiB0cnVlLCAiY29sb3IiOiAiI2ZmYjM2MCIsICJkYXNoQXJyYXkiOiBudWxsLCAiZGFzaE9mZnNldCI6IG51bGwsICJmaWxsIjogdHJ1ZSwgImZpbGxDb2xvciI6ICIjZmZiMzYwIiwgImZpbGxPcGFjaXR5IjogMC43LCAiZmlsbFJ1bGUiOiAiZXZlbm9kZCIsICJsaW5lQ2FwIjogInJvdW5kIiwgImxpbmVKb2luIjogInJvdW5kIiwgIm9wYWNpdHkiOiAxLjAsICJyYWRpdXMiOiAzLCAic3Ryb2tlIjogdHJ1ZSwgIndlaWdodCI6IDN9CiAgICAgICAgICAgICkuYWRkVG8obWFwXzU2NGNiMjlmYmQyYTRkYmI4MjhkMGUwODFhNmZiODk2KTsKICAgICAgICAKICAgIAogICAgICAgIHZhciBwb3B1cF85YTcxNjE3ODZmN2U0YTk0OTJiM2QxYjQxNzQ3NjI3MCA9IEwucG9wdXAoeyJtYXhXaWR0aCI6IDI2NTB9KTsKCiAgICAgICAgCiAgICAgICAgICAgIHZhciBodG1sXzFlOGNlMWZmNWQzMTQzYWQ5YzI0OTRiOTkzZmI0YjgzID0gJChgPGRpdiBpZD0iaHRtbF8xZThjZTFmZjVkMzE0M2FkOWMyNDk0Yjk5M2ZiNGI4MyIgc3R5bGU9IndpZHRoOiAxMDAuMCU7IGhlaWdodDogMTAwLjAlOyI+ICAgICBIb3RlbDogVG93biBJbm4gU3VpdGVzICAgICA8YnI+ICAgICBSYXRpbmc6IDYuNCAgICAgPGJyPiAgICAgRGlzdGFuY2U6IDI4MDIuODYzMzYxMTM4NjU2NyBtICAgICA8YnI+ICAgICBDbHVzdGVyOiA0ICAgICA8YnI+ICAgICBSb2Q6IDAuMDAyMjgzMzc5MjM1OTM5NjQxICAgICA8L2Rpdj5gKVswXTsKICAgICAgICAgICAgcG9wdXBfOWE3MTYxNzg2ZjdlNGE5NDkyYjNkMWI0MTc0NzYyNzAuc2V0Q29udGVudChodG1sXzFlOGNlMWZmNWQzMTQzYWQ5YzI0OTRiOTkzZmI0YjgzKTsKICAgICAgICAKCiAgICAgICAgY2lyY2xlX21hcmtlcl83MmExZjQzODk1MGU0NGQ1OWNmYjAzYjMzNmNiNDM2NC5iaW5kUG9wdXAocG9wdXBfOWE3MTYxNzg2ZjdlNGE5NDkyYjNkMWI0MTc0NzYyNzApCiAgICAgICAgOwoKICAgICAgICAKICAgIAogICAgCiAgICAgICAgICAgIHZhciBjaXJjbGVfbWFya2VyX2Q3OGMyNDAyNDEyYTQyNzhhNjFkNTlhNzNkYTdmY2Y1ID0gTC5jaXJjbGVNYXJrZXIoCiAgICAgICAgICAgICAgICBbNDMuNjQ2MTk5MzYxODQ2MzIsIC03OS4zOTE0ODQyMTM1NDAzXSwKICAgICAgICAgICAgICAgIHsiYnViYmxpbmdNb3VzZUV2ZW50cyI6IHRydWUsICJjb2xvciI6ICIjZmYwMDAwIiwgImRhc2hBcnJheSI6IG51bGwsICJkYXNoT2Zmc2V0IjogbnVsbCwgImZpbGwiOiB0cnVlLCAiZmlsbENvbG9yIjogIiNmZjAwMDAiLCAiZmlsbE9wYWNpdHkiOiAwLjcsICJmaWxsUnVsZSI6ICJldmVub2RkIiwgImxpbmVDYXAiOiAicm91bmQiLCAibGluZUpvaW4iOiAicm91bmQiLCAib3BhY2l0eSI6IDEuMCwgInJhZGl1cyI6IDMsICJzdHJva2UiOiB0cnVlLCAid2VpZ2h0IjogM30KICAgICAgICAgICAgKS5hZGRUbyhtYXBfNTY0Y2IyOWZiZDJhNGRiYjgyOGQwZTA4MWE2ZmI4OTYpOwogICAgICAgIAogICAgCiAgICAgICAgdmFyIHBvcHVwX2E4Yzc5ZGE2NzcyNDRiYTk4YjllZWJlNmY1ZmU3ZWYwID0gTC5wb3B1cCh7Im1heFdpZHRoIjogMjY1MH0pOwoKICAgICAgICAKICAgICAgICAgICAgdmFyIGh0bWxfZGM1MDAzODg1NWJmNGE1OTgzYWNjNGNmZjEzYjQ2ZGYgPSAkKGA8ZGl2IGlkPSJodG1sX2RjNTAwMzg4NTViZjRhNTk4M2FjYzRjZmYxM2I0NmRmIiBzdHlsZT0id2lkdGg6IDEwMC4wJTsgaGVpZ2h0OiAxMDAuMCU7Ij4gICAgIEhvdGVsOiBIeWF0dCBSZWdlbmN5IFRvcm9udG8gICAgIDxicj4gICAgIFJhdGluZzogNy4zICAgICA8YnI+ICAgICBEaXN0YW5jZTogMzIwNC4xNTIyMjI3NjczNjkgbSAgICAgPGJyPiAgICAgQ2x1c3RlcjogMCAgICAgPGJyPiAgICAgUm9kOiAwLjAwMjI3ODI5Mzc1NTI0OTU5MyAgICAgPC9kaXY+YClbMF07CiAgICAgICAgICAgIHBvcHVwX2E4Yzc5ZGE2NzcyNDRiYTk4YjllZWJlNmY1ZmU3ZWYwLnNldENvbnRlbnQoaHRtbF9kYzUwMDM4ODU1YmY0YTU5ODNhY2M0Y2ZmMTNiNDZkZik7CiAgICAgICAgCgogICAgICAgIGNpcmNsZV9tYXJrZXJfZDc4YzI0MDI0MTJhNDI3OGE2MWQ1OWE3M2RhN2ZjZjUuYmluZFBvcHVwKHBvcHVwX2E4Yzc5ZGE2NzcyNDRiYTk4YjllZWJlNmY1ZmU3ZWYwKQogICAgICAgIDsKCiAgICAgICAgCiAgICAKICAgIAogICAgICAgICAgICB2YXIgY2lyY2xlX21hcmtlcl80NTk5MWEzZjNjNzA0MDE1OWQyOGQ0MTRmYzE3ZjI1NiA9IEwuY2lyY2xlTWFya2VyKAogICAgICAgICAgICAgICAgWzQzLjY2MjQ3ODEsIC03OS4zODI2OTk1XSwKICAgICAgICAgICAgICAgIHsiYnViYmxpbmdNb3VzZUV2ZW50cyI6IHRydWUsICJjb2xvciI6ICIjZmZiMzYwIiwgImRhc2hBcnJheSI6IG51bGwsICJkYXNoT2Zmc2V0IjogbnVsbCwgImZpbGwiOiB0cnVlLCAiZmlsbENvbG9yIjogIiNmZmIzNjAiLCAiZmlsbE9wYWNpdHkiOiAwLjcsICJmaWxsUnVsZSI6ICJldmVub2RkIiwgImxpbmVDYXAiOiAicm91bmQiLCAibGluZUpvaW4iOiAicm91bmQiLCAib3BhY2l0eSI6IDEuMCwgInJhZGl1cyI6IDMsICJzdHJva2UiOiB0cnVlLCAid2VpZ2h0IjogM30KICAgICAgICAgICAgKS5hZGRUbyhtYXBfNTY0Y2IyOWZiZDJhNGRiYjgyOGQwZTA4MWE2ZmI4OTYpOwogICAgICAgIAogICAgCiAgICAgICAgdmFyIHBvcHVwX2RhYTIyY2FlYTIyODRkMzY4OWYwYjhjNTEyY2JkNzUyID0gTC5wb3B1cCh7Im1heFdpZHRoIjogMjY1MH0pOwoKICAgICAgICAKICAgICAgICAgICAgdmFyIGh0bWxfNzRlMTc1ZTg5NzA2NGY1YmI3ZDRkNDA2NjZhZjZmNzQgPSAkKGA8ZGl2IGlkPSJodG1sXzc0ZTE3NWU4OTcwNjRmNWJiN2Q0ZDQwNjY2YWY2Zjc0IiBzdHlsZT0id2lkdGg6IDEwMC4wJTsgaGVpZ2h0OiAxMDAuMCU7Ij4gICAgIEhvdGVsOiBDb3VydHlhcmQgVG9yb250byBEb3dudG93biAgICAgPGJyPiAgICAgUmF0aW5nOiA2LjIgICAgIDxicj4gICAgIERpc3RhbmNlOiAyNzU0LjkxNzgzNTcyMjY1MyBtICAgICA8YnI+ICAgICBDbHVzdGVyOiA0ICAgICA8YnI+ICAgICBSb2Q6IDAuMDAyMjUwNTIwODM5MzUzMzI5ICAgICA8L2Rpdj5gKVswXTsKICAgICAgICAgICAgcG9wdXBfZGFhMjJjYWVhMjI4NGQzNjg5ZjBiOGM1MTJjYmQ3NTIuc2V0Q29udGVudChodG1sXzc0ZTE3NWU4OTcwNjRmNWJiN2Q0ZDQwNjY2YWY2Zjc0KTsKICAgICAgICAKCiAgICAgICAgY2lyY2xlX21hcmtlcl80NTk5MWEzZjNjNzA0MDE1OWQyOGQ0MTRmYzE3ZjI1Ni5iaW5kUG9wdXAocG9wdXBfZGFhMjJjYWVhMjI4NGQzNjg5ZjBiOGM1MTJjYmQ3NTIpCiAgICAgICAgOwoKICAgICAgICAKICAgIAogICAgCiAgICAgICAgICAgIHZhciBjaXJjbGVfbWFya2VyXzdkMDUwOTA1ZGE0YjRiYThhZjJiMjNmYTczOTkzNTc1ID0gTC5jaXJjbGVNYXJrZXIoCiAgICAgICAgICAgICAgICBbNDMuNjU0NDk3OTcwMzkyMjIsIC03OS4zNzkwMzQ4ODkyMzI4M10sCiAgICAgICAgICAgICAgICB7ImJ1YmJsaW5nTW91c2VFdmVudHMiOiB0cnVlLCAiY29sb3IiOiAiI2ZmYjM2MCIsICJkYXNoQXJyYXkiOiBudWxsLCAiZGFzaE9mZnNldCI6IG51bGwsICJmaWxsIjogdHJ1ZSwgImZpbGxDb2xvciI6ICIjZmZiMzYwIiwgImZpbGxPcGFjaXR5IjogMC43LCAiZmlsbFJ1bGUiOiAiZXZlbm9kZCIsICJsaW5lQ2FwIjogInJvdW5kIiwgImxpbmVKb2luIjogInJvdW5kIiwgIm9wYWNpdHkiOiAxLjAsICJyYWRpdXMiOiAzLCAic3Ryb2tlIjogdHJ1ZSwgIndlaWdodCI6IDN9CiAgICAgICAgICAgICkuYWRkVG8obWFwXzU2NGNiMjlmYmQyYTRkYmI4MjhkMGUwODFhNmZiODk2KTsKICAgICAgICAKICAgIAogICAgICAgIHZhciBwb3B1cF8xMzlkZDBjZTZlOGE0MDJjYTdhZWE5ZDgxODZiOGFmNiA9IEwucG9wdXAoeyJtYXhXaWR0aCI6IDI2NTB9KTsKCiAgICAgICAgCiAgICAgICAgICAgIHZhciBodG1sX2Q1ZTYyOTE0YzhhNjQwYTU4NGQyNmQyNTUyNTc3ZmUxID0gJChgPGRpdiBpZD0iaHRtbF9kNWU2MjkxNGM4YTY0MGE1ODRkMjZkMjU1MjU3N2ZlMSIgc3R5bGU9IndpZHRoOiAxMDAuMCU7IGhlaWdodDogMTAwLjAlOyI+ICAgICBIb3RlbDogUGFudGFnZXMgSG90ZWwgJiBTcGEgICAgIDxicj4gICAgIFJhdGluZzogNi41ICAgICA8YnI+ICAgICBEaXN0YW5jZTogMjkzMy44MzE1NTY1NzcxMDEgbSAgICAgPGJyPiAgICAgQ2x1c3RlcjogNCAgICAgPGJyPiAgICAgUm9kOiAwLjAwMjIxNTUzMjc4NTI1MDgxNTQgICAgIDwvZGl2PmApWzBdOwogICAgICAgICAgICBwb3B1cF8xMzlkZDBjZTZlOGE0MDJjYTdhZWE5ZDgxODZiOGFmNi5zZXRDb250ZW50KGh0bWxfZDVlNjI5MTRjOGE2NDBhNTg0ZDI2ZDI1NTI1NzdmZTEpOwogICAgICAgIAoKICAgICAgICBjaXJjbGVfbWFya2VyXzdkMDUwOTA1ZGE0YjRiYThhZjJiMjNmYTczOTkzNTc1LmJpbmRQb3B1cChwb3B1cF8xMzlkZDBjZTZlOGE0MDJjYTdhZWE5ZDgxODZiOGFmNikKICAgICAgICA7CgogICAgICAgIAogICAgCiAgICAKICAgICAgICAgICAgdmFyIGNpcmNsZV9tYXJrZXJfNTliYmQ0YTkxOWE1NGZmNWFiY2YyYmFiMTA4OGFiNGUgPSBMLmNpcmNsZU1hcmtlcigKICAgICAgICAgICAgICAgIFs0My42NTgwOTQzNTU4MDk0NDYsIC03OS4zODI3MTExMTgzNTU2M10sCiAgICAgICAgICAgICAgICB7ImJ1YmJsaW5nTW91c2VFdmVudHMiOiB0cnVlLCAiY29sb3IiOiAiI2ZmYjM2MCIsICJkYXNoQXJyYXkiOiBudWxsLCAiZGFzaE9mZnNldCI6IG51bGwsICJmaWxsIjogdHJ1ZSwgImZpbGxDb2xvciI6ICIjZmZiMzYwIiwgImZpbGxPcGFjaXR5IjogMC43LCAiZmlsbFJ1bGUiOiAiZXZlbm9kZCIsICJsaW5lQ2FwIjogInJvdW5kIiwgImxpbmVKb2luIjogInJvdW5kIiwgIm9wYWNpdHkiOiAxLjAsICJyYWRpdXMiOiAzLCAic3Ryb2tlIjogdHJ1ZSwgIndlaWdodCI6IDN9CiAgICAgICAgICAgICkuYWRkVG8obWFwXzU2NGNiMjlmYmQyYTRkYmI4MjhkMGUwODFhNmZiODk2KTsKICAgICAgICAKICAgIAogICAgICAgIHZhciBwb3B1cF9jYWE1MTQ3OTY2ZjQ0YjdhYmZkNmRjNjJjOTQzYjgwNCA9IEwucG9wdXAoeyJtYXhXaWR0aCI6IDI2NTB9KTsKCiAgICAgICAgCiAgICAgICAgICAgIHZhciBodG1sX2IwMDQyZmNiOWU3MjQ4YTlhZDhmNTk1N2Y5ZjRiOTFlID0gJChgPGRpdiBpZD0iaHRtbF9iMDA0MmZjYjllNzI0OGE5YWQ4ZjU5NTdmOWY0YjkxZSIgc3R5bGU9IndpZHRoOiAxMDAuMCU7IGhlaWdodDogMTAwLjAlOyI+ICAgICBIb3RlbDogQ3JldyBSb29tIEVhdG9uIENoZWxzZWEgSG90ZWwgICAgIDxicj4gICAgIFJhdGluZzogNi4yICAgICA8YnI+ICAgICBEaXN0YW5jZTogMjgwOC4xNzczNDQzNzc4OTcgbSAgICAgPGJyPiAgICAgQ2x1c3RlcjogNCAgICAgPGJyPiAgICAgUm9kOiAwLjAwMjIwNzgzNzc2Nzk0MzIxNDUgICAgIDwvZGl2PmApWzBdOwogICAgICAgICAgICBwb3B1cF9jYWE1MTQ3OTY2ZjQ0YjdhYmZkNmRjNjJjOTQzYjgwNC5zZXRDb250ZW50KGh0bWxfYjAwNDJmY2I5ZTcyNDhhOWFkOGY1OTU3ZjlmNGI5MWUpOwogICAgICAgIAoKICAgICAgICBjaXJjbGVfbWFya2VyXzU5YmJkNGE5MTlhNTRmZjVhYmNmMmJhYjEwODhhYjRlLmJpbmRQb3B1cChwb3B1cF9jYWE1MTQ3OTY2ZjQ0YjdhYmZkNmRjNjJjOTQzYjgwNCkKICAgICAgICA7CgogICAgICAgIAogICAgCiAgICAKICAgICAgICAgICAgdmFyIGNpcmNsZV9tYXJrZXJfZDg2Y2U4ZWE1YjAyNDgzNTljOGRjYjc1MDMyYjM5NTcgPSBMLmNpcmNsZU1hcmtlcigKICAgICAgICAgICAgICAgIFs0My42NjE0MTEsIC03OS4zNzY2OTddLAogICAgICAgICAgICAgICAgeyJidWJibGluZ01vdXNlRXZlbnRzIjogdHJ1ZSwgImNvbG9yIjogIiNmZmIzNjAiLCAiZGFzaEFycmF5IjogbnVsbCwgImRhc2hPZmZzZXQiOiBudWxsLCAiZmlsbCI6IHRydWUsICJmaWxsQ29sb3IiOiAiI2ZmYjM2MCIsICJmaWxsT3BhY2l0eSI6IDAuNywgImZpbGxSdWxlIjogImV2ZW5vZGQiLCAibGluZUNhcCI6ICJyb3VuZCIsICJsaW5lSm9pbiI6ICJyb3VuZCIsICJvcGFjaXR5IjogMS4wLCAicmFkaXVzIjogMywgInN0cm9rZSI6IHRydWUsICJ3ZWlnaHQiOiAzfQogICAgICAgICAgICApLmFkZFRvKG1hcF81NjRjYjI5ZmJkMmE0ZGJiODI4ZDBlMDgxYTZmYjg5Nik7CiAgICAgICAgCiAgICAKICAgICAgICB2YXIgcG9wdXBfN2E2Njk4NjJkYmU2NDgzNjhkOTEwMmJlOGI1M2RkOGMgPSBMLnBvcHVwKHsibWF4V2lkdGgiOiAyNjUwfSk7CgogICAgICAgIAogICAgICAgICAgICB2YXIgaHRtbF8yMDc2MzExMjBiNDg0NTIyYWFhNTRlZjY4YTIyZjUzYSA9ICQoYDxkaXYgaWQ9Imh0bWxfMjA3NjMxMTIwYjQ4NDUyMmFhYTU0ZWY2OGEyMmY1M2EiIHN0eWxlPSJ3aWR0aDogMTAwLjAlOyBoZWlnaHQ6IDEwMC4wJTsiPiAgICAgSG90ZWw6IFJhbWFkYSBQbGF6YSBUb3JvbnRvIERvd250b3duICAgICA8YnI+ICAgICBSYXRpbmc6IDYuMiAgICAgPGJyPiAgICAgRGlzdGFuY2U6IDI5MDguMDk2ODQ0OTY0ODEwOCBtICAgICA8YnI+ICAgICBDbHVzdGVyOiA0ICAgICA8YnI+ICAgICBSb2Q6IDAuMDAyMTMxOTc4NTE3NDA1NjA2NyAgICAgPC9kaXY+YClbMF07CiAgICAgICAgICAgIHBvcHVwXzdhNjY5ODYyZGJlNjQ4MzY4ZDkxMDJiZThiNTNkZDhjLnNldENvbnRlbnQoaHRtbF8yMDc2MzExMjBiNDg0NTIyYWFhNTRlZjY4YTIyZjUzYSk7CiAgICAgICAgCgogICAgICAgIGNpcmNsZV9tYXJrZXJfZDg2Y2U4ZWE1YjAyNDgzNTljOGRjYjc1MDMyYjM5NTcuYmluZFBvcHVwKHBvcHVwXzdhNjY5ODYyZGJlNjQ4MzY4ZDkxMDJiZThiNTNkZDhjKQogICAgICAgIDsKCiAgICAgICAgCiAgICAKICAgIAogICAgICAgICAgICB2YXIgY2lyY2xlX21hcmtlcl83NGY5ZmMyZTY2ZWY0MTIwOGU2NWM2ZWNiZDZkMDBmMSA9IEwuY2lyY2xlTWFya2VyKAogICAgICAgICAgICAgICAgWzQzLjYzODY3MjcsIC03OS4zODU3MTY4XSwKICAgICAgICAgICAgICAgIHsiYnViYmxpbmdNb3VzZUV2ZW50cyI6IHRydWUsICJjb2xvciI6ICIjZmYwMDAwIiwgImRhc2hBcnJheSI6IG51bGwsICJkYXNoT2Zmc2V0IjogbnVsbCwgImZpbGwiOiB0cnVlLCAiZmlsbENvbG9yIjogIiNmZjAwMDAiLCAiZmlsbE9wYWNpdHkiOiAwLjcsICJmaWxsUnVsZSI6ICJldmVub2RkIiwgImxpbmVDYXAiOiAicm91bmQiLCAibGluZUpvaW4iOiAicm91bmQiLCAib3BhY2l0eSI6IDEuMCwgInJhZGl1cyI6IDMsICJzdHJva2UiOiB0cnVlLCAid2VpZ2h0IjogM30KICAgICAgICAgICAgKS5hZGRUbyhtYXBfNTY0Y2IyOWZiZDJhNGRiYjgyOGQwZTA4MWE2ZmI4OTYpOwogICAgICAgIAogICAgCiAgICAgICAgdmFyIHBvcHVwX2FjYTUyZDljZDA5MjQzODg4YzYzZjM1MzE0ZjljNzBlID0gTC5wb3B1cCh7Im1heFdpZHRoIjogMjY1MH0pOwoKICAgICAgICAKICAgICAgICAgICAgdmFyIGh0bWxfY2YwM2IxZTA2ZTljNGU5NWJkNjY3ZDI0NDIzMGQ3ZjIgPSAkKGA8ZGl2IGlkPSJodG1sX2NmMDNiMWUwNmU5YzRlOTViZDY2N2QyNDQyMzBkN2YyIiBzdHlsZT0id2lkdGg6IDEwMC4wJTsgaGVpZ2h0OiAxMDAuMCU7Ij4gICAgIEhvdGVsOiBSYWRpc3NvbiBBZG1pcmFsIEhvdGVsIFRvcm9udG8tSGFyYm91cmZyb250ICAgICA8YnI+ICAgICBSYXRpbmc6IDcuNSAgICAgPGJyPiAgICAgRGlzdGFuY2U6IDM1NDUuMTU1NzExMjM1NjMzNiBtICAgICA8YnI+ICAgICBDbHVzdGVyOiAwICAgICA8YnI+ICAgICBSb2Q6IDAuMDAyMTE1NTYyOTI4OTM3MTcyICAgICA8L2Rpdj5gKVswXTsKICAgICAgICAgICAgcG9wdXBfYWNhNTJkOWNkMDkyNDM4ODhjNjNmMzUzMTRmOWM3MGUuc2V0Q29udGVudChodG1sX2NmMDNiMWUwNmU5YzRlOTViZDY2N2QyNDQyMzBkN2YyKTsKICAgICAgICAKCiAgICAgICAgY2lyY2xlX21hcmtlcl83NGY5ZmMyZTY2ZWY0MTIwOGU2NWM2ZWNiZDZkMDBmMS5iaW5kUG9wdXAocG9wdXBfYWNhNTJkOWNkMDkyNDM4ODhjNjNmMzUzMTRmOWM3MGUpCiAgICAgICAgOwoKICAgICAgICAKICAgIAogICAgCiAgICAgICAgICAgIHZhciBjaXJjbGVfbWFya2VyX2UzYzBiN2NmNGU3NDQzN2ZiZDU1ZDE3MDMzZWMxZTgzID0gTC5jaXJjbGVNYXJrZXIoCiAgICAgICAgICAgICAgICBbNDMuNjQ4MDg0MjE1NDQ0MDcsIC03OS4zNzc1ODE5MzgzNTQwNl0sCiAgICAgICAgICAgICAgICB7ImJ1YmJsaW5nTW91c2VFdmVudHMiOiB0cnVlLCAiY29sb3IiOiAiI2ZmYjM2MCIsICJkYXNoQXJyYXkiOiBudWxsLCAiZGFzaE9mZnNldCI6IG51bGwsICJmaWxsIjogdHJ1ZSwgImZpbGxDb2xvciI6ICIjZmZiMzYwIiwgImZpbGxPcGFjaXR5IjogMC43LCAiZmlsbFJ1bGUiOiAiZXZlbm9kZCIsICJsaW5lQ2FwIjogInJvdW5kIiwgImxpbmVKb2luIjogInJvdW5kIiwgIm9wYWNpdHkiOiAxLjAsICJyYWRpdXMiOiAzLCAic3Ryb2tlIjogdHJ1ZSwgIndlaWdodCI6IDN9CiAgICAgICAgICAgICkuYWRkVG8obWFwXzU2NGNiMjlmYmQyYTRkYmI4MjhkMGUwODFhNmZiODk2KTsKICAgICAgICAKICAgIAogICAgICAgIHZhciBwb3B1cF8yOWI1ZmZlNTBlY2Q0NzJkYTI3ZDQyYzY3YTZjYmEwNyA9IEwucG9wdXAoeyJtYXhXaWR0aCI6IDI2NTB9KTsKCiAgICAgICAgCiAgICAgICAgICAgIHZhciBodG1sXzNkMjQ4YzI5MDZmMjRhNWE4MGNlODY5OGVjNTQ1OWNhID0gJChgPGRpdiBpZD0iaHRtbF8zZDI0OGMyOTA2ZjI0YTVhODBjZTg2OThlYzU0NTljYSIgc3R5bGU9IndpZHRoOiAxMDAuMCU7IGhlaWdodDogMTAwLjAlOyI+ICAgICBIb3RlbDogSG90ZWwgVmljdG9yaWEgICAgIDxicj4gICAgIFJhdGluZzogNi41ICAgICA8YnI+ICAgICBEaXN0YW5jZTogMzEzNS44ODkwOTQwMjkwMjkgbSAgICAgPGJyPiAgICAgQ2x1c3RlcjogNCAgICAgPGJyPiAgICAgUm9kOiAwLjAwMjA3Mjc3NzM4NjI4NDY0MDYgICAgIDwvZGl2PmApWzBdOwogICAgICAgICAgICBwb3B1cF8yOWI1ZmZlNTBlY2Q0NzJkYTI3ZDQyYzY3YTZjYmEwNy5zZXRDb250ZW50KGh0bWxfM2QyNDhjMjkwNmYyNGE1YTgwY2U4Njk4ZWM1NDU5Y2EpOwogICAgICAgIAoKICAgICAgICBjaXJjbGVfbWFya2VyX2UzYzBiN2NmNGU3NDQzN2ZiZDU1ZDE3MDMzZWMxZTgzLmJpbmRQb3B1cChwb3B1cF8yOWI1ZmZlNTBlY2Q0NzJkYTI3ZDQyYzY3YTZjYmEwNykKICAgICAgICA7CgogICAgICAgIAogICAgCiAgICAKICAgICAgICAgICAgdmFyIGNpcmNsZV9tYXJrZXJfMzY1MWIyOTQ1NDM2NDA2NzlkOWE1ZmU0ZGU4YzdmOGMgPSBMLmNpcmNsZU1hcmtlcigKICAgICAgICAgICAgICAgIFs0My42NDcyMjc5NzU3NDAyNywgLTc5LjM5MzIxMjQ2NjUxNzE2XSwKICAgICAgICAgICAgICAgIHsiYnViYmxpbmdNb3VzZUV2ZW50cyI6IHRydWUsICJjb2xvciI6ICIjZmZiMzYwIiwgImRhc2hBcnJheSI6IG51bGwsICJkYXNoT2Zmc2V0IjogbnVsbCwgImZpbGwiOiB0cnVlLCAiZmlsbENvbG9yIjogIiNmZmIzNjAiLCAiZmlsbE9wYWNpdHkiOiAwLjcsICJmaWxsUnVsZSI6ICJldmVub2RkIiwgImxpbmVDYXAiOiAicm91bmQiLCAibGluZUpvaW4iOiAicm91bmQiLCAib3BhY2l0eSI6IDEuMCwgInJhZGl1cyI6IDMsICJzdHJva2UiOiB0cnVlLCAid2VpZ2h0IjogM30KICAgICAgICAgICAgKS5hZGRUbyhtYXBfNTY0Y2IyOWZiZDJhNGRiYjgyOGQwZTA4MWE2ZmI4OTYpOwogICAgICAgIAogICAgCiAgICAgICAgdmFyIHBvcHVwX2I2OGQyYzMwZjRjZDRjODZiOWExYjU4Mzk2ZWFiMDBmID0gTC5wb3B1cCh7Im1heFdpZHRoIjogMjY1MH0pOwoKICAgICAgICAKICAgICAgICAgICAgdmFyIGh0bWxfMGM1NmUyMDY3ZDgwNDg0Mjk5MmFlMzRmMjQ0ZTZmNmEgPSAkKGA8ZGl2IGlkPSJodG1sXzBjNTZlMjA2N2Q4MDQ4NDI5OTJhZTM0ZjI0NGU2ZjZhIiBzdHlsZT0id2lkdGg6IDEwMC4wJTsgaGVpZ2h0OiAxMDAuMCU7Ij4gICAgIEhvdGVsOiBUZW1wbGFyIEhvdGVsICAgICA8YnI+ICAgICBSYXRpbmc6IDYuNSAgICAgPGJyPiAgICAgRGlzdGFuY2U6IDMxNzMuNTk0NzgzODAyOTIzMyBtICAgICA8YnI+ICAgICBDbHVzdGVyOiA0ICAgICA8YnI+ICAgICBSb2Q6IDAuMDAyMDQ4MTUwNTgwOTA0MDQzNSAgICAgPC9kaXY+YClbMF07CiAgICAgICAgICAgIHBvcHVwX2I2OGQyYzMwZjRjZDRjODZiOWExYjU4Mzk2ZWFiMDBmLnNldENvbnRlbnQoaHRtbF8wYzU2ZTIwNjdkODA0ODQyOTkyYWUzNGYyNDRlNmY2YSk7CiAgICAgICAgCgogICAgICAgIGNpcmNsZV9tYXJrZXJfMzY1MWIyOTQ1NDM2NDA2NzlkOWE1ZmU0ZGU4YzdmOGMuYmluZFBvcHVwKHBvcHVwX2I2OGQyYzMwZjRjZDRjODZiOWExYjU4Mzk2ZWFiMDBmKQogICAgICAgIDsKCiAgICAgICAgCiAgICAKICAgIAogICAgICAgICAgICB2YXIgY2lyY2xlX21hcmtlcl9kMjZjZDVkYjM5NGM0YjU2YTdkNjg5OGM0NjY5ZjgyMSA9IEwuY2lyY2xlTWFya2VyKAogICAgICAgICAgICAgICAgWzQzLjY3MDA5NzcwNzg4ODgzNiwgLTc5LjM3NTk4MzIzNjg5MjY1XSwKICAgICAgICAgICAgICAgIHsiYnViYmxpbmdNb3VzZUV2ZW50cyI6IHRydWUsICJjb2xvciI6ICIjZmZiMzYwIiwgImRhc2hBcnJheSI6IG51bGwsICJkYXNoT2Zmc2V0IjogbnVsbCwgImZpbGwiOiB0cnVlLCAiZmlsbENvbG9yIjogIiNmZmIzNjAiLCAiZmlsbE9wYWNpdHkiOiAwLjcsICJmaWxsUnVsZSI6ICJldmVub2RkIiwgImxpbmVDYXAiOiAicm91bmQiLCAibGluZUpvaW4iOiAicm91bmQiLCAib3BhY2l0eSI6IDEuMCwgInJhZGl1cyI6IDMsICJzdHJva2UiOiB0cnVlLCAid2VpZ2h0IjogM30KICAgICAgICAgICAgKS5hZGRUbyhtYXBfNTY0Y2IyOWZiZDJhNGRiYjgyOGQwZTA4MWE2ZmI4OTYpOwogICAgICAgIAogICAgCiAgICAgICAgdmFyIHBvcHVwX2ZjNDMxNWVkZmE3ZTQ4MTZiOGM1ZmIwMWYyNmVlNjJmID0gTC5wb3B1cCh7Im1heFdpZHRoIjogMjY1MH0pOwoKICAgICAgICAKICAgICAgICAgICAgdmFyIGh0bWxfMTJkM2M1YmQ4Mzg2NGYxMzgwZjEzOWJkNzc3ZTVlMmQgPSAkKGA8ZGl2IGlkPSJodG1sXzEyZDNjNWJkODM4NjRmMTM4MGYxMzliZDc3N2U1ZTJkIiBzdHlsZT0id2lkdGg6IDEwMC4wJTsgaGVpZ2h0OiAxMDAuMCU7Ij4gICAgIEhvdGVsOiBJc2FiZWxsYSBIb3RlbCAgICAgPGJyPiAgICAgUmF0aW5nOiA2LjIgICAgIDxicj4gICAgIERpc3RhbmNlOiAzMDU4Ljk1NDgxMTczODYzMzUgbSAgICAgPGJyPiAgICAgQ2x1c3RlcjogNCAgICAgPGJyPiAgICAgUm9kOiAwLjAwMjAyNjgzNjA4NjY5NDYxNyAgICAgPC9kaXY+YClbMF07CiAgICAgICAgICAgIHBvcHVwX2ZjNDMxNWVkZmE3ZTQ4MTZiOGM1ZmIwMWYyNmVlNjJmLnNldENvbnRlbnQoaHRtbF8xMmQzYzViZDgzODY0ZjEzODBmMTM5YmQ3NzdlNWUyZCk7CiAgICAgICAgCgogICAgICAgIGNpcmNsZV9tYXJrZXJfZDI2Y2Q1ZGIzOTRjNGI1NmE3ZDY4OThjNDY2OWY4MjEuYmluZFBvcHVwKHBvcHVwX2ZjNDMxNWVkZmE3ZTQ4MTZiOGM1ZmIwMWYyNmVlNjJmKQogICAgICAgIDsKCiAgICAgICAgCiAgICAKICAgIAogICAgICAgICAgICB2YXIgY2lyY2xlX21hcmtlcl9jZmZmZDQzMmZjMjk0NDA2YTlhZWEzYWUyNDkzNDcxOSA9IEwuY2lyY2xlTWFya2VyKAogICAgICAgICAgICAgICAgWzQzLjY0NzA2MjksIC03OS4zOTMyMzI5XSwKICAgICAgICAgICAgICAgIHsiYnViYmxpbmdNb3VzZUV2ZW50cyI6IHRydWUsICJjb2xvciI6ICIjZmZiMzYwIiwgImRhc2hBcnJheSI6IG51bGwsICJkYXNoT2Zmc2V0IjogbnVsbCwgImZpbGwiOiB0cnVlLCAiZmlsbENvbG9yIjogIiNmZmIzNjAiLCAiZmlsbE9wYWNpdHkiOiAwLjcsICJmaWxsUnVsZSI6ICJldmVub2RkIiwgImxpbmVDYXAiOiAicm91bmQiLCAibGluZUpvaW4iOiAicm91bmQiLCAib3BhY2l0eSI6IDEuMCwgInJhZGl1cyI6IDMsICJzdHJva2UiOiB0cnVlLCAid2VpZ2h0IjogM30KICAgICAgICAgICAgKS5hZGRUbyhtYXBfNTY0Y2IyOWZiZDJhNGRiYjgyOGQwZTA4MWE2ZmI4OTYpOwogICAgICAgIAogICAgCiAgICAgICAgdmFyIHBvcHVwXzQzZDFlOTkyYzk5ZDRkYzBiODZiNDk1YWJhMGEwZmIzID0gTC5wb3B1cCh7Im1heFdpZHRoIjogMjY1MH0pOwoKICAgICAgICAKICAgICAgICAgICAgdmFyIGh0bWxfNWFjNDIxYTZmZGVhNGMwZWFmMTkxYjlkMDBlYTQ5NmMgPSAkKGA8ZGl2IGlkPSJodG1sXzVhYzQyMWE2ZmRlYTRjMGVhZjE5MWI5ZDAwZWE0OTZjIiBzdHlsZT0id2lkdGg6IDEwMC4wJTsgaGVpZ2h0OiAxMDAuMCU7Ij4gICAgIEhvdGVsOiBIaWx0b24gR2FyZGVuIElubiAgICAgPGJyPiAgICAgUmF0aW5nOiA2LjQgICAgIDxicj4gICAgIERpc3RhbmNlOiAzMTgxLjU5MTU2NTkwOTczNSBtICAgICA8YnI+ICAgICBDbHVzdGVyOiA0ICAgICA8YnI+ICAgICBSb2Q6IDAuMDAyMDExNTcxODM5ODg1MTEyICAgICA8L2Rpdj5gKVswXTsKICAgICAgICAgICAgcG9wdXBfNDNkMWU5OTJjOTlkNGRjMGI4NmI0OTVhYmEwYTBmYjMuc2V0Q29udGVudChodG1sXzVhYzQyMWE2ZmRlYTRjMGVhZjE5MWI5ZDAwZWE0OTZjKTsKICAgICAgICAKCiAgICAgICAgY2lyY2xlX21hcmtlcl9jZmZmZDQzMmZjMjk0NDA2YTlhZWEzYWUyNDkzNDcxOS5iaW5kUG9wdXAocG9wdXBfNDNkMWU5OTJjOTlkNGRjMGI4NmI0OTVhYmEwYTBmYjMpCiAgICAgICAgOwoKICAgICAgICAKICAgIAogICAgCiAgICAgICAgICAgIHZhciBjaXJjbGVfbWFya2VyXzhkODllMWUxYzM3MjQ3ZTBhNjM0ZDEyMzYyYTJkYWI4ID0gTC5jaXJjbGVNYXJrZXIoCiAgICAgICAgICAgICAgICBbNDMuNjQyMzEyLCAtNzkuMzg5OTg1XSwKICAgICAgICAgICAgICAgIHsiYnViYmxpbmdNb3VzZUV2ZW50cyI6IHRydWUsICJjb2xvciI6ICIjZmZiMzYwIiwgImRhc2hBcnJheSI6IG51bGwsICJkYXNoT2Zmc2V0IjogbnVsbCwgImZpbGwiOiB0cnVlLCAiZmlsbENvbG9yIjogIiNmZmIzNjAiLCAiZmlsbE9wYWNpdHkiOiAwLjcsICJmaWxsUnVsZSI6ICJldmVub2RkIiwgImxpbmVDYXAiOiAicm91bmQiLCAibGluZUpvaW4iOiAicm91bmQiLCAib3BhY2l0eSI6IDEuMCwgInJhZGl1cyI6IDMsICJzdHJva2UiOiB0cnVlLCAid2VpZ2h0IjogM30KICAgICAgICAgICAgKS5hZGRUbyhtYXBfNTY0Y2IyOWZiZDJhNGRiYjgyOGQwZTA4MWE2ZmI4OTYpOwogICAgICAgIAogICAgCiAgICAgICAgdmFyIHBvcHVwX2RlZWEzYzAzYjc5NzQ5MzlhZjYzZGY0ZjllZjM2MzhjID0gTC5wb3B1cCh7Im1heFdpZHRoIjogMjY1MH0pOwoKICAgICAgICAKICAgICAgICAgICAgdmFyIGh0bWxfNmZjYmRhMDgyYTk5NGYzMWJhODM3ODRhM2NjYmE2N2MgPSAkKGA8ZGl2IGlkPSJodG1sXzZmY2JkYTA4MmE5OTRmMzFiYTgzNzg0YTNjY2JhNjdjIiBzdHlsZT0id2lkdGg6IDEwMC4wJTsgaGVpZ2h0OiAxMDAuMCU7Ij4gICAgIEhvdGVsOiBSZW5haXNzYW5jZSBUb3JvbnRvIERvd250b3duIEhvdGVsICAgICA8YnI+ICAgICBSYXRpbmc6IDYuOCAgICAgPGJyPiAgICAgRGlzdGFuY2U6IDMzODIuMjc4Njc3NTQzNzIgbSAgICAgPGJyPiAgICAgQ2x1c3RlcjogNCAgICAgPGJyPiAgICAgUm9kOiAwLjAwMjAxMDQ3ODkyNTA5NTA0ODMgICAgIDwvZGl2PmApWzBdOwogICAgICAgICAgICBwb3B1cF9kZWVhM2MwM2I3OTc0OTM5YWY2M2RmNGY5ZWYzNjM4Yy5zZXRDb250ZW50KGh0bWxfNmZjYmRhMDgyYTk5NGYzMWJhODM3ODRhM2NjYmE2N2MpOwogICAgICAgIAoKICAgICAgICBjaXJjbGVfbWFya2VyXzhkODllMWUxYzM3MjQ3ZTBhNjM0ZDEyMzYyYTJkYWI4LmJpbmRQb3B1cChwb3B1cF9kZWVhM2MwM2I3OTc0OTM5YWY2M2RmNGY5ZWYzNjM4YykKICAgICAgICA7CgogICAgICAgIAogICAgCiAgICAKICAgICAgICAgICAgdmFyIGNpcmNsZV9tYXJrZXJfYTg2MjBkMWFmYjAxNDRmYmEyMjEwNTM0NDU0NGJjOGQgPSBMLmNpcmNsZU1hcmtlcigKICAgICAgICAgICAgICAgIFs0My42NDMwNTMxMDkwODM3NDUsIC03OS40MjQ1ODg3ODE4MjU0M10sCiAgICAgICAgICAgICAgICB7ImJ1YmJsaW5nTW91c2VFdmVudHMiOiB0cnVlLCAiY29sb3IiOiAiIzAwYjVlYiIsICJkYXNoQXJyYXkiOiBudWxsLCAiZGFzaE9mZnNldCI6IG51bGwsICJmaWxsIjogdHJ1ZSwgImZpbGxDb2xvciI6ICIjMDBiNWViIiwgImZpbGxPcGFjaXR5IjogMC43LCAiZmlsbFJ1bGUiOiAiZXZlbm9kZCIsICJsaW5lQ2FwIjogInJvdW5kIiwgImxpbmVKb2luIjogInJvdW5kIiwgIm9wYWNpdHkiOiAxLjAsICJyYWRpdXMiOiAzLCAic3Ryb2tlIjogdHJ1ZSwgIndlaWdodCI6IDN9CiAgICAgICAgICAgICkuYWRkVG8obWFwXzU2NGNiMjlmYmQyYTRkYmI4MjhkMGUwODFhNmZiODk2KTsKICAgICAgICAKICAgIAogICAgICAgIHZhciBwb3B1cF9hZDQzOGU0MTAzNGE0MDg0OGFmYzAzZjg0NjBmNGUzOSA9IEwucG9wdXAoeyJtYXhXaWR0aCI6IDI2NTB9KTsKCiAgICAgICAgCiAgICAgICAgICAgIHZhciBodG1sXzZkYWQxY2JiZGFmZDQ0MDQ5NjgyZmMxYTdlODk4OTc2ID0gJChgPGRpdiBpZD0iaHRtbF82ZGFkMWNiYmRhZmQ0NDA0OTY4MmZjMWE3ZTg5ODk3NiIgc3R5bGU9IndpZHRoOiAxMDAuMCU7IGhlaWdodDogMTAwLjAlOyI+ICAgICBIb3RlbDogVGhlIERyYWtlIEhvdGVsICAgICA8YnI+ICAgICBSYXRpbmc6IDguOCAgICAgPGJyPiAgICAgRGlzdGFuY2U6IDQ0MTEuMTE0NDU0Njk5ODIxIG0gICAgIDxicj4gICAgIENsdXN0ZXI6IDIgICAgIDxicj4gICAgIFJvZDogMC4wMDE5OTQ5NjA3MDQ0NTk2Mjc0ICAgICA8L2Rpdj5gKVswXTsKICAgICAgICAgICAgcG9wdXBfYWQ0MzhlNDEwMzRhNDA4NDhhZmMwM2Y4NDYwZjRlMzkuc2V0Q29udGVudChodG1sXzZkYWQxY2JiZGFmZDQ0MDQ5NjgyZmMxYTdlODk4OTc2KTsKICAgICAgICAKCiAgICAgICAgY2lyY2xlX21hcmtlcl9hODYyMGQxYWZiMDE0NGZiYTIyMTA1MzQ0NTQ0YmM4ZC5iaW5kUG9wdXAocG9wdXBfYWQ0MzhlNDEwMzRhNDA4NDhhZmMwM2Y4NDYwZjRlMzkpCiAgICAgICAgOwoKICAgICAgICAKICAgIAogICAgCiAgICAgICAgICAgIHZhciBjaXJjbGVfbWFya2VyXzJkMWM0MTAwZWRkZTRiNWI5MmM4NGRmNjg1NTVjYjc5ID0gTC5jaXJjbGVNYXJrZXIoCiAgICAgICAgICAgICAgICBbNDMuNjYwMzI5OTQxODg5MjYsIC03OS4zNzU3OTA2MTc4MTJdLAogICAgICAgICAgICAgICAgeyJidWJibGluZ01vdXNlRXZlbnRzIjogdHJ1ZSwgImNvbG9yIjogIiNmZmIzNjAiLCAiZGFzaEFycmF5IjogbnVsbCwgImRhc2hPZmZzZXQiOiBudWxsLCAiZmlsbCI6IHRydWUsICJmaWxsQ29sb3IiOiAiI2ZmYjM2MCIsICJmaWxsT3BhY2l0eSI6IDAuNywgImZpbGxSdWxlIjogImV2ZW5vZGQiLCAibGluZUNhcCI6ICJyb3VuZCIsICJsaW5lSm9pbiI6ICJyb3VuZCIsICJvcGFjaXR5IjogMS4wLCAicmFkaXVzIjogMywgInN0cm9rZSI6IHRydWUsICJ3ZWlnaHQiOiAzfQogICAgICAgICAgICApLmFkZFRvKG1hcF81NjRjYjI5ZmJkMmE0ZGJiODI4ZDBlMDgxYTZmYjg5Nik7CiAgICAgICAgCiAgICAKICAgICAgICB2YXIgcG9wdXBfOTllY2I3YTc5YWYwNDI2NmE0MDE3Y2JjZDUwMWY2ZmIgPSBMLnBvcHVwKHsibWF4V2lkdGgiOiAyNjUwfSk7CgogICAgICAgIAogICAgICAgICAgICB2YXIgaHRtbF9hMjczOTNkNmVhMmI0NzYwODIyOGExZTQ4NDk4NzRmNiA9ICQoYDxkaXYgaWQ9Imh0bWxfYTI3MzkzZDZlYTJiNDc2MDgyMjhhMWU0ODQ5ODc0ZjYiIHN0eWxlPSJ3aWR0aDogMTAwLjAlOyBoZWlnaHQ6IDEwMC4wJTsiPiAgICAgSG90ZWw6IEVjb25vIExvZGdlIElubiAmIFN1aXRlcyBEb3dudG93biBUb3JvbnRvICAgICA8YnI+ICAgICBSYXRpbmc6IDUuNyAgICAgPGJyPiAgICAgRGlzdGFuY2U6IDI5MzMuMTAwNjY4OTIwNzYwNyBtICAgICA8YnI+ICAgICBDbHVzdGVyOiA0ICAgICA8YnI+ICAgICBSb2Q6IDAuMDAxOTQzMzM1OTU4NTYzMzc0ICAgICA8L2Rpdj5gKVswXTsKICAgICAgICAgICAgcG9wdXBfOTllY2I3YTc5YWYwNDI2NmE0MDE3Y2JjZDUwMWY2ZmIuc2V0Q29udGVudChodG1sX2EyNzM5M2Q2ZWEyYjQ3NjA4MjI4YTFlNDg0OTg3NGY2KTsKICAgICAgICAKCiAgICAgICAgY2lyY2xlX21hcmtlcl8yZDFjNDEwMGVkZGU0YjViOTJjODRkZjY4NTU1Y2I3OS5iaW5kUG9wdXAocG9wdXBfOTllY2I3YTc5YWYwNDI2NmE0MDE3Y2JjZDUwMWY2ZmIpCiAgICAgICAgOwoKICAgICAgICAKICAgIAogICAgCiAgICAgICAgICAgIHZhciBjaXJjbGVfbWFya2VyXzUwOTNhOTNiZWIxZDQyN2NiYjc4ZmExZDIwYjJiNDIzID0gTC5jaXJjbGVNYXJrZXIoCiAgICAgICAgICAgICAgICBbNDMuNjQ1Mjk1OTIzNjAyNDgsIC03OS4zOTE5OTI0MTg4ODY5M10sCiAgICAgICAgICAgICAgICB7ImJ1YmJsaW5nTW91c2VFdmVudHMiOiB0cnVlLCAiY29sb3IiOiAiI2ZmYjM2MCIsICJkYXNoQXJyYXkiOiBudWxsLCAiZGFzaE9mZnNldCI6IG51bGwsICJmaWxsIjogdHJ1ZSwgImZpbGxDb2xvciI6ICIjZmZiMzYwIiwgImZpbGxPcGFjaXR5IjogMC43LCAiZmlsbFJ1bGUiOiAiZXZlbm9kZCIsICJsaW5lQ2FwIjogInJvdW5kIiwgImxpbmVKb2luIjogInJvdW5kIiwgIm9wYWNpdHkiOiAxLjAsICJyYWRpdXMiOiAzLCAic3Ryb2tlIjogdHJ1ZSwgIndlaWdodCI6IDN9CiAgICAgICAgICAgICkuYWRkVG8obWFwXzU2NGNiMjlmYmQyYTRkYmI4MjhkMGUwODFhNmZiODk2KTsKICAgICAgICAKICAgIAogICAgICAgIHZhciBwb3B1cF9kODBhNzc3OTNjMmI0ZjhlYmZkNzJkZjc2ZTgzMjQ4ZiA9IEwucG9wdXAoeyJtYXhXaWR0aCI6IDI2NTB9KTsKCiAgICAgICAgCiAgICAgICAgICAgIHZhciBodG1sX2E0ODFjMjkwYTU2YjQzMWFhODliNDJmZDExMTE0ZmQyID0gJChgPGRpdiBpZD0iaHRtbF9hNDgxYzI5MGE1NmI0MzFhYTg5YjQyZmQxMTExNGZkMiIgc3R5bGU9IndpZHRoOiAxMDAuMCU7IGhlaWdodDogMTAwLjAlOyI+ICAgICBIb3RlbDogQmlzaGEgSG90ZWwgICAgIDxicj4gICAgIFJhdGluZzogNi4yICAgICA8YnI+ICAgICBEaXN0YW5jZTogMzI1Mi41ODY1NjE5NTY2MzYgbSAgICAgPGJyPiAgICAgQ2x1c3RlcjogNCAgICAgPGJyPiAgICAgUm9kOiAwLjAwMTkwNjE3NTI0OTExMzIxOTIgICAgIDwvZGl2PmApWzBdOwogICAgICAgICAgICBwb3B1cF9kODBhNzc3OTNjMmI0ZjhlYmZkNzJkZjc2ZTgzMjQ4Zi5zZXRDb250ZW50KGh0bWxfYTQ4MWMyOTBhNTZiNDMxYWE4OWI0MmZkMTExMTRmZDIpOwogICAgICAgIAoKICAgICAgICBjaXJjbGVfbWFya2VyXzUwOTNhOTNiZWIxZDQyN2NiYjc4ZmExZDIwYjJiNDIzLmJpbmRQb3B1cChwb3B1cF9kODBhNzc3OTNjMmI0ZjhlYmZkNzJkZjc2ZTgzMjQ4ZikKICAgICAgICA7CgogICAgICAgIAogICAgCiAgICAKICAgICAgICAgICAgdmFyIGNpcmNsZV9tYXJrZXJfMDhhZjVjNjA5ZjI1NDNhMTkyOTE2ZjNmM2U5YzJjNmEgPSBMLmNpcmNsZU1hcmtlcigKICAgICAgICAgICAgICAgIFs0My42NDY1MywgLTc5LjM3NDI1XSwKICAgICAgICAgICAgICAgIHsiYnViYmxpbmdNb3VzZUV2ZW50cyI6IHRydWUsICJjb2xvciI6ICIjZmZiMzYwIiwgImRhc2hBcnJheSI6IG51bGwsICJkYXNoT2Zmc2V0IjogbnVsbCwgImZpbGwiOiB0cnVlLCAiZmlsbENvbG9yIjogIiNmZmIzNjAiLCAiZmlsbE9wYWNpdHkiOiAwLjcsICJmaWxsUnVsZSI6ICJldmVub2RkIiwgImxpbmVDYXAiOiAicm91bmQiLCAibGluZUpvaW4iOiAicm91bmQiLCAib3BhY2l0eSI6IDEuMCwgInJhZGl1cyI6IDMsICJzdHJva2UiOiB0cnVlLCAid2VpZ2h0IjogM30KICAgICAgICAgICAgKS5hZGRUbyhtYXBfNTY0Y2IyOWZiZDJhNGRiYjgyOGQwZTA4MWE2ZmI4OTYpOwogICAgICAgIAogICAgCiAgICAgICAgdmFyIHBvcHVwX2Q0MTQzNWFjY2E3NzQ1N2Y5MTAwNDYxOTdkZmUxNGJmID0gTC5wb3B1cCh7Im1heFdpZHRoIjogMjY1MH0pOwoKICAgICAgICAKICAgICAgICAgICAgdmFyIGh0bWxfYmI3ZGM2YTAwMTdiNDQ4NjhmYzVmZmM1N2FlOGQ1ZTAgPSAkKGA8ZGl2IGlkPSJodG1sX2JiN2RjNmEwMDE3YjQ0ODY4ZmM1ZmZjNTdhZThkNWUwIiBzdHlsZT0id2lkdGg6IDEwMC4wJTsgaGVpZ2h0OiAxMDAuMCU7Ij4gICAgIEhvdGVsOiBIb3RlbCBOb3ZvdGVsIFRvcm9udG8gQ2VudHJlICAgICA8YnI+ICAgICBSYXRpbmc6IDYuMSAgICAgPGJyPiAgICAgRGlzdGFuY2U6IDMyMzMuMDk3Mjc5NjM4NDA2MiBtICAgICA8YnI+ICAgICBDbHVzdGVyOiA0ICAgICA8YnI+ICAgICBSb2Q6IDAuMDAxODg2NzM1NjgxNzMwNjI1NiAgICAgPC9kaXY+YClbMF07CiAgICAgICAgICAgIHBvcHVwX2Q0MTQzNWFjY2E3NzQ1N2Y5MTAwNDYxOTdkZmUxNGJmLnNldENvbnRlbnQoaHRtbF9iYjdkYzZhMDAxN2I0NDg2OGZjNWZmYzU3YWU4ZDVlMCk7CiAgICAgICAgCgogICAgICAgIGNpcmNsZV9tYXJrZXJfMDhhZjVjNjA5ZjI1NDNhMTkyOTE2ZjNmM2U5YzJjNmEuYmluZFBvcHVwKHBvcHVwX2Q0MTQzNWFjY2E3NzQ1N2Y5MTAwNDYxOTdkZmUxNGJmKQogICAgICAgIDsKCiAgICAgICAgCiAgICAKICAgIAogICAgICAgICAgICB2YXIgY2lyY2xlX21hcmtlcl80OGI0MGJjYmVmNDI0MWQwYjliMThjYWUzNDdmMjUyMCA9IEwuY2lyY2xlTWFya2VyKAogICAgICAgICAgICAgICAgWzQzLjYzMjg4NTU3NDU0NTYyNSwgLTc5LjQxMTc3MDAyODY0MzY3XSwKICAgICAgICAgICAgICAgIHsiYnViYmxpbmdNb3VzZUV2ZW50cyI6IHRydWUsICJjb2xvciI6ICIjMDBiNWViIiwgImRhc2hBcnJheSI6IG51bGwsICJkYXNoT2Zmc2V0IjogbnVsbCwgImZpbGwiOiB0cnVlLCAiZmlsbENvbG9yIjogIiMwMGI1ZWIiLCAiZmlsbE9wYWNpdHkiOiAwLjcsICJmaWxsUnVsZSI6ICJldmVub2RkIiwgImxpbmVDYXAiOiAicm91bmQiLCAibGluZUpvaW4iOiAicm91bmQiLCAib3BhY2l0eSI6IDEuMCwgInJhZGl1cyI6IDMsICJzdHJva2UiOiB0cnVlLCAid2VpZ2h0IjogM30KICAgICAgICAgICAgKS5hZGRUbyhtYXBfNTY0Y2IyOWZiZDJhNGRiYjgyOGQwZTA4MWE2ZmI4OTYpOwogICAgICAgIAogICAgCiAgICAgICAgdmFyIHBvcHVwXzcwMjViZjcyNTFkNzRiNDdhODBjZWM5M2E1MDM0ZDRhID0gTC5wb3B1cCh7Im1heFdpZHRoIjogMjY1MH0pOwoKICAgICAgICAKICAgICAgICAgICAgdmFyIGh0bWxfN2E4ZWU4MWNlYTE4NDgxMzkyMjEwZjk2ZGE1MjA3ZjMgPSAkKGA8ZGl2IGlkPSJodG1sXzdhOGVlODFjZWExODQ4MTM5MjIxMGY5NmRhNTIwN2YzIiBzdHlsZT0id2lkdGg6IDEwMC4wJTsgaGVpZ2h0OiAxMDAuMCU7Ij4gICAgIEhvdGVsOiBIb3RlbCBYICAgICA8YnI+ICAgICBSYXRpbmc6IDguMyAgICAgPGJyPiAgICAgRGlzdGFuY2U6IDQ0NjEuMzIwMjI2MDEzNCBtICAgICA8YnI+ICAgICBDbHVzdGVyOiAyICAgICA8YnI+ICAgICBSb2Q6IDAuMDAxODYwNDM1ODMwNTQyNjU4NCAgICAgPC9kaXY+YClbMF07CiAgICAgICAgICAgIHBvcHVwXzcwMjViZjcyNTFkNzRiNDdhODBjZWM5M2E1MDM0ZDRhLnNldENvbnRlbnQoaHRtbF83YThlZTgxY2VhMTg0ODEzOTIyMTBmOTZkYTUyMDdmMyk7CiAgICAgICAgCgogICAgICAgIGNpcmNsZV9tYXJrZXJfNDhiNDBiY2JlZjQyNDFkMGI5YjE4Y2FlMzQ3ZjI1MjAuYmluZFBvcHVwKHBvcHVwXzcwMjViZjcyNTFkNzRiNDdhODBjZWM5M2E1MDM0ZDRhKQogICAgICAgIDsKCiAgICAgICAgCiAgICAKICAgIAogICAgICAgICAgICB2YXIgY2lyY2xlX21hcmtlcl9lM2Q3N2E3ZDE5Zjg0OWQ5OTMzZDkyNDUxMzI2MzI0OCA9IEwuY2lyY2xlTWFya2VyKAogICAgICAgICAgICAgICAgWzQzLjY0MjYxNjMwMTE4OTUxLCAtNzkuNDI2OTM1ODQ0MjgwMzddLAogICAgICAgICAgICAgICAgeyJidWJibGluZ01vdXNlRXZlbnRzIjogdHJ1ZSwgImNvbG9yIjogIiMwMGI1ZWIiLCAiZGFzaEFycmF5IjogbnVsbCwgImRhc2hPZmZzZXQiOiBudWxsLCAiZmlsbCI6IHRydWUsICJmaWxsQ29sb3IiOiAiIzAwYjVlYiIsICJmaWxsT3BhY2l0eSI6IDAuNywgImZpbGxSdWxlIjogImV2ZW5vZGQiLCAibGluZUNhcCI6ICJyb3VuZCIsICJsaW5lSm9pbiI6ICJyb3VuZCIsICJvcGFjaXR5IjogMS4wLCAicmFkaXVzIjogMywgInN0cm9rZSI6IHRydWUsICJ3ZWlnaHQiOiAzfQogICAgICAgICAgICApLmFkZFRvKG1hcF81NjRjYjI5ZmJkMmE0ZGJiODI4ZDBlMDgxYTZmYjg5Nik7CiAgICAgICAgCiAgICAKICAgICAgICB2YXIgcG9wdXBfZGE5NDM4NmM3NjVmNGI3NjkyYmQ0ZTE5OTIzNGFjMTkgPSBMLnBvcHVwKHsibWF4V2lkdGgiOiAyNjUwfSk7CgogICAgICAgIAogICAgICAgICAgICB2YXIgaHRtbF83OTk1MmIzMmFlOWY0NzdkOGMzZmM2MWI0OTVmOWZiOSA9ICQoYDxkaXYgaWQ9Imh0bWxfNzk5NTJiMzJhZTlmNDc3ZDhjM2ZjNjFiNDk1ZjlmYjkiIHN0eWxlPSJ3aWR0aDogMTAwLjAlOyBoZWlnaHQ6IDEwMC4wJTsiPiAgICAgSG90ZWw6IEdsYWRzdG9uZSBIb3RlbCAgICAgPGJyPiAgICAgUmF0aW5nOiA4LjMgICAgIDxicj4gICAgIERpc3RhbmNlOiA0NTUyLjEwMzQ3Njc5NDE3NiBtICAgICA8YnI+ICAgICBDbHVzdGVyOiAyICAgICA8YnI+ICAgICBSb2Q6IDAuMDAxODIzMzMyODkyNjUzMjQxMiAgICAgPC9kaXY+YClbMF07CiAgICAgICAgICAgIHBvcHVwX2RhOTQzODZjNzY1ZjRiNzY5MmJkNGUxOTkyMzRhYzE5LnNldENvbnRlbnQoaHRtbF83OTk1MmIzMmFlOWY0NzdkOGMzZmM2MWI0OTVmOWZiOSk7CiAgICAgICAgCgogICAgICAgIGNpcmNsZV9tYXJrZXJfZTNkNzdhN2QxOWY4NDlkOTkzM2Q5MjQ1MTMyNjMyNDguYmluZFBvcHVwKHBvcHVwX2RhOTQzODZjNzY1ZjRiNzY5MmJkNGUxOTkyMzRhYzE5KQogICAgICAgIDsKCiAgICAgICAgCiAgICAKICAgIAogICAgICAgICAgICB2YXIgY2lyY2xlX21hcmtlcl9hMzIxM2Q2NDZmODI0ZDQwOGMyYmNlYWNjNjIzMzBiMSA9IEwuY2lyY2xlTWFya2VyKAogICAgICAgICAgICAgICAgWzQzLjY1MDgzMDAzNjcyNDY0LCAtNzkuMzk3NzM3MDI0MTc0MjldLAogICAgICAgICAgICAgICAgeyJidWJibGluZ01vdXNlRXZlbnRzIjogdHJ1ZSwgImNvbG9yIjogIiNmZmIzNjAiLCAiZGFzaEFycmF5IjogbnVsbCwgImRhc2hPZmZzZXQiOiBudWxsLCAiZmlsbCI6IHRydWUsICJmaWxsQ29sb3IiOiAiI2ZmYjM2MCIsICJmaWxsT3BhY2l0eSI6IDAuNywgImZpbGxSdWxlIjogImV2ZW5vZGQiLCAibGluZUNhcCI6ICJyb3VuZCIsICJsaW5lSm9pbiI6ICJyb3VuZCIsICJvcGFjaXR5IjogMS4wLCAicmFkaXVzIjogMywgInN0cm9rZSI6IHRydWUsICJ3ZWlnaHQiOiAzfQogICAgICAgICAgICApLmFkZFRvKG1hcF81NjRjYjI5ZmJkMmE0ZGJiODI4ZDBlMDgxYTZmYjg5Nik7CiAgICAgICAgCiAgICAKICAgICAgICB2YXIgcG9wdXBfMjgzYmIxMDNiNGYzNDBjMzlkNzRkMDNlYWU2ODM5MjEgPSBMLnBvcHVwKHsibWF4V2lkdGgiOiAyNjUwfSk7CgogICAgICAgIAogICAgICAgICAgICB2YXIgaHRtbF9jZGU2ZDg1YmIyNDI0ODczOTI2NzJjMGZjOTM5NzRhYiA9ICQoYDxkaXYgaWQ9Imh0bWxfY2RlNmQ4NWJiMjQyNDg3MzkyNjcyYzBmYzkzOTc0YWIiIHN0eWxlPSJ3aWR0aDogMTAwLjAlOyBoZWlnaHQ6IDEwMC4wJTsiPiAgICAgSG90ZWw6IFN1cGVyIDggRG93bnRvd24gVG9yb250byAgICAgPGJyPiAgICAgUmF0aW5nOiA1LjUgICAgIDxicj4gICAgIERpc3RhbmNlOiAzMDcxLjM3MjcwNzUwMTYwOSBtICAgICA8YnI+ICAgICBDbHVzdGVyOiA0ICAgICA8YnI+ICAgICBSb2Q6IDAuMDAxNzkwNzMwMjQ0Njc3NDUwNSAgICAgPC9kaXY+YClbMF07CiAgICAgICAgICAgIHBvcHVwXzI4M2JiMTAzYjRmMzQwYzM5ZDc0ZDAzZWFlNjgzOTIxLnNldENvbnRlbnQoaHRtbF9jZGU2ZDg1YmIyNDI0ODczOTI2NzJjMGZjOTM5NzRhYik7CiAgICAgICAgCgogICAgICAgIGNpcmNsZV9tYXJrZXJfYTMyMTNkNjQ2ZjgyNGQ0MDhjMmJjZWFjYzYyMzMwYjEuYmluZFBvcHVwKHBvcHVwXzI4M2JiMTAzYjRmMzQwYzM5ZDc0ZDAzZWFlNjgzOTIxKQogICAgICAgIDsKCiAgICAgICAgCiAgICAKICAgIAogICAgICAgICAgICB2YXIgY2lyY2xlX21hcmtlcl9iZGI0ODczZTBhYzc0MzRjYjMwNTEzZTUxZWRjZTczNCA9IEwuY2lyY2xlTWFya2VyKAogICAgICAgICAgICAgICAgWzQzLjY5MzUyMzgzOTU0Mzg0LCAtNzkuMzk2NTY5MDY2ODIwOTRdLAogICAgICAgICAgICAgICAgeyJidWJibGluZ01vdXNlRXZlbnRzIjogdHJ1ZSwgImNvbG9yIjogIiNmZjAwMDAiLCAiZGFzaEFycmF5IjogbnVsbCwgImRhc2hPZmZzZXQiOiBudWxsLCAiZmlsbCI6IHRydWUsICJmaWxsQ29sb3IiOiAiI2ZmMDAwMCIsICJmaWxsT3BhY2l0eSI6IDAuNywgImZpbGxSdWxlIjogImV2ZW5vZGQiLCAibGluZUNhcCI6ICJyb3VuZCIsICJsaW5lSm9pbiI6ICJyb3VuZCIsICJvcGFjaXR5IjogMS4wLCAicmFkaXVzIjogMywgInN0cm9rZSI6IHRydWUsICJ3ZWlnaHQiOiAzfQogICAgICAgICAgICApLmFkZFRvKG1hcF81NjRjYjI5ZmJkMmE0ZGJiODI4ZDBlMDgxYTZmYjg5Nik7CiAgICAgICAgCiAgICAKICAgICAgICB2YXIgcG9wdXBfNWRkMTcwNTY5MmYwNDc0Y2E0NDM2ZTU4OGI1ZDJhZmUgPSBMLnBvcHVwKHsibWF4V2lkdGgiOiAyNjUwfSk7CgogICAgICAgIAogICAgICAgICAgICB2YXIgaHRtbF84MjY5YmI1OGE0ZWQ0MjcxYTk0YjRlYWU2MTdjMWU3YiA9ICQoYDxkaXYgaWQ9Imh0bWxfODI2OWJiNThhNGVkNDI3MWE5NGI0ZWFlNjE3YzFlN2IiIHN0eWxlPSJ3aWR0aDogMTAwLjAlOyBoZWlnaHQ6IDEwMC4wJTsiPiAgICAgSG90ZWw6IFRvcm9udG8gU3VpdGVzICAgICA8YnI+ICAgICBSYXRpbmc6IDcuNCAgICAgPGJyPiAgICAgRGlzdGFuY2U6IDQxNDYuODg2OTUwNTM2MiBtICAgICA8YnI+ICAgICBDbHVzdGVyOiAwICAgICA8YnI+ICAgICBSb2Q6IDAuMDAxNzg0NDcxMTE5NzI1ODg2NyAgICAgPC9kaXY+YClbMF07CiAgICAgICAgICAgIHBvcHVwXzVkZDE3MDU2OTJmMDQ3NGNhNDQzNmU1ODhiNWQyYWZlLnNldENvbnRlbnQoaHRtbF84MjY5YmI1OGE0ZWQ0MjcxYTk0YjRlYWU2MTdjMWU3Yik7CiAgICAgICAgCgogICAgICAgIGNpcmNsZV9tYXJrZXJfYmRiNDg3M2UwYWM3NDM0Y2IzMDUxM2U1MWVkY2U3MzQuYmluZFBvcHVwKHBvcHVwXzVkZDE3MDU2OTJmMDQ3NGNhNDQzNmU1ODhiNWQyYWZlKQogICAgICAgIDsKCiAgICAgICAgCiAgICAKICAgIAogICAgICAgICAgICB2YXIgY2lyY2xlX21hcmtlcl8zOGFkZDEzOWJiY2E0NGZlODRkYTdhMzY1YjIwM2U4NiA9IEwuY2lyY2xlTWFya2VyKAogICAgICAgICAgICAgICAgWzQzLjY0NjIwMTk1NjQ4OTYwNSwgLTc5LjM4Mjc1NzQyNjEwMjc4XSwKICAgICAgICAgICAgICAgIHsiYnViYmxpbmdNb3VzZUV2ZW50cyI6IHRydWUsICJjb2xvciI6ICIjZmZiMzYwIiwgImRhc2hBcnJheSI6IG51bGwsICJkYXNoT2Zmc2V0IjogbnVsbCwgImZpbGwiOiB0cnVlLCAiZmlsbENvbG9yIjogIiNmZmIzNjAiLCAiZmlsbE9wYWNpdHkiOiAwLjcsICJmaWxsUnVsZSI6ICJldmVub2RkIiwgImxpbmVDYXAiOiAicm91bmQiLCAibGluZUpvaW4iOiAicm91bmQiLCAib3BhY2l0eSI6IDEuMCwgInJhZGl1cyI6IDMsICJzdHJva2UiOiB0cnVlLCAid2VpZ2h0IjogM30KICAgICAgICAgICAgKS5hZGRUbyhtYXBfNTY0Y2IyOWZiZDJhNGRiYjgyOGQwZTA4MWE2ZmI4OTYpOwogICAgICAgIAogICAgCiAgICAgICAgdmFyIHBvcHVwX2ViZTYyMDAwZTQwYTQ0MzdhMWVlZWQ0ZDM3OTc0ODc5ID0gTC5wb3B1cCh7Im1heFdpZHRoIjogMjY1MH0pOwoKICAgICAgICAKICAgICAgICAgICAgdmFyIGh0bWxfZWRiNGVmYWQwZGZkNDZiNDk1YWFjYTQxNjU1YTI1MjQgPSAkKGA8ZGl2IGlkPSJodG1sX2VkYjRlZmFkMGRmZDQ2YjQ5NWFhY2E0MTY1NWEyNTI0IiBzdHlsZT0id2lkdGg6IDEwMC4wJTsgaGVpZ2h0OiAxMDAuMCU7Ij4gICAgIEhvdGVsOiBUaGUgU3RyYXRoY29uYSBIb3RlbCAgICAgPGJyPiAgICAgUmF0aW5nOiA1LjYgICAgIDxicj4gICAgIERpc3RhbmNlOiAzMTc1Ljc4Nzg3NDE0NTMxOTYgbSAgICAgPGJyPiAgICAgQ2x1c3RlcjogNCAgICAgPGJyPiAgICAgUm9kOiAwLjAwMTc2MzM0MTk1NTQyMTcyMTQgICAgIDwvZGl2PmApWzBdOwogICAgICAgICAgICBwb3B1cF9lYmU2MjAwMGU0MGE0NDM3YTFlZWVkNGQzNzk3NDg3OS5zZXRDb250ZW50KGh0bWxfZWRiNGVmYWQwZGZkNDZiNDk1YWFjYTQxNjU1YTI1MjQpOwogICAgICAgIAoKICAgICAgICBjaXJjbGVfbWFya2VyXzM4YWRkMTM5YmJjYTQ0ZmU4NGRhN2EzNjViMjAzZTg2LmJpbmRQb3B1cChwb3B1cF9lYmU2MjAwMGU0MGE0NDM3YTFlZWVkNGQzNzk3NDg3OSkKICAgICAgICA7CgogICAgICAgIAogICAgCiAgICAKICAgICAgICAgICAgdmFyIGNpcmNsZV9tYXJrZXJfY2Q2ZjViNDIxZWEzNGM4YWJjMTJlZTdmYmY5ZTkxYjYgPSBMLmNpcmNsZU1hcmtlcigKICAgICAgICAgICAgICAgIFs0My43MDg4NzgzLCAtNzkuMzkwODc5OF0sCiAgICAgICAgICAgICAgICB7ImJ1YmJsaW5nTW91c2VFdmVudHMiOiB0cnVlLCAiY29sb3IiOiAiI2ZmYjM2MCIsICJkYXNoQXJyYXkiOiBudWxsLCAiZGFzaE9mZnNldCI6IG51bGwsICJmaWxsIjogdHJ1ZSwgImZpbGxDb2xvciI6ICIjZmZiMzYwIiwgImZpbGxPcGFjaXR5IjogMC43LCAiZmlsbFJ1bGUiOiAiZXZlbm9kZCIsICJsaW5lQ2FwIjogInJvdW5kIiwgImxpbmVKb2luIjogInJvdW5kIiwgIm9wYWNpdHkiOiAxLjAsICJyYWRpdXMiOiAzLCAic3Ryb2tlIjogdHJ1ZSwgIndlaWdodCI6IDN9CiAgICAgICAgICAgICkuYWRkVG8obWFwXzU2NGNiMjlmYmQyYTRkYmI4MjhkMGUwODFhNmZiODk2KTsKICAgICAgICAKICAgIAogICAgICAgIHZhciBwb3B1cF9hYjU0MzgzOTgzNDA0N2IzODhhZWI1MzE5M2M0YzA0ZCA9IEwucG9wdXAoeyJtYXhXaWR0aCI6IDI2NTB9KTsKCiAgICAgICAgCiAgICAgICAgICAgIHZhciBodG1sXzZhNDFiOTdkZTA2NzRhMDA5NTQwYzM5ZGVkYWMyZGNmID0gJChgPGRpdiBpZD0iaHRtbF82YTQxYjk3ZGUwNjc0YTAwOTU0MGMzOWRlZGFjMmRjZiIgc3R5bGU9IndpZHRoOiAxMDAuMCU7IGhlaWdodDogMTAwLjAlOyI+ICAgICBIb3RlbDogQmVzdCBXZXN0ZXJuIFJvZWhhbXB0b24gSG90ZWwgJiBTdWl0ZXMgICAgIDxicj4gICAgIFJhdGluZzogNi4zICAgICA8YnI+ICAgICBEaXN0YW5jZTogNTc2Ny40NzYwOTU4MDE0ODk1IG0gICAgIDxicj4gICAgIENsdXN0ZXI6IDQgICAgIDxicj4gICAgIFJvZDogMC4wMDEwOTIzMzIyMjU2MzA5MjUgICAgIDwvZGl2PmApWzBdOwogICAgICAgICAgICBwb3B1cF9hYjU0MzgzOTgzNDA0N2IzODhhZWI1MzE5M2M0YzA0ZC5zZXRDb250ZW50KGh0bWxfNmE0MWI5N2RlMDY3NGEwMDk1NDBjMzlkZWRhYzJkY2YpOwogICAgICAgIAoKICAgICAgICBjaXJjbGVfbWFya2VyX2NkNmY1YjQyMWVhMzRjOGFiYzEyZWU3ZmJmOWU5MWI2LmJpbmRQb3B1cChwb3B1cF9hYjU0MzgzOTgzNDA0N2IzODhhZWI1MzE5M2M0YzA0ZCkKICAgICAgICA7CgogICAgICAgIAogICAgCiAgICAKICAgICAgICAgICAgdmFyIGNpcmNsZV9tYXJrZXJfMzY0ZTM4MDNkMGIzNGMxYWFhZDdiNjA2YmI2Mzk3ODggPSBMLmNpcmNsZU1hcmtlcigKICAgICAgICAgICAgICAgIFs0My43NjY5NjEsIC03OS40MDExOTldLAogICAgICAgICAgICAgICAgeyJidWJibGluZ01vdXNlRXZlbnRzIjogdHJ1ZSwgImNvbG9yIjogIiMwMGI1ZWIiLCAiZGFzaEFycmF5IjogbnVsbCwgImRhc2hPZmZzZXQiOiBudWxsLCAiZmlsbCI6IHRydWUsICJmaWxsQ29sb3IiOiAiIzAwYjVlYiIsICJmaWxsT3BhY2l0eSI6IDAuNywgImZpbGxSdWxlIjogImV2ZW5vZGQiLCAibGluZUNhcCI6ICJyb3VuZCIsICJsaW5lSm9pbiI6ICJyb3VuZCIsICJvcGFjaXR5IjogMS4wLCAicmFkaXVzIjogMywgInN0cm9rZSI6IHRydWUsICJ3ZWlnaHQiOiAzfQogICAgICAgICAgICApLmFkZFRvKG1hcF81NjRjYjI5ZmJkMmE0ZGJiODI4ZDBlMDgxYTZmYjg5Nik7CiAgICAgICAgCiAgICAKICAgICAgICB2YXIgcG9wdXBfMDRjODJmMTdmNjRjNGEwMmEwYjRkNmU4M2YxODZhYzYgPSBMLnBvcHVwKHsibWF4V2lkdGgiOiAyNjUwfSk7CgogICAgICAgIAogICAgICAgICAgICB2YXIgaHRtbF8xZGZhYzVmM2NjOTk0M2Y4YjhmNjZlNDJiMTFiYjBhNyA9ICQoYDxkaXYgaWQ9Imh0bWxfMWRmYWM1ZjNjYzk5NDNmOGI4ZjY2ZTQyYjExYmIwYTciIHN0eWxlPSJ3aWR0aDogMTAwLjAlOyBoZWlnaHQ6IDEwMC4wJTsiPiAgICAgSG90ZWw6IE1hcnlhbSBIb3RlbCAgICAgPGJyPiAgICAgUmF0aW5nOiA5LjIgICAgIDxicj4gICAgIERpc3RhbmNlOiAxMjExMy4yNzExNTU0Nzg0MzMgbSAgICAgPGJyPiAgICAgQ2x1c3RlcjogMiAgICAgPGJyPiAgICAgUm9kOiAwLjAwMDc1OTQ5NzU2OTM5NDMwMzggICAgIDwvZGl2PmApWzBdOwogICAgICAgICAgICBwb3B1cF8wNGM4MmYxN2Y2NGM0YTAyYTBiNGQ2ZTgzZjE4NmFjNi5zZXRDb250ZW50KGh0bWxfMWRmYWM1ZjNjYzk5NDNmOGI4ZjY2ZTQyYjExYmIwYTcpOwogICAgICAgIAoKICAgICAgICBjaXJjbGVfbWFya2VyXzM2NGUzODAzZDBiMzRjMWFhYWQ3YjYwNmJiNjM5Nzg4LmJpbmRQb3B1cChwb3B1cF8wNGM4MmYxN2Y2NGM0YTAyYTBiNGQ2ZTgzZjE4NmFjNikKICAgICAgICA7CgogICAgICAgIAogICAgCiAgICAKICAgICAgICAgICAgdmFyIGNpcmNsZV9tYXJrZXJfZjIwNTE4MTI3YjNmNGJmZjgwN2U2MGVmNzIxZjJlYTIgPSBMLmNpcmNsZU1hcmtlcigKICAgICAgICAgICAgICAgIFs0My43MjU5MDMsIC03OS40NTkxNjJdLAogICAgICAgICAgICAgICAgeyJidWJibGluZ01vdXNlRXZlbnRzIjogdHJ1ZSwgImNvbG9yIjogIiM4MGZmYjQiLCAiZGFzaEFycmF5IjogbnVsbCwgImRhc2hPZmZzZXQiOiBudWxsLCAiZmlsbCI6IHRydWUsICJmaWxsQ29sb3IiOiAiIzgwZmZiNCIsICJmaWxsT3BhY2l0eSI6IDAuNywgImZpbGxSdWxlIjogImV2ZW5vZGQiLCAibGluZUNhcCI6ICJyb3VuZCIsICJsaW5lSm9pbiI6ICJyb3VuZCIsICJvcGFjaXR5IjogMS4wLCAicmFkaXVzIjogMywgInN0cm9rZSI6IHRydWUsICJ3ZWlnaHQiOiAzfQogICAgICAgICAgICApLmFkZFRvKG1hcF81NjRjYjI5ZmJkMmE0ZGJiODI4ZDBlMDgxYTZmYjg5Nik7CiAgICAgICAgCiAgICAKICAgICAgICB2YXIgcG9wdXBfOWUzOWNkYTg2ZDhhNDBkYmFkN2U1ZmI1OWU2N2Y3MGUgPSBMLnBvcHVwKHsibWF4V2lkdGgiOiAyNjUwfSk7CgogICAgICAgIAogICAgICAgICAgICB2YXIgaHRtbF8xZjkyODcwN2I5OTU0N2E0Yjc1MWM3ZTk5NjVmYzAzOSA9ICQoYDxkaXYgaWQ9Imh0bWxfMWY5Mjg3MDdiOTk1NDdhNGI3NTFjN2U5OTY1ZmMwMzkiIHN0eWxlPSJ3aWR0aDogMTAwLjAlOyBoZWlnaHQ6IDEwMC4wJTsiPiAgICAgSG90ZWw6IEhvbGlkYXkgSW5uIFRvcm9udG8tWW9ya2RhbGUgICAgIDxicj4gICAgIFJhdGluZzogNS45ICAgICA8YnI+ICAgICBEaXN0YW5jZTogOTM0NC41OTc3NDIxODg1NjUgbSAgICAgPGJyPiAgICAgQ2x1c3RlcjogMyAgICAgPGJyPiAgICAgUm9kOiAwLjAwMDYzMTM4MDg0MzAwNDM5NjkgICAgIDwvZGl2PmApWzBdOwogICAgICAgICAgICBwb3B1cF85ZTM5Y2RhODZkOGE0MGRiYWQ3ZTVmYjU5ZTY3ZjcwZS5zZXRDb250ZW50KGh0bWxfMWY5Mjg3MDdiOTk1NDdhNGI3NTFjN2U5OTY1ZmMwMzkpOwogICAgICAgIAoKICAgICAgICBjaXJjbGVfbWFya2VyX2YyMDUxODEyN2IzZjRiZmY4MDdlNjBlZjcyMWYyZWEyLmJpbmRQb3B1cChwb3B1cF85ZTM5Y2RhODZkOGE0MGRiYWQ3ZTVmYjU5ZTY3ZjcwZSkKICAgICAgICA7CgogICAgICAgIAogICAgCiAgICAKICAgICAgICAgICAgdmFyIGNpcmNsZV9tYXJrZXJfMzQ3MTA4MmJhNTYyNGI0MTkxMzc2MjlkYmFiMDMyNTIgPSBMLmNpcmNsZU1hcmtlcigKICAgICAgICAgICAgICAgIFs0My43NTY3NTk0MjQwODM1MiwgLTc5LjM1MDQyMzIxNjgxOTc2XSwKICAgICAgICAgICAgICAgIHsiYnViYmxpbmdNb3VzZUV2ZW50cyI6IHRydWUsICJjb2xvciI6ICIjODBmZmI0IiwgImRhc2hBcnJheSI6IG51bGwsICJkYXNoT2Zmc2V0IjogbnVsbCwgImZpbGwiOiB0cnVlLCAiZmlsbENvbG9yIjogIiM4MGZmYjQiLCAiZmlsbE9wYWNpdHkiOiAwLjcsICJmaWxsUnVsZSI6ICJldmVub2RkIiwgImxpbmVDYXAiOiAicm91bmQiLCAibGluZUpvaW4iOiAicm91bmQiLCAib3BhY2l0eSI6IDEuMCwgInJhZGl1cyI6IDMsICJzdHJva2UiOiB0cnVlLCAid2VpZ2h0IjogM30KICAgICAgICAgICAgKS5hZGRUbyhtYXBfNTY0Y2IyOWZiZDJhNGRiYjgyOGQwZTA4MWE2ZmI4OTYpOwogICAgICAgIAogICAgCiAgICAgICAgdmFyIHBvcHVwXzQ3N2RiZTRhNzUxNDRkYWQ4YTc3OGE5NWYyYjZjZjk1ID0gTC5wb3B1cCh7Im1heFdpZHRoIjogMjY1MH0pOwoKICAgICAgICAKICAgICAgICAgICAgdmFyIGh0bWxfNTdiNmQxMTk4NTJhNGQ4YjliYTk1OTZkMDI3ZDM4ZmMgPSAkKGA8ZGl2IGlkPSJodG1sXzU3YjZkMTE5ODUyYTRkOGI5YmE5NTk2ZDAyN2QzOGZjIiBzdHlsZT0id2lkdGg6IDEwMC4wJTsgaGVpZ2h0OiAxMDAuMCU7Ij4gICAgIEhvdGVsOiBUaGUgV2VzdGluIFByaW5jZSwgVG9yb250byAgICAgPGJyPiAgICAgUmF0aW5nOiA3LjEgICAgIDxicj4gICAgIERpc3RhbmNlOiAxMTQ4NC43MjMyOTk3MzM3MDUgbSAgICAgPGJyPiAgICAgQ2x1c3RlcjogMyAgICAgPGJyPiAgICAgUm9kOiAwLjAwMDYxODIxMjU0MzI4MDM5NjQgICAgIDwvZGl2PmApWzBdOwogICAgICAgICAgICBwb3B1cF80NzdkYmU0YTc1MTQ0ZGFkOGE3NzhhOTVmMmI2Y2Y5NS5zZXRDb250ZW50KGh0bWxfNTdiNmQxMTk4NTJhNGQ4YjliYTk1OTZkMDI3ZDM4ZmMpOwogICAgICAgIAoKICAgICAgICBjaXJjbGVfbWFya2VyXzM0NzEwODJiYTU2MjRiNDE5MTM3NjI5ZGJhYjAzMjUyLmJpbmRQb3B1cChwb3B1cF80NzdkYmU0YTc1MTQ0ZGFkOGE3NzhhOTVmMmI2Y2Y5NSkKICAgICAgICA7CgogICAgICAgIAogICAgCiAgICAKICAgICAgICAgICAgdmFyIGNpcmNsZV9tYXJrZXJfNjhhN2Q4MDMyOWUyNDcyNDg0MDg2M2M0NmNjN2VhM2YgPSBMLmNpcmNsZU1hcmtlcigKICAgICAgICAgICAgICAgIFs0My43Njg3MjMwNDczNjQ2NiwgLTc5LjQxNDI1NzMwNzI1ODI1XSwKICAgICAgICAgICAgICAgIHsiYnViYmxpbmdNb3VzZUV2ZW50cyI6IHRydWUsICJjb2xvciI6ICIjODBmZmI0IiwgImRhc2hBcnJheSI6IG51bGwsICJkYXNoT2Zmc2V0IjogbnVsbCwgImZpbGwiOiB0cnVlLCAiZmlsbENvbG9yIjogIiM4MGZmYjQiLCAiZmlsbE9wYWNpdHkiOiAwLjcsICJmaWxsUnVsZSI6ICJldmVub2RkIiwgImxpbmVDYXAiOiAicm91bmQiLCAibGluZUpvaW4iOiAicm91bmQiLCAib3BhY2l0eSI6IDEuMCwgInJhZGl1cyI6IDMsICJzdHJva2UiOiB0cnVlLCAid2VpZ2h0IjogM30KICAgICAgICAgICAgKS5hZGRUbyhtYXBfNTY0Y2IyOWZiZDJhNGRiYjgyOGQwZTA4MWE2ZmI4OTYpOwogICAgICAgIAogICAgCiAgICAgICAgdmFyIHBvcHVwXzRjNzJiMDI3NjZmMTRkMWJiM2YxMTM1YjQ3YjA0ZjQ2ID0gTC5wb3B1cCh7Im1heFdpZHRoIjogMjY1MH0pOwoKICAgICAgICAKICAgICAgICAgICAgdmFyIGh0bWxfZTQ1M2U5YWU1MGI5NDUzOWE4YmQ3NTVmODlmZWYxZTIgPSAkKGA8ZGl2IGlkPSJodG1sX2U0NTNlOWFlNTBiOTQ1MzlhOGJkNzU1Zjg5ZmVmMWUyIiBzdHlsZT0id2lkdGg6IDEwMC4wJTsgaGVpZ2h0OiAxMDAuMCU7Ij4gICAgIEhvdGVsOiBOb3ZvdGVsIFRvcm9udG8gTm9ydGggWW9yayAgICAgPGJyPiAgICAgUmF0aW5nOiA2LjEgICAgIDxicj4gICAgIERpc3RhbmNlOiAxMjQxNS41OTA1ODE4Njc3MTcgbSAgICAgPGJyPiAgICAgQ2x1c3RlcjogMyAgICAgPGJyPiAgICAgUm9kOiAwLjAwMDQ5MTMxNzc0NzYxNTU0MzQgICAgIDwvZGl2PmApWzBdOwogICAgICAgICAgICBwb3B1cF80YzcyYjAyNzY2ZjE0ZDFiYjNmMTEzNWI0N2IwNGY0Ni5zZXRDb250ZW50KGh0bWxfZTQ1M2U5YWU1MGI5NDUzOWE4YmQ3NTVmODlmZWYxZTIpOwogICAgICAgIAoKICAgICAgICBjaXJjbGVfbWFya2VyXzY4YTdkODAzMjllMjQ3MjQ4NDA4NjNjNDZjYzdlYTNmLmJpbmRQb3B1cChwb3B1cF80YzcyYjAyNzY2ZjE0ZDFiYjNmMTEzNWI0N2IwNGY0NikKICAgICAgICA7CgogICAgICAgIAogICAgCiAgICAKICAgICAgICAgICAgdmFyIGNpcmNsZV9tYXJrZXJfZTgzYjBhNWJmYzRiNDM0Zjk3YjU4ZjllNWEyMTg3YWEgPSBMLmNpcmNsZU1hcmtlcigKICAgICAgICAgICAgICAgIFs0My42ODg5OTMyMzA1Njk3NSwgLTc5LjU3NzkwNjc1NzkxMzM1XSwKICAgICAgICAgICAgICAgIHsiYnViYmxpbmdNb3VzZUV2ZW50cyI6IHRydWUsICJjb2xvciI6ICIjODAwMGZmIiwgImRhc2hBcnJheSI6IG51bGwsICJkYXNoT2Zmc2V0IjogbnVsbCwgImZpbGwiOiB0cnVlLCAiZmlsbENvbG9yIjogIiM4MDAwZmYiLCAiZmlsbE9wYWNpdHkiOiAwLjcsICJmaWxsUnVsZSI6ICJldmVub2RkIiwgImxpbmVDYXAiOiAicm91bmQiLCAibGluZUpvaW4iOiAicm91bmQiLCAib3BhY2l0eSI6IDEuMCwgInJhZGl1cyI6IDMsICJzdHJva2UiOiB0cnVlLCAid2VpZ2h0IjogM30KICAgICAgICAgICAgKS5hZGRUbyhtYXBfNTY0Y2IyOWZiZDJhNGRiYjgyOGQwZTA4MWE2ZmI4OTYpOwogICAgICAgIAogICAgCiAgICAgICAgdmFyIHBvcHVwX2FjMDQ1NjkyNzMzZjQ2ZjY4NDcwZDdiMGU3MTE2YzY1ID0gTC5wb3B1cCh7Im1heFdpZHRoIjogMjY1MH0pOwoKICAgICAgICAKICAgICAgICAgICAgdmFyIGh0bWxfODdjY2VhMmNlNDUxNGQzMzlmMTI4NmVjMjg2NTc2ZjYgPSAkKGA8ZGl2IGlkPSJodG1sXzg3Y2NlYTJjZTQ1MTRkMzM5ZjEyODZlYzI4NjU3NmY2IiBzdHlsZT0id2lkdGg6IDEwMC4wJTsgaGVpZ2h0OiAxMDAuMCU7Ij4gICAgIEhvdGVsOiBEZWx0YSBIb3RlbHMgYnkgTWFycmlvdHQgVG9yb250byBBaXJwb3J0ICYgQ29uZmVyZW5jZSBDZW50cmUgICAgIDxicj4gICAgIFJhdGluZzogNy42ICAgICA8YnI+ICAgICBEaXN0YW5jZTogMTU2NjkuMjg1MjgzNjAyMDUyIG0gICAgIDxicj4gICAgIENsdXN0ZXI6IDEgICAgIDxicj4gICAgIFJvZDogMC4wMDA0ODUwMjUzMTMwNTMyNjQ4ICAgICA8L2Rpdj5gKVswXTsKICAgICAgICAgICAgcG9wdXBfYWMwNDU2OTI3MzNmNDZmNjg0NzBkN2IwZTcxMTZjNjUuc2V0Q29udGVudChodG1sXzg3Y2NlYTJjZTQ1MTRkMzM5ZjEyODZlYzI4NjU3NmY2KTsKICAgICAgICAKCiAgICAgICAgY2lyY2xlX21hcmtlcl9lODNiMGE1YmZjNGI0MzRmOTdiNThmOWU1YTIxODdhYS5iaW5kUG9wdXAocG9wdXBfYWMwNDU2OTI3MzNmNDZmNjg0NzBkN2IwZTcxMTZjNjUpCiAgICAgICAgOwoKICAgICAgICAKICAgIAogICAgCiAgICAgICAgICAgIHZhciBjaXJjbGVfbWFya2VyXzAwNmY1ZTFmNTc2MTRjMGNhNWQzYTNkZWZiYzMwYjBhID0gTC5jaXJjbGVNYXJrZXIoCiAgICAgICAgICAgICAgICBbNDMuNzU2ODg3MDc3NDQ0NDI1LCAtNzkuNTI4Nzc5NDg2NTE3OThdLAogICAgICAgICAgICAgICAgeyJidWJibGluZ01vdXNlRXZlbnRzIjogdHJ1ZSwgImNvbG9yIjogIiM4MDAwZmYiLCAiZGFzaEFycmF5IjogbnVsbCwgImRhc2hPZmZzZXQiOiBudWxsLCAiZmlsbCI6IHRydWUsICJmaWxsQ29sb3IiOiAiIzgwMDBmZiIsICJmaWxsT3BhY2l0eSI6IDAuNywgImZpbGxSdWxlIjogImV2ZW5vZGQiLCAibGluZUNhcCI6ICJyb3VuZCIsICJsaW5lSm9pbiI6ICJyb3VuZCIsICJvcGFjaXR5IjogMS4wLCAicmFkaXVzIjogMywgInN0cm9rZSI6IHRydWUsICJ3ZWlnaHQiOiAzfQogICAgICAgICAgICApLmFkZFRvKG1hcF81NjRjYjI5ZmJkMmE0ZGJiODI4ZDBlMDgxYTZmYjg5Nik7CiAgICAgICAgCiAgICAKICAgICAgICB2YXIgcG9wdXBfOGZhNDhjYmI2YzI4NDAyYWJiYmRiNTJmZjkwMDg1YTUgPSBMLnBvcHVwKHsibWF4V2lkdGgiOiAyNjUwfSk7CgogICAgICAgIAogICAgICAgICAgICB2YXIgaHRtbF9mNjQ1YzM4OWZkNmU0ZjBmOWY4NzU4OTgzMWFlNmYyOSA9ICQoYDxkaXYgaWQ9Imh0bWxfZjY0NWMzODlmZDZlNGYwZjlmODc1ODk4MzFhZTZmMjkiIHN0eWxlPSJ3aWR0aDogMTAwLjAlOyBoZWlnaHQ6IDEwMC4wJTsiPiAgICAgSG90ZWw6IEJlc3QgV2VzdGVybiBQbHVzIFRvcm9udG8gTm9ydGggWW9yayBIb3RlbCAmIFN1aXRlcyAgICAgPGJyPiAgICAgUmF0aW5nOiA3LjMgICAgIDxicj4gICAgIERpc3RhbmNlOiAxNTY1MC40MDUwMDU2MzMyNjkgbSAgICAgPGJyPiAgICAgQ2x1c3RlcjogMSAgICAgPGJyPiAgICAgUm9kOiAwLjAwMDQ2NjQ0MTYwMzEwMDUyMDk3ICAgICA8L2Rpdj5gKVswXTsKICAgICAgICAgICAgcG9wdXBfOGZhNDhjYmI2YzI4NDAyYWJiYmRiNTJmZjkwMDg1YTUuc2V0Q29udGVudChodG1sX2Y2NDVjMzg5ZmQ2ZTRmMGY5Zjg3NTg5ODMxYWU2ZjI5KTsKICAgICAgICAKCiAgICAgICAgY2lyY2xlX21hcmtlcl8wMDZmNWUxZjU3NjE0YzBjYTVkM2EzZGVmYmMzMGIwYS5iaW5kUG9wdXAocG9wdXBfOGZhNDhjYmI2YzI4NDAyYWJiYmRiNTJmZjkwMDg1YTUpCiAgICAgICAgOwoKICAgICAgICAKICAgIAogICAgCiAgICAgICAgICAgIHZhciBjaXJjbGVfbWFya2VyXzcyNmE2NmI4ZTZiZDRlMTA5Y2I4ZTgwN2Q5MDI3ZTI1ID0gTC5jaXJjbGVNYXJrZXIoCiAgICAgICAgICAgICAgICBbNDMuNjkwMTE5NDA1MTEwODU2LCAtNzkuNTg3OTI5OTg0NTcyODRdLAogICAgICAgICAgICAgICAgeyJidWJibGluZ01vdXNlRXZlbnRzIjogdHJ1ZSwgImNvbG9yIjogIiM4MDAwZmYiLCAiZGFzaEFycmF5IjogbnVsbCwgImRhc2hPZmZzZXQiOiBudWxsLCAiZmlsbCI6IHRydWUsICJmaWxsQ29sb3IiOiAiIzgwMDBmZiIsICJmaWxsT3BhY2l0eSI6IDAuNywgImZpbGxSdWxlIjogImV2ZW5vZGQiLCAibGluZUNhcCI6ICJyb3VuZCIsICJsaW5lSm9pbiI6ICJyb3VuZCIsICJvcGFjaXR5IjogMS4wLCAicmFkaXVzIjogMywgInN0cm9rZSI6IHRydWUsICJ3ZWlnaHQiOiAzfQogICAgICAgICAgICApLmFkZFRvKG1hcF81NjRjYjI5ZmJkMmE0ZGJiODI4ZDBlMDgxYTZmYjg5Nik7CiAgICAgICAgCiAgICAKICAgICAgICB2YXIgcG9wdXBfNTk1Y2I2YmIyMmI5NGQ3YTliZTlmM2YxNjhjMjgwMzYgPSBMLnBvcHVwKHsibWF4V2lkdGgiOiAyNjUwfSk7CgogICAgICAgIAogICAgICAgICAgICB2YXIgaHRtbF9mMTI4YTE5YzFkMzY0ZjJkOWVmNWZlOGEyMzQxYjU3NSA9ICQoYDxkaXYgaWQ9Imh0bWxfZjEyOGExOWMxZDM2NGYyZDllZjVmZThhMjM0MWI1NzUiIHN0eWxlPSJ3aWR0aDogMTAwLjAlOyBoZWlnaHQ6IDEwMC4wJTsiPiAgICAgSG90ZWw6IFJlc2lkZW5jZSBJbm4gVG9yb250byBBaXJwb3J0ICAgICA8YnI+ICAgICBSYXRpbmc6IDcuNSAgICAgPGJyPiAgICAgRGlzdGFuY2U6IDE2NDc3LjUxMjgyMDczNjI0MyBtICAgICA8YnI+ICAgICBDbHVzdGVyOiAxICAgICA8YnI+ICAgICBSb2Q6IDAuMDAwNDU1MTY1NzgxNDg2MjQyOTYgICAgIDwvZGl2PmApWzBdOwogICAgICAgICAgICBwb3B1cF81OTVjYjZiYjIyYjk0ZDdhOWJlOWYzZjE2OGMyODAzNi5zZXRDb250ZW50KGh0bWxfZjEyOGExOWMxZDM2NGYyZDllZjVmZThhMjM0MWI1NzUpOwogICAgICAgIAoKICAgICAgICBjaXJjbGVfbWFya2VyXzcyNmE2NmI4ZTZiZDRlMTA5Y2I4ZTgwN2Q5MDI3ZTI1LmJpbmRQb3B1cChwb3B1cF81OTVjYjZiYjIyYjk0ZDdhOWJlOWYzZjE2OGMyODAzNikKICAgICAgICA7CgogICAgICAgIAogICAgCiAgICAKICAgICAgICAgICAgdmFyIGNpcmNsZV9tYXJrZXJfOGE0MGY2YWQ3NzIxNGQ4OWFkMWFhOTg2MjQ3ODk2NGQgPSBMLmNpcmNsZU1hcmtlcigKICAgICAgICAgICAgICAgIFs0My42NTI5ODg1MjQ5NzY3LCAtNzkuNjAwNjMwNDAyNTY1XSwKICAgICAgICAgICAgICAgIHsiYnViYmxpbmdNb3VzZUV2ZW50cyI6IHRydWUsICJjb2xvciI6ICIjODAwMGZmIiwgImRhc2hBcnJheSI6IG51bGwsICJkYXNoT2Zmc2V0IjogbnVsbCwgImZpbGwiOiB0cnVlLCAiZmlsbENvbG9yIjogIiM4MDAwZmYiLCAiZmlsbE9wYWNpdHkiOiAwLjcsICJmaWxsUnVsZSI6ICJldmVub2RkIiwgImxpbmVDYXAiOiAicm91bmQiLCAibGluZUpvaW4iOiAicm91bmQiLCAib3BhY2l0eSI6IDEuMCwgInJhZGl1cyI6IDMsICJzdHJva2UiOiB0cnVlLCAid2VpZ2h0IjogM30KICAgICAgICAgICAgKS5hZGRUbyhtYXBfNTY0Y2IyOWZiZDJhNGRiYjgyOGQwZTA4MWE2ZmI4OTYpOwogICAgICAgIAogICAgCiAgICAgICAgdmFyIHBvcHVwXzk2MjE3OTcyNmJiMjQ4NDA5ZmEzMjAzZTAxMzUxMTcyID0gTC5wb3B1cCh7Im1heFdpZHRoIjogMjY1MH0pOwoKICAgICAgICAKICAgICAgICAgICAgdmFyIGh0bWxfMTg2OWU2Yzc5YTFhNDVjYjk1YWM3YmNhMTJlOTljZDggPSAkKGA8ZGl2IGlkPSJodG1sXzE4NjllNmM3OWExYTQ1Y2I5NWFjN2JjYTEyZTk5Y2Q4IiBzdHlsZT0id2lkdGg6IDEwMC4wJTsgaGVpZ2h0OiAxMDAuMCU7Ij4gICAgIEhvdGVsOiBCZXN0IFdlc3Rlcm4gUGx1cyBUcmF2ZWwgSG90ZWwgVG9yb250byBBaXJwb3J0ICAgICA8YnI+ICAgICBSYXRpbmc6IDcuNSAgICAgPGJyPiAgICAgRGlzdGFuY2U6IDE3MTk3LjA3ODc2NDgyNTUxNyBtICAgICA8YnI+ICAgICBDbHVzdGVyOiAxICAgICA8YnI+ICAgICBSb2Q6IDAuMDAwNDM2MTIwNTgyMDIyMzU1OCAgICAgPC9kaXY+YClbMF07CiAgICAgICAgICAgIHBvcHVwXzk2MjE3OTcyNmJiMjQ4NDA5ZmEzMjAzZTAxMzUxMTcyLnNldENvbnRlbnQoaHRtbF8xODY5ZTZjNzlhMWE0NWNiOTVhYzdiY2ExMmU5OWNkOCk7CiAgICAgICAgCgogICAgICAgIGNpcmNsZV9tYXJrZXJfOGE0MGY2YWQ3NzIxNGQ4OWFkMWFhOTg2MjQ3ODk2NGQuYmluZFBvcHVwKHBvcHVwXzk2MjE3OTcyNmJiMjQ4NDA5ZmEzMjAzZTAxMzUxMTcyKQogICAgICAgIDsKCiAgICAgICAgCiAgICAKICAgIAogICAgICAgICAgICB2YXIgY2lyY2xlX21hcmtlcl81ZDhjNzlmNzRiM2Y0OTdiOTUwZWE3ZTRjYWM3NDUwNSA9IEwuY2lyY2xlTWFya2VyKAogICAgICAgICAgICAgICAgWzQzLjY4NjEzNTY5ODczMDQ1LCAtNzkuNTk2MzMyMTYyNjE4N10sCiAgICAgICAgICAgICAgICB7ImJ1YmJsaW5nTW91c2VFdmVudHMiOiB0cnVlLCAiY29sb3IiOiAiIzgwMDBmZiIsICJkYXNoQXJyYXkiOiBudWxsLCAiZGFzaE9mZnNldCI6IG51bGwsICJmaWxsIjogdHJ1ZSwgImZpbGxDb2xvciI6ICIjODAwMGZmIiwgImZpbGxPcGFjaXR5IjogMC43LCAiZmlsbFJ1bGUiOiAiZXZlbm9kZCIsICJsaW5lQ2FwIjogInJvdW5kIiwgImxpbmVKb2luIjogInJvdW5kIiwgIm9wYWNpdHkiOiAxLjAsICJyYWRpdXMiOiAzLCAic3Ryb2tlIjogdHJ1ZSwgIndlaWdodCI6IDN9CiAgICAgICAgICAgICkuYWRkVG8obWFwXzU2NGNiMjlmYmQyYTRkYmI4MjhkMGUwODFhNmZiODk2KTsKICAgICAgICAKICAgIAogICAgICAgIHZhciBwb3B1cF8wOWNiYmVkOTFmMjE0YjQyYWU1YWUwYzgzODFmZWQyOSA9IEwucG9wdXAoeyJtYXhXaWR0aCI6IDI2NTB9KTsKCiAgICAgICAgCiAgICAgICAgICAgIHZhciBodG1sXzk2YjA4OTgwMjY1NTRiMDI4YzI3OTg2YjNkOTM1NzMwID0gJChgPGRpdiBpZD0iaHRtbF85NmIwODk4MDI2NTU0YjAyOGMyNzk4NmIzZDkzNTczMCIgc3R5bGU9IndpZHRoOiAxMDAuMCU7IGhlaWdodDogMTAwLjAlOyI+ICAgICBIb3RlbDogRG91YmxlVHJlZSBieSBIaWx0b24gVG9yb250byBBaXJwb3J0ICAgICA8YnI+ICAgICBSYXRpbmc6IDcuNCAgICAgPGJyPiAgICAgRGlzdGFuY2U6IDE3MDU3Ljk2MjA3NTQ1MDE0IG0gICAgIDxicj4gICAgIENsdXN0ZXI6IDEgICAgIDxicj4gICAgIFJvZDogMC4wMDA0MzM4MTUwMTA2ODM0OTE4ICAgICA8L2Rpdj5gKVswXTsKICAgICAgICAgICAgcG9wdXBfMDljYmJlZDkxZjIxNGI0MmFlNWFlMGM4MzgxZmVkMjkuc2V0Q29udGVudChodG1sXzk2YjA4OTgwMjY1NTRiMDI4YzI3OTg2YjNkOTM1NzMwKTsKICAgICAgICAKCiAgICAgICAgY2lyY2xlX21hcmtlcl81ZDhjNzlmNzRiM2Y0OTdiOTUwZWE3ZTRjYWM3NDUwNS5iaW5kUG9wdXAocG9wdXBfMDljYmJlZDkxZjIxNGI0MmFlNWFlMGM4MzgxZmVkMjkpCiAgICAgICAgOwoKICAgICAgICAKICAgIAogICAgCiAgICAgICAgICAgIHZhciBjaXJjbGVfbWFya2VyX2UyODMzYzA5YjZhMDQxYjJiZDYzOGQxZDM2YmE5YWM0ID0gTC5jaXJjbGVNYXJrZXIoCiAgICAgICAgICAgICAgICBbNDMuNzc3MDcwMSwgLTc5LjI4MjgyMl0sCiAgICAgICAgICAgICAgICB7ImJ1YmJsaW5nTW91c2VFdmVudHMiOiB0cnVlLCAiY29sb3IiOiAiIzgwMDBmZiIsICJkYXNoQXJyYXkiOiBudWxsLCAiZGFzaE9mZnNldCI6IG51bGwsICJmaWxsIjogdHJ1ZSwgImZpbGxDb2xvciI6ICIjODAwMGZmIiwgImZpbGxPcGFjaXR5IjogMC43LCAiZmlsbFJ1bGUiOiAiZXZlbm9kZCIsICJsaW5lQ2FwIjogInJvdW5kIiwgImxpbmVKb2luIjogInJvdW5kIiwgIm9wYWNpdHkiOiAxLjAsICJyYWRpdXMiOiAzLCAic3Ryb2tlIjogdHJ1ZSwgIndlaWdodCI6IDN9CiAgICAgICAgICAgICkuYWRkVG8obWFwXzU2NGNiMjlmYmQyYTRkYmI4MjhkMGUwODFhNmZiODk2KTsKICAgICAgICAKICAgIAogICAgICAgIHZhciBwb3B1cF80ZTA4MzRmZjA1MzQ0MmE3OWVkOGZhYTAyNjNkNzNhOCA9IEwucG9wdXAoeyJtYXhXaWR0aCI6IDI2NTB9KTsKCiAgICAgICAgCiAgICAgICAgICAgIHZhciBodG1sXzBhNzMzNDE0ZTNmMjQ1NmM5NmViMzk3MGM2M2ZkMjQ4ID0gJChgPGRpdiBpZD0iaHRtbF8wYTczMzQxNGUzZjI0NTZjOTZlYjM5NzBjNjNmZDI0OCIgc3R5bGU9IndpZHRoOiAxMDAuMCU7IGhlaWdodDogMTAwLjAlOyI+ICAgICBIb3RlbDogRGVsdGEgSG90ZWxzIGJ5IE1hcnJpb3R0IFRvcm9udG8gRWFzdCAgICAgPGJyPiAgICAgUmF0aW5nOiA2LjYgICAgIDxicj4gICAgIERpc3RhbmNlOiAxNTg0OS42MDU1NDcwNjczNiBtICAgICA8YnI+ICAgICBDbHVzdGVyOiAxICAgICA8YnI+ICAgICBSb2Q6IDAuMDAwNDE2NDE0MTQ4NjI5Nzg2NzQgICAgIDwvZGl2PmApWzBdOwogICAgICAgICAgICBwb3B1cF80ZTA4MzRmZjA1MzQ0MmE3OWVkOGZhYTAyNjNkNzNhOC5zZXRDb250ZW50KGh0bWxfMGE3MzM0MTRlM2YyNDU2Yzk2ZWIzOTcwYzYzZmQyNDgpOwogICAgICAgIAoKICAgICAgICBjaXJjbGVfbWFya2VyX2UyODMzYzA5YjZhMDQxYjJiZDYzOGQxZDM2YmE5YWM0LmJpbmRQb3B1cChwb3B1cF80ZTA4MzRmZjA1MzQ0MmE3OWVkOGZhYTAyNjNkNzNhOCkKICAgICAgICA7CgogICAgICAgIAogICAgCiAgICAKICAgICAgICAgICAgdmFyIGNpcmNsZV9tYXJrZXJfMmE3MzJjYzE0NWNlNGY1Mzk4OGUyNTJiNGQ0N2VjYTMgPSBMLmNpcmNsZU1hcmtlcigKICAgICAgICAgICAgICAgIFs0My42ODk5MTgzNzY0OTg1NTQsIC03OS41OTA0MjY3NDg2MDg2XSwKICAgICAgICAgICAgICAgIHsiYnViYmxpbmdNb3VzZUV2ZW50cyI6IHRydWUsICJjb2xvciI6ICIjODAwMGZmIiwgImRhc2hBcnJheSI6IG51bGwsICJkYXNoT2Zmc2V0IjogbnVsbCwgImZpbGwiOiB0cnVlLCAiZmlsbENvbG9yIjogIiM4MDAwZmYiLCAiZmlsbE9wYWNpdHkiOiAwLjcsICJmaWxsUnVsZSI6ICJldmVub2RkIiwgImxpbmVDYXAiOiAicm91bmQiLCAibGluZUpvaW4iOiAicm91bmQiLCAib3BhY2l0eSI6IDEuMCwgInJhZGl1cyI6IDMsICJzdHJva2UiOiB0cnVlLCAid2VpZ2h0IjogM30KICAgICAgICAgICAgKS5hZGRUbyhtYXBfNTY0Y2IyOWZiZDJhNGRiYjgyOGQwZTA4MWE2ZmI4OTYpOwogICAgICAgIAogICAgCiAgICAgICAgdmFyIHBvcHVwX2EyYmY3MGE4ZWU0OTQ5NWM5NjlhODIwOTM2ZTVjY2U5ID0gTC5wb3B1cCh7Im1heFdpZHRoIjogMjY1MH0pOwoKICAgICAgICAKICAgICAgICAgICAgdmFyIGh0bWxfYmRhY2VhZDlmNGU0NDdlNWEwYmU1ZDc4MzIzMjRkYmUgPSAkKGA8ZGl2IGlkPSJodG1sX2JkYWNlYWQ5ZjRlNDQ3ZTVhMGJlNWQ3ODMyMzI0ZGJlIiBzdHlsZT0id2lkdGg6IDEwMC4wJTsgaGVpZ2h0OiAxMDAuMCU7Ij4gICAgIEhvdGVsOiBTYW5kbWFuIFNpZ25hdHVyZSBIb3RlbCBUb3JvbnRvIEFpcnBvcnQgICAgIDxicj4gICAgIFJhdGluZzogNi42ICAgICA8YnI+ICAgICBEaXN0YW5jZTogMTY2NjguNjE0NjAzODkzNTMgbSAgICAgPGJyPiAgICAgQ2x1c3RlcjogMSAgICAgPGJyPiAgICAgUm9kOiAwLjAwMDM5NTk1MzcyMjQyMDIzODk3ICAgICA8L2Rpdj5gKVswXTsKICAgICAgICAgICAgcG9wdXBfYTJiZjcwYThlZTQ5NDk1Yzk2OWE4MjA5MzZlNWNjZTkuc2V0Q29udGVudChodG1sX2JkYWNlYWQ5ZjRlNDQ3ZTVhMGJlNWQ3ODMyMzI0ZGJlKTsKICAgICAgICAKCiAgICAgICAgY2lyY2xlX21hcmtlcl8yYTczMmNjMTQ1Y2U0ZjUzOTg4ZTI1MmI0ZDQ3ZWNhMy5iaW5kUG9wdXAocG9wdXBfYTJiZjcwYThlZTQ5NDk1Yzk2OWE4MjA5MzZlNWNjZTkpCiAgICAgICAgOwoKICAgICAgICAKICAgIAogICAgCiAgICAgICAgICAgIHZhciBjaXJjbGVfbWFya2VyXzRkOWMyNWZjZTAyYzRjMWRiOWY0NmNkZmMyMjU2ZGY4ID0gTC5jaXJjbGVNYXJrZXIoCiAgICAgICAgICAgICAgICBbNDMuNjUyMzY2MDg2NzAyMDgsIC03OS42MDEyOTEwNTQxMjc4M10sCiAgICAgICAgICAgICAgICB7ImJ1YmJsaW5nTW91c2VFdmVudHMiOiB0cnVlLCAiY29sb3IiOiAiIzgwMDBmZiIsICJkYXNoQXJyYXkiOiBudWxsLCAiZGFzaE9mZnNldCI6IG51bGwsICJmaWxsIjogdHJ1ZSwgImZpbGxDb2xvciI6ICIjODAwMGZmIiwgImZpbGxPcGFjaXR5IjogMC43LCAiZmlsbFJ1bGUiOiAiZXZlbm9kZCIsICJsaW5lQ2FwIjogInJvdW5kIiwgImxpbmVKb2luIjogInJvdW5kIiwgIm9wYWNpdHkiOiAxLjAsICJyYWRpdXMiOiAzLCAic3Ryb2tlIjogdHJ1ZSwgIndlaWdodCI6IDN9CiAgICAgICAgICAgICkuYWRkVG8obWFwXzU2NGNiMjlmYmQyYTRkYmI4MjhkMGUwODFhNmZiODk2KTsKICAgICAgICAKICAgIAogICAgICAgIHZhciBwb3B1cF8wMTEwZjY3ZWQzYTY0NTJlYjNlZTQwMzgyMDUxZDkwOCA9IEwucG9wdXAoeyJtYXhXaWR0aCI6IDI2NTB9KTsKCiAgICAgICAgCiAgICAgICAgICAgIHZhciBodG1sX2ZiNmIwZTkwM2EwMDRjNjdiNTk1NDhlNzk1Mjg4NTYyID0gJChgPGRpdiBpZD0iaHRtbF9mYjZiMGU5MDNhMDA0YzY3YjU5NTQ4ZTc5NTI4ODU2MiIgc3R5bGU9IndpZHRoOiAxMDAuMCU7IGhlaWdodDogMTAwLjAlOyI+ICAgICBIb3RlbDogSG9tZXdvb2QgU3VpdGVzIGJ5IEhpbHRvbiAgICAgPGJyPiAgICAgUmF0aW5nOiA2LjcgICAgIDxicj4gICAgIERpc3RhbmNlOiAxNzI1My4zMzQ4MjI1MTEzMTUgbSAgICAgPGJyPiAgICAgQ2x1c3RlcjogMSAgICAgPGJyPiAgICAgUm9kOiAwLjAwMDM4ODMzMDcyMzgyMzc4ODggICAgIDwvZGl2PmApWzBdOwogICAgICAgICAgICBwb3B1cF8wMTEwZjY3ZWQzYTY0NTJlYjNlZTQwMzgyMDUxZDkwOC5zZXRDb250ZW50KGh0bWxfZmI2YjBlOTAzYTAwNGM2N2I1OTU0OGU3OTUyODg1NjIpOwogICAgICAgIAoKICAgICAgICBjaXJjbGVfbWFya2VyXzRkOWMyNWZjZTAyYzRjMWRiOWY0NmNkZmMyMjU2ZGY4LmJpbmRQb3B1cChwb3B1cF8wMTEwZjY3ZWQzYTY0NTJlYjNlZTQwMzgyMDUxZDkwOCkKICAgICAgICA7CgogICAgICAgIAogICAgCiAgICAKICAgICAgICAgICAgdmFyIGNpcmNsZV9tYXJrZXJfNmY1ODk0MWUzZWRiNDA5OTliNjE3MmUyYThlODMzZTUgPSBMLmNpcmNsZU1hcmtlcigKICAgICAgICAgICAgICAgIFs0My43ODM2NTY2LCAtNzkuMjM3NTExOV0sCiAgICAgICAgICAgICAgICB7ImJ1YmJsaW5nTW91c2VFdmVudHMiOiB0cnVlLCAiY29sb3IiOiAiIzgwMDBmZiIsICJkYXNoQXJyYXkiOiBudWxsLCAiZGFzaE9mZnNldCI6IG51bGwsICJmaWxsIjogdHJ1ZSwgImZpbGxDb2xvciI6ICIjODAwMGZmIiwgImZpbGxPcGFjaXR5IjogMC43LCAiZmlsbFJ1bGUiOiAiZXZlbm9kZCIsICJsaW5lQ2FwIjogInJvdW5kIiwgImxpbmVKb2luIjogInJvdW5kIiwgIm9wYWNpdHkiOiAxLjAsICJyYWRpdXMiOiAzLCAic3Ryb2tlIjogdHJ1ZSwgIndlaWdodCI6IDN9CiAgICAgICAgICAgICkuYWRkVG8obWFwXzU2NGNiMjlmYmQyYTRkYmI4MjhkMGUwODFhNmZiODk2KTsKICAgICAgICAKICAgIAogICAgICAgIHZhciBwb3B1cF8zNjk1NWJmN2E0ZDU0ZDY4ODM3ZTIwNmMxODY3NzE3ZCA9IEwucG9wdXAoeyJtYXhXaWR0aCI6IDI2NTB9KTsKCiAgICAgICAgCiAgICAgICAgICAgIHZhciBodG1sXzI0NTc4NDVjYmM3MTRhOWVhM2NiYjYzNjhlMWU0ODQyID0gJChgPGRpdiBpZD0iaHRtbF8yNDU3ODQ1Y2JjNzE0YTllYTNjYmI2MzY4ZTFlNDg0MiIgc3R5bGU9IndpZHRoOiAxMDAuMCU7IGhlaWdodDogMTAwLjAlOyI+ICAgICBIb3RlbDogQmVzdCBXZXN0ZXJuIFBsdXMgRXhlY3V0aXZlIElubiAgICAgPGJyPiAgICAgUmF0aW5nOiA3LjIgICAgIDxicj4gICAgIERpc3RhbmNlOiAxODYzMi40MDM5NTgxMzc4NCBtICAgICA8YnI+ICAgICBDbHVzdGVyOiAxICAgICA8YnI+ICAgICBSb2Q6IDAuMDAwMzg2NDIzNTY3MDM4MTgzOTMgICAgIDwvZGl2PmApWzBdOwogICAgICAgICAgICBwb3B1cF8zNjk1NWJmN2E0ZDU0ZDY4ODM3ZTIwNmMxODY3NzE3ZC5zZXRDb250ZW50KGh0bWxfMjQ1Nzg0NWNiYzcxNGE5ZWEzY2JiNjM2OGUxZTQ4NDIpOwogICAgICAgIAoKICAgICAgICBjaXJjbGVfbWFya2VyXzZmNTg5NDFlM2VkYjQwOTk5YjYxNzJlMmE4ZTgzM2U1LmJpbmRQb3B1cChwb3B1cF8zNjk1NWJmN2E0ZDU0ZDY4ODM3ZTIwNmMxODY3NzE3ZCkKICAgICAgICA7CgogICAgICAgIAogICAgCiAgICAKICAgICAgICAgICAgdmFyIGNpcmNsZV9tYXJrZXJfNTdlOTA2ZWFhZGU5NGY1ZTk3YWJkNzA1OGUwM2RmYTggPSBMLmNpcmNsZU1hcmtlcigKICAgICAgICAgICAgICAgIFs0My42ODY0NTU3Mzk1MTgxOSwgLTc5LjYyMDAwMjE1MjExNDg2XSwKICAgICAgICAgICAgICAgIHsiYnViYmxpbmdNb3VzZUV2ZW50cyI6IHRydWUsICJjb2xvciI6ICIjODAwMGZmIiwgImRhc2hBcnJheSI6IG51bGwsICJkYXNoT2Zmc2V0IjogbnVsbCwgImZpbGwiOiB0cnVlLCAiZmlsbENvbG9yIjogIiM4MDAwZmYiLCAiZmlsbE9wYWNpdHkiOiAwLjcsICJmaWxsUnVsZSI6ICJldmVub2RkIiwgImxpbmVDYXAiOiAicm91bmQiLCAibGluZUpvaW4iOiAicm91bmQiLCAib3BhY2l0eSI6IDEuMCwgInJhZGl1cyI6IDMsICJzdHJva2UiOiB0cnVlLCAid2VpZ2h0IjogM30KICAgICAgICAgICAgKS5hZGRUbyhtYXBfNTY0Y2IyOWZiZDJhNGRiYjgyOGQwZTA4MWE2ZmI4OTYpOwogICAgICAgIAogICAgCiAgICAgICAgdmFyIHBvcHVwXzQ1ZWY4MjkyNjcwNTQ1NmNhNWJlZmU5NzEyZGM5OTVhID0gTC5wb3B1cCh7Im1heFdpZHRoIjogMjY1MH0pOwoKICAgICAgICAKICAgICAgICAgICAgdmFyIGh0bWxfODY2Mjg5MmY1ODJmNDQ3Y2E0MjBiMGYzM2Q5Yzc2MmMgPSAkKGA8ZGl2IGlkPSJodG1sXzg2NjI4OTJmNTgyZjQ0N2NhNDIwYjBmMzNkOWM3NjJjIiBzdHlsZT0id2lkdGg6IDEwMC4wJTsgaGVpZ2h0OiAxMDAuMCU7Ij4gICAgIEhvdGVsOiBTaGVyYXRvbiBHYXRld2F5IEhvdGVsIGluIFRvcm9udG8gSW50ZXJuYXRpb25hbCBBaXJwb3J0ICAgICA8YnI+ICAgICBSYXRpbmc6IDYuNyAgICAgPGJyPiAgICAgRGlzdGFuY2U6IDE4OTMwLjEzOTk2OTA2NzQ0IG0gICAgIDxicj4gICAgIENsdXN0ZXI6IDEgICAgIDxicj4gICAgIFJvZDogMC4wMDAzNTM5MzI5MzUwNDE1ODE5ICAgICA8L2Rpdj5gKVswXTsKICAgICAgICAgICAgcG9wdXBfNDVlZjgyOTI2NzA1NDU2Y2E1YmVmZTk3MTJkYzk5NWEuc2V0Q29udGVudChodG1sXzg2NjI4OTJmNTgyZjQ0N2NhNDIwYjBmMzNkOWM3NjJjKTsKICAgICAgICAKCiAgICAgICAgY2lyY2xlX21hcmtlcl81N2U5MDZlYWFkZTk0ZjVlOTdhYmQ3MDU4ZTAzZGZhOC5iaW5kUG9wdXAocG9wdXBfNDVlZjgyOTI2NzA1NDU2Y2E1YmVmZTk3MTJkYzk5NWEpCiAgICAgICAgOwoKICAgICAgICAKICAgIAogICAgCiAgICAgICAgICAgIHZhciBtYXJrZXJfYTRiMjdmMzJjYjI2NGZkM2I3NzQ1NWI1NzA3OWViOGEgPSBMLm1hcmtlcigKICAgICAgICAgICAgICAgIFs0My42NzE3OTY0MzU4MTY4MiwgLTc5LjM4OTQ1NjkwNDIwMTI0XSwKICAgICAgICAgICAgICAgIHt9CiAgICAgICAgICAgICkuYWRkVG8obWFwXzU2NGNiMjlmYmQyYTRkYmI4MjhkMGUwODFhNmZiODk2KTsKICAgICAgICAKICAgIAogICAgICAgIHZhciBwb3B1cF83YmIyNjU5NzVhMzQ0NzA5YmM2NWFjODI2MWZmNjM5MCA9IEwucG9wdXAoeyJtYXhXaWR0aCI6IDI2NTB9KTsKCiAgICAgICAgCiAgICAgICAgICAgIHZhciBodG1sXzJkMzVlNDI0MjVjNzRkOGNhZjc0ZmRlYmY0ZDA1NDIyID0gJChgPGRpdiBpZD0iaHRtbF8yZDM1ZTQyNDI1Yzc0ZDhjYWY3NGZkZWJmNGQwNTQyMiIgc3R5bGU9IndpZHRoOiAxMDAuMCU7IGhlaWdodDogMTAwLjAlOyI+ICAgICBSZWNvbW1lbmRhdGlvbjogICAgIDxicj4gICAgIEhvdGVsOiBGb3VyIFNlYXNvbnMgSG90ZWwgVG9yb250byAgICAgPGJyPiAgICAgQ2x1c3RlcjogMiAgICAgPC9kaXY+YClbMF07CiAgICAgICAgICAgIHBvcHVwXzdiYjI2NTk3NWEzNDQ3MDliYzY1YWM4MjYxZmY2MzkwLnNldENvbnRlbnQoaHRtbF8yZDM1ZTQyNDI1Yzc0ZDhjYWY3NGZkZWJmNGQwNTQyMik7CiAgICAgICAgCgogICAgICAgIG1hcmtlcl9hNGIyN2YzMmNiMjY0ZmQzYjc3NDU1YjU3MDc5ZWI4YS5iaW5kUG9wdXAocG9wdXBfN2JiMjY1OTc1YTM0NDcwOWJjNjVhYzgyNjFmZjYzOTApCiAgICAgICAgOwoKICAgICAgICAKICAgIAo8L3NjcmlwdD4=\" style=\"position:absolute;width:100%;height:100%;left:0;top:0;border:none !important;\" allowfullscreen webkitallowfullscreen mozallowfullscreen></iframe></div></div>"
      ],
      "text/plain": [
       "<folium.folium.Map at 0xc5a9198>"
      ]
     },
     "execution_count": 26,
     "metadata": {},
     "output_type": "execute_result"
    }
   ],
   "source": [
    "map_tt = folium.Map(location=[df_hotels['lat'].mean(), df_hotels['lng'].mean()], \n",
    "                    zoom_start=10,\n",
    "                    tiles='cartodbdark_matter')\n",
    "\n",
    "# Add attraction markers to map\n",
    "for name, lat, lng  in zip(df_attr['name'],\n",
    "                           df_attr['lat'], \n",
    "                           df_attr['lng']):\n",
    "   \n",
    "    html=\"\"\"\n",
    "    Attraction: {}\n",
    "    \"\"\".format(name)\n",
    "    popup = folium.Popup(html=html, max_width=2650)\n",
    "    \n",
    "    folium.CircleMarker(\n",
    "        [lat, lng],\n",
    "        radius=8,\n",
    "        popup=popup,\n",
    "        color='blue',\n",
    "        fill=True,\n",
    "        fill_color='#3186cc',\n",
    "        fill_opacity=0.7,\n",
    "        parse_html=False).add_to(map_tt)  \n",
    "\n",
    "# Add hotel markers to map\n",
    "\n",
    "# set color scheme for the clusters\n",
    "x = np.arange(num_clusters)\n",
    "ys = [i + x + (i*x)**2 for i in range(num_clusters)]\n",
    "colors_array = cm.rainbow(np.linspace(0, 1, len(ys)))\n",
    "rainbow = [colors.rgb2hex(i) for i in colors_array]\n",
    "\n",
    "for name,lat,lng,cluster,rating,dist,rod in zip(df_hotels['name'],\n",
    "                        df_hotels['lat'],\n",
    "                        df_hotels['lng'],\n",
    "                        df_hotels['cluster'],\n",
    "                        df_hotels['rating'],\n",
    "                        df_hotels['dist'],\n",
    "                        df_hotels['rod']):\n",
    "  \n",
    "    html=\"\"\"\n",
    "    Hotel: {}\n",
    "    <br>\n",
    "    Rating: {}\n",
    "    <br>\n",
    "    Distance: {} m\n",
    "    <br>\n",
    "    Cluster: {}\n",
    "    <br>\n",
    "    Rod: {}\n",
    "    \"\"\".format(name,rating,dist,cluster,rod)\n",
    "    popup = folium.Popup(html=html, max_width=2650)\n",
    "\n",
    "    \n",
    "    folium.CircleMarker(\n",
    "        [lat, lng],\n",
    "        radius=3,\n",
    "        popup=popup,\n",
    "        color=rainbow[cluster-1],\n",
    "        fill=True,\n",
    "        fill_color=rainbow[cluster-1],\n",
    "        fill_opacity=0.7,\n",
    "        parse_html=False).add_to(map_tt)\n",
    "\n",
    "    \n",
    "# Add recommendation marker to the map\n",
    "html_recommend = \"\"\"\n",
    "    Recommendation:\n",
    "    <br>\n",
    "    Hotel: {}\n",
    "    <br>\n",
    "    Cluster: {}\n",
    "    \"\"\".format(df_hotels['name'][0], df_hotels['cluster'][0])\n",
    "\n",
    "folium.Marker(\n",
    "    [df_hotels['lat'][0], df_hotels['lng'][0]],\n",
    "    popup = folium.Popup(html=html_recommend, max_width=2650)\n",
    "    ).add_to(map_tt)  \n",
    "    \n",
    "map_tt"
   ]
  },
  {
   "cell_type": "markdown",
   "metadata": {},
   "source": [
    "The hotels far away from the attractions have a distinct color from those close to the attractions. The large average distance between the hotel and attractions is making the difference in k-means clustering. The pointy marker shows the best hotel(pointy marker) to recommend and the cluster it belongs to will also be recommended."
   ]
  },
  {
   "cell_type": "markdown",
   "metadata": {},
   "source": [
    "# Dicussion"
   ]
  },
  {
   "cell_type": "markdown",
   "metadata": {},
   "source": [
    "There is no data for training a model based on a human decision in this case. In fact, this is a simple recommendation based on two parameters, the average distance between the hotel and chosen attraction, the rating of the hotel. \n",
    "\n",
    "It is true that it is not accurate simply use the shortest distance between hotel to attractions.\n",
    "If local transportation information is available, more close-to-reality travel time can be calculated. As a result, smart trip planning is also possible with transportation tips."
   ]
  },
  {
   "cell_type": "markdown",
   "metadata": {},
   "source": [
    "# Conclusion"
   ]
  },
  {
   "cell_type": "markdown",
   "metadata": {},
   "source": [
    "In conclusion, this simple idea based on two parameters，the hotel ratings and the average distance hotel to attractions, to give recommendation on the hotel is possible and is close to expectation."
   ]
  }
 ],
 "metadata": {
  "kernelspec": {
   "display_name": "Python 3",
   "language": "python",
   "name": "python3"
  },
  "language_info": {
   "codemirror_mode": {
    "name": "ipython",
    "version": 3
   },
   "file_extension": ".py",
   "mimetype": "text/x-python",
   "name": "python",
   "nbconvert_exporter": "python",
   "pygments_lexer": "ipython3",
   "version": "3.6.5"
  }
 },
 "nbformat": 4,
 "nbformat_minor": 2
}
